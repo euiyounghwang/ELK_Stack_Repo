{
 "cells": [
  {
   "cell_type": "code",
   "execution_count": 43,
   "id": "38514868-5600-4440-a3ae-c5e6d99d4072",
   "metadata": {},
   "outputs": [],
   "source": [
    "a = [1, 2, 2, 3, 4, 4, 5]\n",
    "# Target\n",
    "# [1,3,5]"
   ]
  },
  {
   "cell_type": "code",
   "execution_count": 44,
   "id": "87800aa7-7a63-4508-ac7b-518141d36e23",
   "metadata": {},
   "outputs": [
    {
     "name": "stdout",
     "output_type": "stream",
     "text": [
      "final **\n",
      "[1, 3, 5]\n"
     ]
    }
   ],
   "source": [
    "filter = []\n",
    "for idx, element in enumerate(a):\n",
    "    if idx+1 < len(a):\n",
    "        if a[idx] == a[idx+1]:\n",
    "            filter.append(a[idx])\n",
    "# print(filter)\n",
    "result = []\n",
    "for element in a:\n",
    "    if element not in filter:\n",
    "        result.append(element)\n",
    "\n",
    "print('final **')\n",
    "print(result)"
   ]
  }
 ],
 "metadata": {
  "kernelspec": {
   "display_name": "Python 3 (ipykernel)",
   "language": "python",
   "name": "python3"
  },
  "language_info": {
   "codemirror_mode": {
    "name": "ipython",
    "version": 3
   },
   "file_extension": ".py",
   "mimetype": "text/x-python",
   "name": "python",
   "nbconvert_exporter": "python",
   "pygments_lexer": "ipython3",
   "version": "3.11.7"
  }
 },
 "nbformat": 4,
 "nbformat_minor": 5
}
