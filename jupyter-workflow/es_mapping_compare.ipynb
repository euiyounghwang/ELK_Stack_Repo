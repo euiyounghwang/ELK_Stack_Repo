{
 "cells": [
  {
   "cell_type": "code",
   "execution_count": 49,
   "id": "e8f33180-a0b5-40ac-94f8-4f7712f937e9",
   "metadata": {},
   "outputs": [
    {
     "name": "stdout",
     "output_type": "stream",
     "text": [
      "ELK Upgrade Index mapping compare\n"
     ]
    }
   ],
   "source": [
    "print(f\"ELK Upgrade Index mapping compare\")"
   ]
  },
  {
   "cell_type": "code",
   "execution_count": 50,
   "id": "a05335cd-c63d-4067-ad4b-fc772e327d8e",
   "metadata": {},
   "outputs": [
    {
     "name": "stdout",
     "output_type": "stream",
     "text": [
      "Requirement already satisfied: jsondiff in c:\\users\\euiyoung.hwang\\git_workspace\\elk-stack-upgrade\\.venv\\lib\\site-packages (2.2.1)\n",
      "Requirement already satisfied: pyyaml in c:\\users\\euiyoung.hwang\\git_workspace\\elk-stack-upgrade\\.venv\\lib\\site-packages (from jsondiff) (6.0.2)\n"
     ]
    },
    {
     "name": "stderr",
     "output_type": "stream",
     "text": [
      "\n",
      "[notice] A new release of pip is available: 24.2 -> 25.0.1\n",
      "[notice] To update, run: python.exe -m pip install --upgrade pip\n"
     ]
    }
   ],
   "source": [
    "!pip install jsondiff"
   ]
  },
  {
   "cell_type": "code",
   "execution_count": 51,
   "id": "7690375e-8dd4-4e49-af9f-fce841d87084",
   "metadata": {},
   "outputs": [],
   "source": [
    "#!pip install ipywidgets"
   ]
  },
  {
   "cell_type": "code",
   "execution_count": 52,
   "id": "909ec092-328e-46b6-8ebd-8622be5a7048",
   "metadata": {},
   "outputs": [],
   "source": [
    "from elasticsearch import Elasticsearch\n",
    "import os\n",
    "import json\n",
    "import pandas as pd\n",
    "import jsondiff\n",
    "from dotenv import load_dotenv\n",
    "import warnings\n",
    "warnings.filterwarnings(\"ignore\")"
   ]
  },
  {
   "cell_type": "code",
   "execution_count": 53,
   "id": "a86b6fda-6991-4c57-8fdd-e94aa6789e2b",
   "metadata": {},
   "outputs": [
    {
     "data": {
      "text/plain": [
       "True"
      ]
     },
     "execution_count": 53,
     "metadata": {},
     "output_type": "execute_result"
    }
   ],
   "source": [
    "''' pip install python-dotenv'''\n",
    "load_dotenv() # will search for .env file in local folder and load variables "
   ]
  },
  {
   "cell_type": "code",
   "execution_count": 54,
   "id": "568face8-675b-4244-b996-a717918a4eca",
   "metadata": {},
   "outputs": [],
   "source": [
    "from ipywidgets import interact, widgets\n",
    "from IPython.display import display"
   ]
  },
  {
   "cell_type": "code",
   "execution_count": 55,
   "id": "f5e3460c-b847-4264-8396-da82aa1357d0",
   "metadata": {},
   "outputs": [],
   "source": [
    "from ipywidgets import interact\n",
    "\n",
    "# @interact\n",
    "# def greet(name=\"World\", count=5):\n",
    "#     for _ in range(count):\n",
    "#         print(f\"Hello, {name}!\")\n"
   ]
  },
  {
   "cell_type": "code",
   "execution_count": 56,
   "id": "bc86becd-79f8-41f8-9ab5-84aefe102651",
   "metadata": {},
   "outputs": [],
   "source": [
    "''' Input ES url '''\n",
    "# print('Enter source ES cluster url:')\n",
    "# source = input()\n",
    "# print('Enter target ES cluster url:')\n",
    "# target = input()\n",
    "source = \"http://localhost:9201\"\n",
    "target = \"http://localhost:9202\"\n"
   ]
  },
  {
   "cell_type": "code",
   "execution_count": 57,
   "id": "72cad09b-b807-405d-a9df-70b071d27e40",
   "metadata": {},
   "outputs": [],
   "source": [
    "def get_headers():\n",
    "    ''' Elasticsearch Header '''\n",
    "    return {\n",
    "            'Content-type': 'application/json', \n",
    "            'Authorization' : '{}'.format(os.getenv('BASIC_AUTH')),\n",
    "            # 'Connection': 'close'\n",
    "    }"
   ]
  },
  {
   "cell_type": "code",
   "execution_count": 58,
   "id": "80c96a17-7bc3-4f42-80bc-f3ca2e5467d8",
   "metadata": {},
   "outputs": [],
   "source": [
    "def get_es_instance(host):\n",
    "    es_client = Elasticsearch(hosts=\"{}\".format(host), headers=get_headers(), timeout=5,  verify_certs=False)\n",
    "    return es_client\n",
    "\n",
    "''' Source cluster '''\n",
    "es_obj_s_client = get_es_instance(f\"{source}\")\n",
    "''' Target cluster '''\n",
    "es_obj_t_client = get_es_instance(f\"{target}\")"
   ]
  },
  {
   "cell_type": "code",
   "execution_count": 59,
   "id": "3ff6e299-2a44-417a-b339-40e6f5b82d9c",
   "metadata": {},
   "outputs": [
    {
     "name": "stdout",
     "output_type": "stream",
     "text": [
      "{\n",
      "  \"cluster_name\": \"docker-cluster\",\n",
      "  \"status\": \"yellow\",\n",
      "  \"timed_out\": false,\n",
      "  \"number_of_nodes\": 1,\n",
      "  \"number_of_data_nodes\": 1,\n",
      "  \"active_primary_shards\": 114,\n",
      "  \"active_shards\": 114,\n",
      "  \"relocating_shards\": 0,\n",
      "  \"initializing_shards\": 0,\n",
      "  \"unassigned_shards\": 114,\n",
      "  \"delayed_unassigned_shards\": 0,\n",
      "  \"number_of_pending_tasks\": 0,\n",
      "  \"number_of_in_flight_fetch\": 0,\n",
      "  \"task_max_waiting_in_queue_millis\": 0,\n",
      "  \"active_shards_percent_as_number\": 50.0\n",
      "}\n"
     ]
    }
   ],
   "source": [
    "resp = es_obj_s_client.cluster.health()\n",
    "print(json.dumps(resp, indent=2))"
   ]
  },
  {
   "cell_type": "code",
   "execution_count": 60,
   "id": "84b1e196-cd60-4cdc-9374-85b79cb89443",
   "metadata": {},
   "outputs": [
    {
     "data": {
      "text/html": [
       "<div>\n",
       "<style scoped>\n",
       "    .dataframe tbody tr th:only-of-type {\n",
       "        vertical-align: middle;\n",
       "    }\n",
       "\n",
       "    .dataframe tbody tr th {\n",
       "        vertical-align: top;\n",
       "    }\n",
       "\n",
       "    .dataframe thead th {\n",
       "        text-align: right;\n",
       "    }\n",
       "</style>\n",
       "<table border=\"1\" class=\"dataframe\">\n",
       "  <thead>\n",
       "    <tr style=\"text-align: right;\">\n",
       "      <th></th>\n",
       "      <th>cluster_name</th>\n",
       "      <th>status</th>\n",
       "      <th>timed_out</th>\n",
       "      <th>number_of_nodes</th>\n",
       "      <th>number_of_data_nodes</th>\n",
       "      <th>active_primary_shards</th>\n",
       "      <th>active_shards</th>\n",
       "      <th>relocating_shards</th>\n",
       "      <th>initializing_shards</th>\n",
       "      <th>unassigned_shards</th>\n",
       "      <th>delayed_unassigned_shards</th>\n",
       "      <th>number_of_pending_tasks</th>\n",
       "      <th>number_of_in_flight_fetch</th>\n",
       "      <th>task_max_waiting_in_queue_millis</th>\n",
       "      <th>active_shards_percent_as_number</th>\n",
       "    </tr>\n",
       "  </thead>\n",
       "  <tbody>\n",
       "    <tr>\n",
       "      <th>0</th>\n",
       "      <td>docker-cluster</td>\n",
       "      <td>yellow</td>\n",
       "      <td>False</td>\n",
       "      <td>1</td>\n",
       "      <td>1</td>\n",
       "      <td>114</td>\n",
       "      <td>114</td>\n",
       "      <td>0</td>\n",
       "      <td>0</td>\n",
       "      <td>114</td>\n",
       "      <td>0</td>\n",
       "      <td>0</td>\n",
       "      <td>0</td>\n",
       "      <td>0</td>\n",
       "      <td>50.0</td>\n",
       "    </tr>\n",
       "  </tbody>\n",
       "</table>\n",
       "</div>"
      ],
      "text/plain": [
       "     cluster_name  status  timed_out  number_of_nodes  number_of_data_nodes  \\\n",
       "0  docker-cluster  yellow      False                1                     1   \n",
       "\n",
       "   active_primary_shards  active_shards  relocating_shards  \\\n",
       "0                    114            114                  0   \n",
       "\n",
       "   initializing_shards  unassigned_shards  delayed_unassigned_shards  \\\n",
       "0                    0                114                          0   \n",
       "\n",
       "   number_of_pending_tasks  number_of_in_flight_fetch  \\\n",
       "0                        0                          0   \n",
       "\n",
       "   task_max_waiting_in_queue_millis  active_shards_percent_as_number  \n",
       "0                                 0                             50.0  "
      ]
     },
     "execution_count": 60,
     "metadata": {},
     "output_type": "execute_result"
    }
   ],
   "source": [
    "df = pd.DataFrame.from_dict([resp])\n",
    "df.head(10)"
   ]
  },
  {
   "cell_type": "code",
   "execution_count": 61,
   "id": "e25227d0-62c8-4ea1-aa6a-59e59b103bf4",
   "metadata": {},
   "outputs": [
    {
     "name": "stdout",
     "output_type": "stream",
     "text": [
      "{\n",
      "  \"cluster_name\": \"docker-elasticsearch\",\n",
      "  \"status\": \"yellow\",\n",
      "  \"timed_out\": false,\n",
      "  \"number_of_nodes\": 1,\n",
      "  \"number_of_data_nodes\": 1,\n",
      "  \"active_primary_shards\": 80,\n",
      "  \"active_shards\": 80,\n",
      "  \"relocating_shards\": 0,\n",
      "  \"initializing_shards\": 0,\n",
      "  \"unassigned_shards\": 56,\n",
      "  \"delayed_unassigned_shards\": 0,\n",
      "  \"number_of_pending_tasks\": 0,\n",
      "  \"number_of_in_flight_fetch\": 0,\n",
      "  \"task_max_waiting_in_queue_millis\": 0,\n",
      "  \"active_shards_percent_as_number\": 58.82352941176471\n",
      "}\n"
     ]
    }
   ],
   "source": [
    "resp = es_obj_t_client.cluster.health()\n",
    "print(json.dumps(resp, indent=2))"
   ]
  },
  {
   "cell_type": "code",
   "execution_count": null,
   "id": "c9540c65-9eca-42b7-adc8-1716fea84b93",
   "metadata": {},
   "outputs": [],
   "source": []
  },
  {
   "cell_type": "markdown",
   "id": "cfde6acd-d487-417c-88e3-352d753fee4c",
   "metadata": {},
   "source": [
    "## Compare the mapping from all indices in source cluster with target cluster"
   ]
  },
  {
   "cell_type": "code",
   "execution_count": 62,
   "id": "29c6d6b1-33ef-40e0-a159-c0e4267240cb",
   "metadata": {},
   "outputs": [
    {
     "data": {
      "text/html": [
       "<pre style=\"white-space:pre;overflow-x:auto;line-height:normal;font-family:Menlo,'DejaVu Sans Mono',consolas,'Courier New',monospace\">Reindex Report between source cluster : &lt;Elasticsearch([{'host': 'localhost', 'port': 9201}])&gt; and target Cluster :\n",
       "&lt;Elasticsearch([{'host': 'localhost', 'port': 9202}])&gt;                                                             \n",
       "</pre>\n"
      ],
      "text/plain": [
       "Reindex Report between source cluster : <Elasticsearch([{'host': 'localhost', 'port': 9201}])> and target Cluster :\n",
       "<Elasticsearch([{'host': 'localhost', 'port': 9202}])>                                                             \n"
      ]
     },
     "execution_count": 62,
     "metadata": {},
     "output_type": "execute_result"
    }
   ],
   "source": [
    "from rich.markdown import Markdown\n",
    "MARKDOWN = f\"\"\"\n",
    "Reindex Report \n",
    "between source cluster : {es_obj_s_client} and target Cluster : {es_obj_t_client}\n",
    "\"\"\"\n",
    "Markdown(MARKDOWN)"
   ]
  },
  {
   "cell_type": "code",
   "execution_count": 63,
   "id": "e270f7ee-22fa-4e22-b59e-7596dc858395",
   "metadata": {},
   "outputs": [],
   "source": [
    "# source_idx_lists = ['om_whorder_02072022_22_2_1']\n",
    "source_idx_lists = list(es_obj_s_client.indices.get(\"*\"))\n",
    "# print(source_idx_lists)"
   ]
  },
  {
   "cell_type": "code",
   "execution_count": 64,
   "id": "38b4c61a-966b-4df4-b2dd-e6e17a7e6938",
   "metadata": {},
   "outputs": [],
   "source": [
    "response = {}\n",
    "all_same_mapping = []"
   ]
  },
  {
   "cell_type": "code",
   "execution_count": 65,
   "id": "494aa853-6ed7-420f-ace2-ba46af619487",
   "metadata": {},
   "outputs": [],
   "source": [
    "def compare_mapping(index_name, diff):\n",
    "    ''' compare diff using jsondiff library '''\n",
    "    if not diff:\n",
    "        all_same_mapping.append(True)\n",
    "        response.update({index_name : {'diff' : 'Same mapping'}})\n",
    "    else:\n",
    "        all_same_mapping.append(False)\n",
    "        response.update({index_name : {'diff' : 'Different mapping', 'result' : diff}})\n",
    "    return response"
   ]
  },
  {
   "cell_type": "code",
   "execution_count": 66,
   "id": "33d8a3a8-ad03-4146-a3db-21eb4655c6f2",
   "metadata": {},
   "outputs": [],
   "source": [
    "def lookup_type_in_indices(key):\n",
    "    ''' lookup type we want to compare from the source es cluster '''\n",
    "    if \"OM_\" in key or \"WX_\" in key or \"ES_\" in key or \"ARCHIVE_\" in key:\n",
    "        return True\n",
    "    return False"
   ]
  },
  {
   "cell_type": "code",
   "execution_count": 67,
   "id": "48dabd44-00b3-494a-8f41-a001615f9075",
   "metadata": {},
   "outputs": [],
   "source": [
    "def get_mapping_from_properties(mapping, es_v5=False):\n",
    "    if es_v5:\n",
    "        return {\"properties\" : v2.get(\"properties\") for k, v in mapping.items() for k1, v1 in v.items() for k2, v2 in v1.items() if lookup_type_in_indices(k2)} \n",
    "    else:\n",
    "        return {'properties': v2 for k, v in mapping.items() for k1, v1 in v.items() for k2, v2 in v1.items() }\n",
    "            "
   ]
  },
  {
   "cell_type": "code",
   "execution_count": 68,
   "id": "42cf1e7b-735d-4e4b-86c5-601d6267b432",
   "metadata": {},
   "outputs": [],
   "source": [
    "def es_version_verify(es_client):\n",
    "    # print(es_client.info()['version']['number'], type(es_client.info()['version']['number']))\n",
    "    ''' if es_client v.5.X '''\n",
    "    if \"5.\" in es_client.info()['version']['number']:\n",
    "        return True\n",
    "    else:\n",
    "        return False"
   ]
  },
  {
   "cell_type": "code",
   "execution_count": 69,
   "id": "1f15351d-9156-4c99-9bee-03e1222c97f4",
   "metadata": {},
   "outputs": [
    {
     "name": "stdout",
     "output_type": "stream",
     "text": [
      "NotFoundError(404, 'index_not_found_exception', 'no such index [es_pipeline_upload_test03152018_01]', es_pipeline_upload_test03152018_01, index_or_alias)\n"
     ]
    }
   ],
   "source": [
    "for index_name in source_idx_lists:\n",
    "    ''' real index '''\n",
    "    if index_name.startswith(\"wx_\") or index_name.startswith(\"om_\") or index_name.startswith(\"es_\") or index_name.startswith(\"archive_es_\"):\n",
    "        \n",
    "        try:\n",
    "            source_mapping = es_obj_s_client.indices.get_mapping(index=index_name)\n",
    "            target_mapping = es_obj_t_client.indices.get_mapping(index=index_name)\n",
    "        \n",
    "            ''' Get ES v.5.6.4 mapping '''\n",
    "            source_mapping = get_mapping_from_properties(source_mapping, es_v5=es_version_verify(es_obj_s_client))\n",
    "            # print(source_mapping)\n",
    "\n",
    "            ''' Get ES v.8.17 mapping '''\n",
    "            target_mapping = get_mapping_from_properties(target_mapping, es_v5=es_version_verify(es_obj_t_client))\n",
    "            # print(target_mapping)\n",
    "        \n",
    "            # Compare JSON objects using jsondiff\n",
    "            # diff = jsondiff.diff(source_mapping, target_mapping, marshal=True, syntax=\"symmetric\")\n",
    "            diff = jsondiff.diff(source_mapping, target_mapping, marshal=True)\n",
    "        \n",
    "            ''' Compare mapping the specific index_name between source/target cluster '''\n",
    "            compare_mapping(index_name, diff)\n",
    "\n",
    "        except Exception as e:\n",
    "            print(e)\n"
   ]
  },
  {
   "cell_type": "code",
   "execution_count": 70,
   "id": "33da4060-4567-4ce6-940c-e5b6ebfd29b5",
   "metadata": {},
   "outputs": [
    {
     "data": {
      "text/html": [
       "<pre style=\"white-space:pre;overflow-x:auto;line-height:normal;font-family:Menlo,'DejaVu Sans Mono',consolas,'Courier New',monospace\">Reindex Report between source cluster : &lt;Elasticsearch([{'host': 'localhost', 'port': 9201}])&gt; and target Cluster :\n",
       "&lt;Elasticsearch([{'host': 'localhost', 'port': 9202}])&gt;                                                             \n",
       "</pre>\n"
      ],
      "text/plain": [
       "Reindex Report between source cluster : <Elasticsearch([{'host': 'localhost', 'port': 9201}])> and target Cluster :\n",
       "<Elasticsearch([{'host': 'localhost', 'port': 9202}])>                                                             \n"
      ]
     },
     "execution_count": 70,
     "metadata": {},
     "output_type": "execute_result"
    }
   ],
   "source": [
    "from rich.markdown import Markdown\n",
    "MARKDOWN = f\"\"\"\n",
    "Reindex Report \n",
    "between source cluster : {es_obj_s_client} and target Cluster : {es_obj_t_client}\n",
    "\"\"\"\n",
    "Markdown(MARKDOWN)"
   ]
  },
  {
   "cell_type": "code",
   "execution_count": 71,
   "id": "bdf5c158-92e8-43dc-83e3-8fdff2e0172a",
   "metadata": {},
   "outputs": [
    {
     "name": "stdout",
     "output_type": "stream",
     "text": [
      "{\n",
      "  \"archive_es_del_queue_active_test\": {\n",
      "    \"diff\": \"Same mapping\"\n",
      "  },\n",
      "  \"es_pipeline_upload_test_om\": {\n",
      "    \"diff\": \"Same mapping\"\n",
      "  },\n",
      "  \"es_pipeline_upload_test_wm\": {\n",
      "    \"diff\": \"Same mapping\"\n",
      "  }\n",
      "}\n"
     ]
    }
   ],
   "source": [
    "''' Compare mapping the specific index_name between source/target cluster '''\n",
    "print(json.dumps(response, indent=2))"
   ]
  },
  {
   "cell_type": "code",
   "execution_count": 72,
   "id": "79ddd6a6-2bc7-4552-b6e7-335a597e1133",
   "metadata": {},
   "outputs": [],
   "source": [
    "is_same_mapping =  all(all_same_mapping) if all_same_mapping else api_is_same_mapping"
   ]
  },
  {
   "cell_type": "code",
   "execution_count": 73,
   "id": "bf24cd85-82bf-4615-bddd-494b1c309388",
   "metadata": {},
   "outputs": [
    {
     "name": "stdout",
     "output_type": "stream",
     "text": [
      "**\n",
      "Same mappings for all indices between <Elasticsearch([{'host': 'localhost', 'port': 9201}])> and <Elasticsearch([{'host': 'localhost', 'port': 9202}])>?\n",
      "Same Mapping? True\n",
      "**\n",
      "**\n"
     ]
    }
   ],
   "source": [
    "print('**')\n",
    "print(f\"Same mappings for all indices between {es_obj_s_client} and {es_obj_t_client}?\")\n",
    "if response:\n",
    "    print(f\"Same Mapping? {is_same_mapping}\")\n",
    "print('**')\n",
    "print('**')"
   ]
  },
  {
   "cell_type": "code",
   "execution_count": null,
   "id": "de165d11-3d73-4acc-be37-6cf66c00d98b",
   "metadata": {},
   "outputs": [],
   "source": []
  }
 ],
 "metadata": {
  "kernelspec": {
   "display_name": "Python 3 (ipykernel)",
   "language": "python",
   "name": "python3"
  },
  "language_info": {
   "codemirror_mode": {
    "name": "ipython",
    "version": 3
   },
   "file_extension": ".py",
   "mimetype": "text/x-python",
   "name": "python",
   "nbconvert_exporter": "python",
   "pygments_lexer": "ipython3",
   "version": "3.11.7"
  }
 },
 "nbformat": 4,
 "nbformat_minor": 5
}
