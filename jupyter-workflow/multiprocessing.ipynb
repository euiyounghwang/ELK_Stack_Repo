{
 "cells": [
  {
   "cell_type": "code",
   "execution_count": 128,
   "id": "fdbabc2f-e977-45f5-94a5-5e4cecb13045",
   "metadata": {},
   "outputs": [],
   "source": [
    "from functools import partial\n",
    "from threading import Thread\n",
    "import multiprocessing\n",
    "import time"
   ]
  },
  {
   "cell_type": "code",
   "execution_count": 129,
   "id": "75780569-cb88-4b6b-9fce-f40a93037021",
   "metadata": {},
   "outputs": [],
   "source": [
    "def singleCount(cnt,name):\n",
    "    # print(name)\n",
    "    for i in range(1, 20000001):\n",
    "        if (i%2500000 ==0):\n",
    "            print(name, \":\", i)"
   ]
  },
  {
   "cell_type": "code",
   "execution_count": 130,
   "id": "32780c53-e755-4c04-bb3d-1098ac5d3012",
   "metadata": {},
   "outputs": [],
   "source": [
    "lists = ['1','2','3','4']"
   ]
  },
  {
   "cell_type": "code",
   "execution_count": 131,
   "id": "8637863e-9afd-42e8-aa84-9fa057ffc011",
   "metadata": {},
   "outputs": [
    {
     "name": "stdout",
     "output_type": "stream",
     "text": [
      " # # SINGLE PROCESSING # # \n",
      "1 : 2500000\n",
      "1 : 5000000\n",
      "1 : 7500000\n",
      "1 : 10000000\n",
      "1 : 12500000\n",
      "1 : 15000000\n",
      "1 : 17500000\n",
      "1 : 20000000\n",
      "2 : 2500000\n",
      "2 : 5000000\n",
      "2 : 7500000\n",
      "2 : 10000000\n",
      "2 : 12500000\n",
      "2 : 15000000\n",
      "2 : 17500000\n",
      "2 : 20000000\n",
      "3 : 2500000\n",
      "3 : 5000000\n",
      "3 : 7500000\n",
      "3 : 10000000\n",
      "3 : 12500000\n",
      "3 : 15000000\n",
      "3 : 17500000\n",
      "3 : 20000000\n",
      "4 : 2500000\n",
      "4 : 5000000\n",
      "4 : 7500000\n",
      "4 : 10000000\n",
      "4 : 12500000\n",
      "4 : 15000000\n",
      "4 : 17500000\n",
      "4 : 20000000\n",
      "SINGLE PROCESSING TIME: 7.369063854217529\n",
      "\n"
     ]
    }
   ],
   "source": [
    "# single process start\n",
    "cnt = 0\n",
    "print(\" # # SINGLE PROCESSING # # \")\n",
    "start_time = time.time()\n",
    "for each in lists:\n",
    "    singleCount(cnt, each)\n",
    "print(\"SINGLE PROCESSING TIME: %s\\n\" %(time.time()-start_time))"
   ]
  },
  {
   "cell_type": "code",
   "execution_count": 132,
   "id": "d548e8b4-d3a1-494e-9dc5-a467072ab15f",
   "metadata": {},
   "outputs": [
    {
     "name": "stdout",
     "output_type": "stream",
     "text": [
      " # # MULTI THREADING # # \n",
      "1 : 2500000\n",
      "2 : 2500000\n",
      "13 : 2500000\n",
      "4 : 2500000\n",
      "2 : 5000000\n",
      " 3 : 5000000\n",
      "2 : 7500000\n",
      ": 5000000\n",
      "31 : 7500000\n",
      " : 7500000\n",
      "2 : 10000000\n",
      "1 : 10000000\n",
      "3 : 10000000\n",
      "4 : 5000000\n",
      "23 : 12500000\n",
      " : 12500000\n",
      "1 : 12500000\n",
      "4 : 7500000\n",
      "3 : 15000000\n",
      "2 : 15000000\n",
      "1 : 15000000\n",
      "23 : 17500000\n",
      " : 17500000\n",
      "4 : 10000000\n",
      "1 : 17500000\n",
      "3 : 20000000\n",
      "2 : 20000000\n",
      "14 : 12500000\n",
      " : 20000000\n",
      "4 : 15000000\n",
      "4 : 17500000\n",
      "4 : 20000000\n",
      "MULTI THREADING TIME: 5.95862889289856\n",
      "\n"
     ]
    }
   ],
   "source": [
    "# multi threading start\n",
    "cnt = 0\n",
    "print(\" # # MULTI THREADING # # \")\n",
    "start_time = time.time()\n",
    "T = []\n",
    "for each in lists:\n",
    "    th = Thread(target=singleCount, args=(cnt, each))\n",
    "    th.start()\n",
    "    T.append(th)\n",
    "    # th.join()\n",
    "    cnt +=1\n",
    "\n",
    "for t in T:\n",
    "    while t.is_alive():\n",
    "        t.join()\n",
    "\n",
    "print(\"MULTI THREADING TIME: %s\\n\" %(time.time()-start_time))"
   ]
  },
  {
   "cell_type": "code",
   "execution_count": 133,
   "id": "fb9b56d4-94a4-4299-a246-5a32ed636732",
   "metadata": {},
   "outputs": [],
   "source": [
    "# multi process start\n",
    "# cnt = 0\n",
    "# print(\"# # MULTI PROCESSING # #\")\n",
    "# start_time = time.time()\n",
    "# pool = multiprocessing.Pool(processes=1)\n",
    "# func = partial(singleCount, cnt)\n",
    "# pool.map(func, lists)\n",
    "# pool.close()\n",
    "# pool.join()\n",
    "# print(\"MULTI PROCESSING TIME: %s\\n\" %(time.time()-start_time))"
   ]
  },
  {
   "cell_type": "code",
   "execution_count": 134,
   "id": "4269f4d4-1193-4cd2-9b88-eb42dad69116",
   "metadata": {},
   "outputs": [],
   "source": [
    "#!pip install ray"
   ]
  },
  {
   "cell_type": "code",
   "execution_count": 135,
   "id": "ab59d6db-ce37-437b-9628-1d98cffbf1b1",
   "metadata": {},
   "outputs": [
    {
     "data": {
      "text/plain": [
       "' Ray Dashboard is one of the most important tools to monitor and debug Ray applications and Clusters. This page describes how to configure Ray Dashboard on your Cluster '"
      ]
     },
     "execution_count": 135,
     "metadata": {},
     "output_type": "execute_result"
    }
   ],
   "source": [
    "''' Ray Dashboard is one of the most important tools to monitor and debug Ray applications and Clusters. This page describes how to configure Ray Dashboard on your Cluster '''\n",
    "# https://docs.ray.io/en/latest/cluster/configure-manage-dashboard.html\n",
    "# http://localhost:8265\n",
    "#!pip install -U \"ray[default]\""
   ]
  },
  {
   "cell_type": "code",
   "execution_count": 136,
   "id": "ef7112c1-3648-4b28-a7f2-baf9c0429e81",
   "metadata": {},
   "outputs": [],
   "source": [
    "import ray"
   ]
  },
  {
   "cell_type": "code",
   "execution_count": 137,
   "id": "d547cee3-1c1c-4dcc-a68c-68b7f1e5116c",
   "metadata": {},
   "outputs": [],
   "source": [
    "@ray.remote\n",
    "def singleCounts(cnt,name):\n",
    "    # print(name)\n",
    "    for i in range(1, 20000001):\n",
    "        if (i%2500000 ==0):\n",
    "            print(name, \":\", i)\n",
    "    cnt +=1"
   ]
  },
  {
   "cell_type": "code",
   "execution_count": 138,
   "id": "d7ef4bba-2a72-4349-b15c-d6f05a923ff4",
   "metadata": {},
   "outputs": [
    {
     "name": "stderr",
     "output_type": "stream",
     "text": [
      "2025-04-10 15:31:14,651\tINFO worker.py:1843 -- Started a local Ray instance. View the dashboard at \u001b[1m\u001b[32mhttp://127.0.0.1:8265 \u001b[39m\u001b[22m\n"
     ]
    },
    {
     "name": "stdout",
     "output_type": "stream",
     "text": [
      "\u001b[36m(singleCounts pid=29420)\u001b[0m 1 : 2500000\n"
     ]
    }
   ],
   "source": [
    "ray.shutdown()\n",
    "context = ray.init()"
   ]
  },
  {
   "cell_type": "code",
   "execution_count": 139,
   "id": "ca9bf852-86c9-4579-b819-aecf0daea3e9",
   "metadata": {},
   "outputs": [
    {
     "name": "stdout",
     "output_type": "stream",
     "text": [
      "127.0.0.1:8265\n"
     ]
    }
   ],
   "source": [
    "print(context.dashboard_url)"
   ]
  },
  {
   "cell_type": "code",
   "execution_count": 140,
   "id": "b78baa5a-a03f-480a-8632-78dddbf02997",
   "metadata": {},
   "outputs": [],
   "source": [
    "cnt = 0"
   ]
  },
  {
   "cell_type": "code",
   "execution_count": 141,
   "id": "cb8bca06-c0a1-49d3-8fad-97141108358b",
   "metadata": {},
   "outputs": [
    {
     "name": "stdout",
     "output_type": "stream",
     "text": [
      " # # MULTI THREADING # # \n"
     ]
    }
   ],
   "source": [
    "print(\" # # MULTI THREADING # # \")\n",
    "start_time = time.time()"
   ]
  },
  {
   "cell_type": "code",
   "execution_count": 142,
   "id": "b8a6b3fa-82da-42fb-92ea-236c0f818804",
   "metadata": {},
   "outputs": [],
   "source": [
    "result = [singleCounts.remote(cnt, i) for i in lists]\n",
    "# print(result)"
   ]
  },
  {
   "cell_type": "code",
   "execution_count": 143,
   "id": "fcc9e21c-aaeb-4de1-aa98-35933b7d8c63",
   "metadata": {},
   "outputs": [
    {
     "name": "stdout",
     "output_type": "stream",
     "text": [
      "MULTI THREADING TIME: 0.04890775680541992\n",
      "\n"
     ]
    }
   ],
   "source": [
    "print(\"MULTI THREADING TIME: %s\\n\" %(time.time()-start_time))"
   ]
  }
 ],
 "metadata": {
  "kernelspec": {
   "display_name": "Python 3 (ipykernel)",
   "language": "python",
   "name": "python3"
  },
  "language_info": {
   "codemirror_mode": {
    "name": "ipython",
    "version": 3
   },
   "file_extension": ".py",
   "mimetype": "text/x-python",
   "name": "python",
   "nbconvert_exporter": "python",
   "pygments_lexer": "ipython3",
   "version": "3.11.7"
  }
 },
 "nbformat": 4,
 "nbformat_minor": 5
}
