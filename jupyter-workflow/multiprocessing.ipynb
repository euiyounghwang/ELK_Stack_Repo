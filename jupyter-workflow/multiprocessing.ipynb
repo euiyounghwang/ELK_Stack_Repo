{
 "cells": [
  {
   "cell_type": "code",
   "execution_count": 61,
   "id": "fdbabc2f-e977-45f5-94a5-5e4cecb13045",
   "metadata": {},
   "outputs": [],
   "source": [
    "from functools import partial\n",
    "from threading import Thread\n",
    "import multiprocessing\n",
    "import time"
   ]
  },
  {
   "cell_type": "code",
   "execution_count": 62,
   "id": "75780569-cb88-4b6b-9fce-f40a93037021",
   "metadata": {},
   "outputs": [],
   "source": [
    "def singleCount(cnt,name):\n",
    "    # print(name)\n",
    "    for i in range(1, 20000001):\n",
    "        if (i%2500000 ==0):\n",
    "            print(name, \":\", i)"
   ]
  },
  {
   "cell_type": "code",
   "execution_count": 63,
   "id": "32780c53-e755-4c04-bb3d-1098ac5d3012",
   "metadata": {},
   "outputs": [],
   "source": [
    "lists = ['1','2','3','4']"
   ]
  },
  {
   "cell_type": "code",
   "execution_count": 64,
   "id": "8637863e-9afd-42e8-aa84-9fa057ffc011",
   "metadata": {},
   "outputs": [
    {
     "name": "stdout",
     "output_type": "stream",
     "text": [
      " # # SINGLE PROCESSING # # \n",
      "1 : 2500000\n",
      "1 : 5000000\n",
      "1 : 7500000\n",
      "1 : 10000000\n",
      "1 : 12500000\n",
      "1 : 15000000\n",
      "1 : 17500000\n",
      "1 : 20000000\n",
      "2 : 2500000\n",
      "2 : 5000000\n",
      "2 : 7500000\n",
      "2 : 10000000\n",
      "2 : 12500000\n",
      "2 : 15000000\n",
      "2 : 17500000\n",
      "2 : 20000000\n",
      "3 : 2500000\n",
      "3 : 5000000\n",
      "3 : 7500000\n",
      "3 : 10000000\n",
      "3 : 12500000\n",
      "3 : 15000000\n",
      "3 : 17500000\n",
      "3 : 20000000\n",
      "4 : 2500000\n",
      "4 : 5000000\n",
      "4 : 7500000\n",
      "4 : 10000000\n",
      "4 : 12500000\n",
      "4 : 15000000\n",
      "4 : 17500000\n",
      "4 : 20000000\n",
      "SINGLE PROCESSING TIME: 7.022653579711914\n",
      "\n"
     ]
    }
   ],
   "source": [
    "# single process start\n",
    "cnt = 0\n",
    "print(\" # # SINGLE PROCESSING # # \")\n",
    "start_time = time.time()\n",
    "for each in lists:\n",
    "    singleCount(cnt, each)\n",
    "print(\"SINGLE PROCESSING TIME: %s\\n\" %(time.time()-start_time))"
   ]
  },
  {
   "cell_type": "code",
   "execution_count": 65,
   "id": "d548e8b4-d3a1-494e-9dc5-a467072ab15f",
   "metadata": {},
   "outputs": [
    {
     "name": "stdout",
     "output_type": "stream",
     "text": [
      " # # MULTI THREADING # # \n",
      "1 : 2500000\n",
      "3 : 2500000\n",
      "2 : 2500000\n",
      "14 : : 5000000\n",
      " 2500000\n",
      "3 : 5000000\n",
      "1 : 7500000\n",
      "3 : 7500000\n",
      "4 : 5000000\n",
      "2 : 5000000\n",
      "42 1 3: 7500000\n",
      " : : 7500000:\n",
      "  10000000\n",
      "100000004\n",
      " : 10000000\n",
      "2 : 10000000\n",
      "3 : 12500000\n",
      "2 : 12500000\n",
      "1 : 12500000\n",
      "4 : 12500000\n",
      "3 : 15000000\n",
      "2 : 15000000\n",
      "1 : 15000000\n",
      "4 : 15000000\n",
      "3 : 17500000\n",
      "2 : 17500000\n",
      "4 : 17500000\n",
      "1 : 17500000\n",
      "3 : 20000000\n",
      "42 : 20000000\n",
      " : 20000000\n",
      "1 : 20000000\n",
      "MULTI THREADING TIME: 6.994722843170166\n",
      "\n"
     ]
    }
   ],
   "source": [
    "# multi threading start\n",
    "cnt = 0\n",
    "print(\" # # MULTI THREADING # # \")\n",
    "start_time = time.time()\n",
    "T = []\n",
    "for each in lists:\n",
    "    th = Thread(target=singleCount, args=(cnt, each))\n",
    "    th.start()\n",
    "    T.append(th)\n",
    "    # th.join()\n",
    "    cnt +=1\n",
    "\n",
    "for t in T:\n",
    "    while t.is_alive():\n",
    "        t.join()\n",
    "\n",
    "print(\"MULTI THREADING TIME: %s\\n\" %(time.time()-start_time))"
   ]
  },
  {
   "cell_type": "code",
   "execution_count": 66,
   "id": "fb9b56d4-94a4-4299-a246-5a32ed636732",
   "metadata": {},
   "outputs": [],
   "source": [
    "# multi process start\n",
    "# cnt = 0\n",
    "# print(\"# # MULTI PROCESSING # #\")\n",
    "# start_time = time.time()\n",
    "# pool = multiprocessing.Pool(processes=1)\n",
    "# func = partial(singleCount, cnt)\n",
    "# pool.map(func, lists)\n",
    "# pool.close()\n",
    "# pool.join()\n",
    "# print(\"MULTI PROCESSING TIME: %s\\n\" %(time.time()-start_time))"
   ]
  },
  {
   "cell_type": "code",
   "execution_count": null,
   "id": "4269f4d4-1193-4cd2-9b88-eb42dad69116",
   "metadata": {},
   "outputs": [],
   "source": []
  }
 ],
 "metadata": {
  "kernelspec": {
   "display_name": "Python 3 (ipykernel)",
   "language": "python",
   "name": "python3"
  },
  "language_info": {
   "codemirror_mode": {
    "name": "ipython",
    "version": 3
   },
   "file_extension": ".py",
   "mimetype": "text/x-python",
   "name": "python",
   "nbconvert_exporter": "python",
   "pygments_lexer": "ipython3",
   "version": "3.11.7"
  }
 },
 "nbformat": 4,
 "nbformat_minor": 5
}
