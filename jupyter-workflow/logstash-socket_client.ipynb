{
 "cells": [
  {
   "cell_type": "code",
   "execution_count": 10,
   "id": "7278beb1-ffda-4c31-9568-69f357f3f75e",
   "metadata": {},
   "outputs": [
    {
     "name": "stdout",
     "output_type": "stream",
     "text": [
      "** logstash socket client **\n"
     ]
    }
   ],
   "source": [
    "print(f\"** logstash socket client **\")"
   ]
  },
  {
   "cell_type": "code",
   "execution_count": 11,
   "id": "7ceb10d2-9c86-4a91-8666-86b7a8921b1c",
   "metadata": {},
   "outputs": [],
   "source": [
    "import sys\n",
    "import socket\n",
    "import json\n",
    "import argparse\n",
    "import logging\n",
    "\n",
    "logging.basicConfig(format='%(asctime)s : %(levelname)s : %(message)s', level=logging.INFO)"
   ]
  },
  {
   "cell_type": "code",
   "execution_count": 12,
   "id": "f937939e-bf99-42d1-889c-9fa9fbd078b0",
   "metadata": {},
   "outputs": [],
   "source": [
    "host = \"localhost\""
   ]
  },
  {
   "cell_type": "code",
   "execution_count": 13,
   "id": "e60a43be-a552-4b65-be16-a5141854760c",
   "metadata": {},
   "outputs": [],
   "source": [
    "class SOCKET_JSON:\n",
    "    \"\"\"\n",
    "    UDP SOCKET with Logstsh\n",
    "    \"\"\"\n",
    "\n",
    "    socket_logstash_dict = {}\n",
    "\n",
    "    def socket_json_push(self, key, value):\n",
    "         if key not in self.socket_logstash_dict.keys():\n",
    "            self.socket_logstash_dict[key] = value\n",
    "            # self.socket_logstash_dict[key].append(value)\n",
    "            # del (self.socket_logstash_dict[key][0])\n",
    "\n",
    "\n",
    "    def get_socket_json_pop(self):\n",
    "        return self.socket_logstash_dict"
   ]
  },
  {
   "cell_type": "code",
   "execution_count": 14,
   "id": "3322fb7f-b102-4ea4-9dc2-f5e4905aad37",
   "metadata": {},
   "outputs": [],
   "source": [
    "class TCP_SOCKET:\n",
    "    \"\"\"\n",
    "    TCP SOCKET with Logstsh\n",
    "    \"\"\"\n",
    "    def __init__(self, ip, port):\n",
    "        self.target_server_ip = ip\n",
    "        self.socket_port = port\n",
    "\n",
    "\n",
    "    def socket_logstash_handler(self, message):\n",
    "        soc = socket.socket(socket.AF_INET, socket.SOCK_STREAM)\n",
    "        soc.connect((self.target_server_ip, self.socket_port))\n",
    "        soc.send(json.dumps(message).encode(\"utf8\")) # we must encode the string to bytes\\\n",
    "        soc.close()\n",
    "        logging.info('Socket Closed')"
   ]
  },
  {
   "cell_type": "code",
   "execution_count": 15,
   "id": "65355b23-029d-4752-a406-0d8cd80a0ea8",
   "metadata": {},
   "outputs": [],
   "source": [
    "class UDP_SOCKET:\n",
    "    \"\"\"\n",
    "    UDP SOCKET with Logstsh\n",
    "    \"\"\"\n",
    "\n",
    "    def __init__(self, ip, port):\n",
    "        self.target_server_ip = ip\n",
    "        self.socket_port = port\n",
    "\n",
    "    def socket_logstash_handler(self, message):\n",
    "        soc = socket.socket(socket.AF_INET, socket.SOCK_DGRAM)\n",
    "        soc.connect((self.target_server_ip, self.socket_port))\n",
    "        soc.send(json.dumps(message, ensure_ascii=False).encode(\"utf8\")) # we must encode the string to bytes\\\n",
    "        soc.close()\n",
    "        logging.info('Socket Closed')"
   ]
  },
  {
   "cell_type": "code",
   "execution_count": 16,
   "id": "552d4f1f-df1a-4d9b-975c-beb05f5aad40",
   "metadata": {},
   "outputs": [
    {
     "name": "stdout",
     "output_type": "stream",
     "text": [
      "{'create_date': 'SNTC2020021821575900000004', 'request_server_ip': '127.0.0.1'}\n"
     ]
    }
   ],
   "source": [
    "buffer = SOCKET_JSON()    \n",
    "buffer.socket_json_push('create_date', 'SNTC2020021821575900000004')\n",
    "buffer.socket_json_push('request_server_ip', '127.0.0.1')\n",
    "print(buffer.get_socket_json_pop())"
   ]
  },
  {
   "cell_type": "code",
   "execution_count": 17,
   "id": "54d40028-3eb2-4044-88b7-c0aa39c6b11b",
   "metadata": {},
   "outputs": [],
   "source": [
    "# TCP_SOC = TCP_SOCKET(host, 5044)\\\n",
    "#         .socket_logstash_handler(buffer.get_socket_json_pop())"
   ]
  },
  {
   "cell_type": "code",
   "execution_count": 18,
   "id": "52759e33-086d-4cc5-a8ef-9f2eef5d5c06",
   "metadata": {},
   "outputs": [
    {
     "name": "stderr",
     "output_type": "stream",
     "text": [
      "2025-04-10 15:34:46,676 : INFO : Socket Closed\n"
     ]
    }
   ],
   "source": [
    "UDP_SOC = UDP_SOCKET(host, 5046)\\\n",
    "        .socket_logstash_handler(buffer.get_socket_json_pop())"
   ]
  }
 ],
 "metadata": {
  "kernelspec": {
   "display_name": "Python 3 (ipykernel)",
   "language": "python",
   "name": "python3"
  },
  "language_info": {
   "codemirror_mode": {
    "name": "ipython",
    "version": 3
   },
   "file_extension": ".py",
   "mimetype": "text/x-python",
   "name": "python",
   "nbconvert_exporter": "python",
   "pygments_lexer": "ipython3",
   "version": "3.11.7"
  }
 },
 "nbformat": 4,
 "nbformat_minor": 5
}
