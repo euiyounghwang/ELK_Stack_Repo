{
 "cells": [
  {
   "cell_type": "code",
   "execution_count": 1,
   "id": "2259f7a2-6b9c-42bb-b53f-7fcf9109e889",
   "metadata": {},
   "outputs": [
    {
     "name": "stdout",
     "output_type": "stream",
     "text": [
      "user permission via Search-Guard\n"
     ]
    }
   ],
   "source": [
    "''' The Jupyter notebook is a web-based notebook environment for interactive computing. '''\n",
    "print(f\"user permission via Search-Guard\")"
   ]
  },
  {
   "cell_type": "code",
   "execution_count": 2,
   "id": "d533434b-8c85-4fa8-8b04-2d6a4b32cd7a",
   "metadata": {},
   "outputs": [],
   "source": [
    "from elasticsearch import Elasticsearch\n",
    "import os\n",
    "import json\n",
    "import pandas as pd\n",
    "import jsondiff\n",
    "import logging\n",
    "from dotenv import load_dotenv\n",
    "import socket\n",
    "import requests\n",
    "import base64\n",
    "import sys\n",
    "import warnings\n",
    "warnings.filterwarnings(\"ignore\")"
   ]
  },
  {
   "cell_type": "code",
   "execution_count": 3,
   "id": "9176e84a-aa29-4818-a294-90c1910c9774",
   "metadata": {},
   "outputs": [
    {
     "data": {
      "text/plain": [
       "True"
      ]
     },
     "execution_count": 3,
     "metadata": {},
     "output_type": "execute_result"
    }
   ],
   "source": [
    "''' pip install python-dotenv'''\n",
    "load_dotenv() # will search for .env file in local folder and load variables"
   ]
  },
  {
   "cell_type": "code",
   "execution_count": 4,
   "id": "3dac2b02-2911-4ebb-ba65-08f46dbfae9f",
   "metadata": {},
   "outputs": [],
   "source": [
    "ca_cert_path = './certs/qa13-es8-ca.pem'"
   ]
  },
  {
   "cell_type": "code",
   "execution_count": 5,
   "id": "8a2cb308-f1ef-48c3-8fab-dbb08d612721",
   "metadata": {},
   "outputs": [],
   "source": [
    "# print(os.getenv('ES_DEV_V8_HOST'))"
   ]
  },
  {
   "cell_type": "code",
   "execution_count": 6,
   "id": "adde53dc-591e-45ad-b831-cdf43e475b1b",
   "metadata": {},
   "outputs": [],
   "source": [
    "''' https://restfulapi.net/http-status-codes/ '''\n",
    "http_status_code = {\n",
    "    200 : 'Indicates that the request has succeeded.',\n",
    "    201 : 'Indicates that the request has succeeded and a new resource has been created as a result.',\n",
    "    400 : 'The server could not understand the request due to incorrect syntax. The client should NOT repeat the request without modifications.',\n",
    "    401 : 'Unauthorized rquests. Insufficient permissions',\n",
    "    403 : 'Unauthorized request. Insufficient permissions. The client does not have access rights to the content. ',\n",
    "    500 : 'The server encountered an unexpected condition that prevented it from fulfilling the request.'\n",
    "}"
   ]
  },
  {
   "cell_type": "code",
   "execution_count": 7,
   "id": "04269cd4-5890-4e88-93d1-4a45a20cf38b",
   "metadata": {},
   "outputs": [],
   "source": [
    "def get_headers(auth):\n",
    "    ''' Elasticsearch Header '''\n",
    "    ''' \n",
    "    Basic Authentication is a method for an HTTP user agent (e.g., a web browser) \n",
    "    to provide a username and password when making a request. \n",
    "    You can send the authorization header \n",
    "    when making requests and accessing to ES Cluster based on Search-Guard as X-pack. \n",
    "      \n",
    "    Basic Auth : \n",
    "    {\n",
    "        'Content-type': 'application/json', \n",
    "        'Authorization' : 'Basic base64.encode(id:password), \n",
    "        'Connection': 'close'\n",
    "    }\n",
    "    '''\n",
    "    base64_encoded_user_credential = os.getenv(auth)\n",
    "    print(f\"base64_encoded_user_credential : {base64_encoded_user_credential}\")\n",
    "    print(f\"User - {base64_decode_for_search_guard(base64_encoded_user_credential)}\")\n",
    "    headers = {\n",
    "            'Content-type': 'application/json', \n",
    "            'Authorization' : 'Basic {}'.format(base64_encoded_user_credential),\n",
    "            'Connection': 'close'\n",
    "    }\n",
    "    print(f\"headers : {json.dumps(headers, indent=2)}\")\n",
    "\n",
    "    return headers"
   ]
  },
  {
   "cell_type": "code",
   "execution_count": 8,
   "id": "1f061d90-8cf3-4616-bd34-844c73f83cb8",
   "metadata": {},
   "outputs": [],
   "source": [
    "''' test base64 encode '''\n",
    "def base64_encode_for_search_guard(id_pass):\n",
    "    ''' format -> <id>:<password> '''\n",
    "    encoded = '{}'.format(base64.b64encode(id_pass.encode('utf-8')).decode())\n",
    "    # print(encoded)\n",
    "    return encoded"
   ]
  },
  {
   "cell_type": "code",
   "execution_count": 9,
   "id": "97860409-26c2-433d-8ffc-a99c874bd529",
   "metadata": {},
   "outputs": [],
   "source": [
    "''' test base64 decode '''\n",
    "def base64_decode_for_search_guard(id_pass):\n",
    "    ''' format -> <id>:<password> '''\n",
    "    return base64.b64decode(id_pass).decode('utf-8')"
   ]
  },
  {
   "cell_type": "markdown",
   "id": "a4a6313d-bbb0-4132-b3ce-80eae539b574",
   "metadata": {},
   "source": [
    "### Search Guard API\n",
    "* Check the overall health of Search Guard Plugin on the ES cluster"
   ]
  },
  {
   "cell_type": "code",
   "execution_count": 10,
   "id": "71db402b-7f5e-4008-9625-b291032cca01",
   "metadata": {},
   "outputs": [
    {
     "name": "stdout",
     "output_type": "stream",
     "text": [
      "<Response [200]>\n"
     ]
    },
    {
     "data": {
      "text/html": [
       "<div>\n",
       "<style scoped>\n",
       "    .dataframe tbody tr th:only-of-type {\n",
       "        vertical-align: middle;\n",
       "    }\n",
       "\n",
       "    .dataframe tbody tr th {\n",
       "        vertical-align: top;\n",
       "    }\n",
       "\n",
       "    .dataframe thead th {\n",
       "        text-align: right;\n",
       "    }\n",
       "</style>\n",
       "<table border=\"1\" class=\"dataframe\">\n",
       "  <thead>\n",
       "    <tr style=\"text-align: right;\">\n",
       "      <th></th>\n",
       "      <th>message</th>\n",
       "      <th>mode</th>\n",
       "      <th>status</th>\n",
       "    </tr>\n",
       "  </thead>\n",
       "  <tbody>\n",
       "    <tr>\n",
       "      <th>0</th>\n",
       "      <td>None</td>\n",
       "      <td>strict</td>\n",
       "      <td>UP</td>\n",
       "    </tr>\n",
       "  </tbody>\n",
       "</table>\n",
       "</div>"
      ],
      "text/plain": [
       "  message    mode status\n",
       "0    None  strict     UP"
      ]
     },
     "metadata": {},
     "output_type": "display_data"
    }
   ],
   "source": [
    "''' Search Guard Health '''\n",
    "resp = requests.get(url=f\"{os.getenv('ES_DEV_V8_HOST')}/_searchguard/health\", headers=None, verify=False, timeout=600)\n",
    "print(resp)\n",
    "# print(resp.json())\n",
    "# print(json.dumps(resp.json(), indent=2))\n",
    "display(pd.DataFrame([resp.json()]))"
   ]
  },
  {
   "cell_type": "markdown",
   "id": "7a30c8ee-e232-4b8b-9e81-8698ba8c691b",
   "metadata": {},
   "source": [
    "### User Permission based on Search Guard\n",
    "* Role based User Permission check using requests library"
   ]
  },
  {
   "cell_type": "code",
   "execution_count": 11,
   "id": "acc13434-445f-453b-8529-89315221dd9d",
   "metadata": {},
   "outputs": [],
   "source": [
    "class color:\n",
    "   PURPLE = '\\033[95m'\n",
    "   CYAN = '\\033[96m'\n",
    "   DARKCYAN = '\\033[36m'\n",
    "   BLUE = '\\033[94m'\n",
    "   GREEN = '\\033[92m'\n",
    "   YELLOW = '\\033[93m'\n",
    "   RED = '\\033[91m'\n",
    "   BOLD = '\\033[1m'\n",
    "   UNDERLINE = '\\033[4m'\n",
    "   END = '\\033[0m'"
   ]
  },
  {
   "cell_type": "code",
   "execution_count": 12,
   "id": "0ad53d32-e317-420c-ba81-64ae137dcdb9",
   "metadata": {},
   "outputs": [],
   "source": [
    "def add_documents(user, header, IDX):\n",
    "    if user != 'es_spark':\n",
    "        return\n",
    "    \n",
    "    body = [\n",
    "                {\"index\" : { \"_index\" : IDX, \"_id\" : \"1\"}},\n",
    "                {\"ADDTS\" : \"03/09/2023 02:06:34.739993\" },\n",
    "                {\"index\" : { \"_index\" : IDX, \"_id\" : \"2\"}},\n",
    "                {\"ADDTS\" : \"03/09/2023 02:06:34.739993\" }\n",
    "    ]\n",
    "\n",
    "    payload = '\\n'.join([json.dumps(line) for line in body]) + '\\n'\n",
    "    # print(f\"User : {user.split(':')[0]}\")\n",
    "    resp = requests.post(url=\"{}/_bulk\".format(os.getenv('ES_DEV_V8_HOST')), headers=header, data=payload, verify=False, timeout=5)\n",
    "    ''' check first records if user has permission to write'''\n",
    "    status = resp.json()[\"items\"][0][\"index\"][\"status\"]\n",
    "    if \"errors\" in resp.json() and resp.json()[\"errors\"] == True:\n",
    "        # print(f\"POST [{status, http_status_code.get(status, '')}] User ['{user.split(':')[0]}'] - CREATE INDEX Request : {resp.json()}\")\n",
    "        print(f\"POST [{status, {http_status_code.get(status, '')}}] User ['{user.split(':')[0]}'] - Write Docs Request\")\n",
    "    else:\n",
    "        # print(f\"POST [{resp.status_code, http_status_code.get(resp.status_code, '')}] User ['{user.split(':')[0]}'] - CREATE INDEX Request : {resp.json()}\")\n",
    "        print(f\"POST [{resp.status_code}, {http_status_code.get(resp.status_code, '')}] User ['{user.split(':')[0]}'] - Write Docs Request\")\n"
   ]
  },
  {
   "cell_type": "code",
   "execution_count": 13,
   "id": "7eea4065-63fc-448c-bb2e-44c3ee554e3b",
   "metadata": {},
   "outputs": [],
   "source": [
    "def verify_user_permission():\n",
    "    ''' Verify user's permission using the API'''\n",
    "    ''' User Permission with a different role for ES v.8.17.0 based on Searcch Guard '''\n",
    "    # api_list = ['_cat/nodes?format=json', '_cat/aliases?format=json', '_cat/nodes?format=json', \n",
    "    #             'wx_test/_search', 'om_test/_search', 'logstash-2024.08.21/_search'\n",
    "    #            ]\n",
    "    api_list = ['wx_test/_search', 'om_test/_search']\n",
    "    user_list = os.getenv('USER_LIST').split(\",\")\n",
    "    for user in user_list:\n",
    "        ''' Verify search permission '''\n",
    "        print(f\"\\nUser : {user.split(':')[0]}\")\n",
    "        \n",
    "        ''' Add header for each user '''\n",
    "        header = {'Content-type': 'application/json', \n",
    "                  'Authorization' : 'Basic {}'.format(base64_encode_for_search_guard(user)), \n",
    "                  'Connection': 'close'}\n",
    "        print('-'*50)\n",
    "\n",
    "        ''' _search '''\n",
    "        for api in api_list:\n",
    "            ''' verify if user have the permission to write documents '''\n",
    "            add_documents(user.split(':')[0], header, api.split('/')[0])\n",
    "            ''' verify if user have the permissin to search '''\n",
    "            resp = requests.get(url=\"{}/{}\".format(os.getenv('ES_DEV_V8_HOST'), api), headers=header, verify=False, timeout=5)\n",
    "            color_print = color.GREEN if resp.status_code == 200 else color.RED\n",
    "            # print(f\"{color.BOLD}{color_print} GET {[resp.status_code , http_status_code.get(resp.status_code, '')]} User [{user.split(':')[0]}], Urls [{api}]{color.END}\")\n",
    "            print(f\"GET {[resp.status_code , http_status_code.get(resp.status_code, '')]} User [{user.split(':')[0]}], Urls [{api}]\")"
   ]
  },
  {
   "cell_type": "code",
   "execution_count": 14,
   "id": "a19ea480-d006-4bc8-8a02-3b41be1f1045",
   "metadata": {},
   "outputs": [
    {
     "name": "stdout",
     "output_type": "stream",
     "text": [
      "\n",
      "User : es_admin\n",
      "--------------------------------------------------\n",
      "GET [200, 'Indicates that the request has succeeded.'] User [es_admin], Urls [wx_test/_search]\n",
      "GET [200, 'Indicates that the request has succeeded.'] User [es_admin], Urls [om_test/_search]\n",
      "\n",
      "User : es_spark\n",
      "--------------------------------------------------\n",
      "POST [200, Indicates that the request has succeeded.] User ['es_spark'] - Write Docs Request\n",
      "GET [200, 'Indicates that the request has succeeded.'] User [es_spark], Urls [wx_test/_search]\n",
      "POST [200, Indicates that the request has succeeded.] User ['es_spark'] - Write Docs Request\n",
      "GET [200, 'Indicates that the request has succeeded.'] User [es_spark], Urls [om_test/_search]\n",
      "\n",
      "User : wxusers\n",
      "--------------------------------------------------\n",
      "GET [200, 'Indicates that the request has succeeded.'] User [wxusers], Urls [wx_test/_search]\n",
      "GET [403, 'Unauthorized request. Insufficient permissions. The client does not have access rights to the content. '] User [wxusers], Urls [om_test/_search]\n",
      "\n",
      "User : omusers\n",
      "--------------------------------------------------\n",
      "GET [403, 'Unauthorized request. Insufficient permissions. The client does not have access rights to the content. '] User [omusers], Urls [wx_test/_search]\n",
      "GET [200, 'Indicates that the request has succeeded.'] User [omusers], Urls [om_test/_search]\n"
     ]
    }
   ],
   "source": [
    "verify_user_permission()"
   ]
  },
  {
   "cell_type": "markdown",
   "id": "019ea252-67cb-47d3-a3b9-76c0bd8bf350",
   "metadata": {},
   "source": [
    "### IPytest\n",
    "* ipytest allows you to run Pytest in Jupyter notebooks.\n",
    "* The pytest framework makes it easy to write small tests. It can be used to write various types of software tests, including unit tests and others"
   ]
  },
  {
   "cell_type": "code",
   "execution_count": 15,
   "id": "bdfa3d4c-9fae-42c2-92bc-39a5d28907ed",
   "metadata": {},
   "outputs": [],
   "source": [
    "import pytest\n",
    "import ipytest\n",
    "''' https://github.com/chmp/ipytest?tab=readme-ov-file '''\n",
    "''' https://github.com/chmp/ipytest/blob/main/Example.ipynb '''\n",
    "''' https://docs.search-guard.com/latest/offline-tls-tool '''\n",
    "import warnings\n",
    "warnings.filterwarnings('ignore')\n",
    "warnings.simplefilter('ignore')"
   ]
  },
  {
   "cell_type": "code",
   "execution_count": 16,
   "id": "5e048375-9a6b-4bae-8598-1dd09b625317",
   "metadata": {},
   "outputs": [],
   "source": [
    "''' To begin, you need to install pytest and ipytest, a tool designed to run pytest tests directly in Jupyter. Execute the following in a Jupyter cell '''\n",
    "ipytest.autoconfig(coverage=True)"
   ]
  },
  {
   "cell_type": "code",
   "execution_count": 17,
   "id": "de6972ba-4ec3-458b-88cd-712c706dd2eb",
   "metadata": {},
   "outputs": [],
   "source": [
    "@pytest.mark.skip(reason=\"no way of currently testing this\")\n",
    "def test_pytest_skip_func():\n",
    "    assert 42 == 42"
   ]
  },
  {
   "cell_type": "code",
   "execution_count": 18,
   "id": "8c816524-e4ac-4a5c-a69b-cf3e9966cbfe",
   "metadata": {},
   "outputs": [],
   "source": [
    "def test_search_guard_es_cluster_func():\n",
    "    ''' Check if search guard was installed in ES cluster via _searchguard api '''\n",
    "    resp = requests.get(url=f\"{os.getenv('ES_DEV_V8_HOST')}/_searchguard/health\", headers=None, verify=False, timeout=600)\n",
    "    assert resp.status_code == 200\n",
    "    assert resp.json() == {\n",
    "          \"message\": None,\n",
    "          \"mode\": \"strict\",\n",
    "          \"status\": \"UP\"\n",
    "    }"
   ]
  },
  {
   "cell_type": "code",
   "execution_count": 19,
   "id": "f690b912-0f7a-4a1f-8e73-a7b929815312",
   "metadata": {},
   "outputs": [],
   "source": [
    "def test_base64_basic_auth_func():\n",
    "    # resp = es_search_guard.ping()\n",
    "    # assert resp == True\n",
    "    expected_encoded ='dGVzdDox'\n",
    "    expected_decoded = 'test:1'\n",
    "    encoded = base64_encode_for_search_guard(expected_decoded)\n",
    "    assert \"Basic {}\".format(encoded) == 'Basic {}'.format(expected_encoded)\n",
    "    assert base64_decode_for_search_guard(expected_encoded) == expected_decoded"
   ]
  },
  {
   "cell_type": "code",
   "execution_count": 20,
   "id": "30d2debc-35f8-40ea-8d3a-d99f6cfab792",
   "metadata": {},
   "outputs": [
    {
     "name": "stdout",
     "output_type": "stream",
     "text": [
      "\u001b[1m======================================= test session starts =======================================\u001b[0m\n",
      "platform win32 -- Python 3.11.7, pytest-8.2.2, pluggy-1.5.0 -- C:\\Users\\euiyoung.hwang\\Git_Workspace\\ELK_Stack_Repo\\.venv\\Scripts\\python.exe\n",
      "cachedir: .pytest_cache\n",
      "rootdir: C:\\Users\\euiyoung.hwang\\Git_Workspace\\ELK_Stack_Repo\n",
      "configfile: pyproject.toml\n",
      "plugins: anyio-4.8.0, cov-6.0.0\n",
      "collected 3 items. \u001b[0m\n",
      "\n",
      "\u001b[33mSKIPPED\u001b[0m (no way of currentl...)\u001b[32m [ 33%]\u001b[0mfunc \n",
      "\u001b[32mPASSED\u001b[0m\u001b[32m              [ 66%]\u001b[0msearch_guard_es_cluster_func \n",
      "\u001b[32mPASSED\u001b[0m\u001b[32m                    [100%]\u001b[0m_basic_auth_func \n",
      "\n",
      "---------- coverage: platform win32, python 3.11.7-final-0 -----------\n",
      "Name                                                                       Stmts   Miss  Cover\n",
      "----------------------------------------------------------------------------------------------\n",
      "C:\\Users\\euiyoung.hwang\\AppData\\Local\\Temp\\ipykernel_34208\\403595424.py        4      1    75%\n",
      "C:\\Users\\euiyoung.hwang\\AppData\\Local\\Temp\\ipykernel_34208\\1132335815.py       2      1    50%\n",
      "C:\\Users\\euiyoung.hwang\\AppData\\Local\\Temp\\ipykernel_34208\\1766408411.py       3      1    67%\n",
      "C:\\Users\\euiyoung.hwang\\AppData\\Local\\Temp\\ipykernel_34208\\2954678216.py       6      1    83%\n",
      "----------------------------------------------------------------------------------------------\n",
      "TOTAL                                                                         15      4    73%\n",
      "\n",
      "\n",
      "\u001b[32m================================== \u001b[32m\u001b[1m2 passed\u001b[0m, \u001b[33m1 skipped\u001b[0m\u001b[32m in 0.59s\u001b[0m\u001b[32m ===================================\u001b[0m\n"
     ]
    },
    {
     "data": {
      "text/plain": [
       "<ExitCode.OK: 0>"
      ]
     },
     "execution_count": 20,
     "metadata": {},
     "output_type": "execute_result"
    }
   ],
   "source": [
    "''' Execute the tests using ipytest.run(). You can pass command-line arguments to control test behavior: '''\n",
    "''' The pytest framework makes it easy to write small, readable tests, and can scale to support complex functional testing for applications and libraries. '''\n",
    "ipytest.run('-vv')\n",
    "# ipytest.run('-qq')"
   ]
  }
 ],
 "metadata": {
  "kernelspec": {
   "display_name": "Python 3 (ipykernel)",
   "language": "python",
   "name": "python3"
  },
  "language_info": {
   "codemirror_mode": {
    "name": "ipython",
    "version": 3
   },
   "file_extension": ".py",
   "mimetype": "text/x-python",
   "name": "python",
   "nbconvert_exporter": "python",
   "pygments_lexer": "ipython3",
   "version": "3.11.7"
  }
 },
 "nbformat": 4,
 "nbformat_minor": 5
}
