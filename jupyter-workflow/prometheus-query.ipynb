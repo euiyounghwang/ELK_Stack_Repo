{
 "cells": [
  {
   "cell_type": "code",
   "execution_count": 26,
   "id": "0e8736b5-3445-4ea5-a61e-75c8d0d0370c",
   "metadata": {},
   "outputs": [
    {
     "name": "stdout",
     "output_type": "stream",
     "text": [
      "* node_exporter via Prometheus **\n"
     ]
    }
   ],
   "source": [
    "print(f\"* node_exporter via Prometheus **\")"
   ]
  },
  {
   "cell_type": "code",
   "execution_count": 27,
   "id": "155298a7-9a7a-43d9-bff0-f4e1624776b6",
   "metadata": {},
   "outputs": [],
   "source": [
    "import json\n",
    "import requests\n",
    "import base64\n",
    "import pandas as pd\n",
    "from dotenv import load_dotenv\n",
    "import os\n",
    "import warnings\n",
    "warnings.filterwarnings(\"ignore\")"
   ]
  },
  {
   "cell_type": "code",
   "execution_count": 28,
   "id": "3cdf7917-9b80-414b-9e45-adfddc0302e9",
   "metadata": {},
   "outputs": [
    {
     "data": {
      "text/plain": [
       "True"
      ]
     },
     "execution_count": 28,
     "metadata": {},
     "output_type": "execute_result"
    }
   ],
   "source": [
    "''' pip install python-dotenv'''\n",
    "load_dotenv() # will search for .env file in local folder and load variables "
   ]
  },
  {
   "cell_type": "code",
   "execution_count": 29,
   "id": "fa81cd19-fc0b-4bd9-97ac-47de1e0748d1",
   "metadata": {},
   "outputs": [],
   "source": [
    "''' Prometheus URL '''\n",
    "host = \"http://localhost:9091\""
   ]
  },
  {
   "cell_type": "code",
   "execution_count": null,
   "id": "02a8407b-55d2-443a-bf62-da49a43d0d3b",
   "metadata": {},
   "outputs": [],
   "source": [
    "env = 'DEV_ES_NODES'"
   ]
  },
  {
   "cell_type": "code",
   "execution_count": 30,
   "id": "9524e937-9d40-49df-b912-51fdeb4d4956",
   "metadata": {},
   "outputs": [],
   "source": [
    "ES_NODES_LIST =  \"localhost\"\n",
    "# ES_NODES_LIST =  os.getenv(env)"
   ]
  },
  {
   "cell_type": "code",
   "execution_count": 31,
   "id": "b8481627-53fb-40b9-a034-eb834ee16401",
   "metadata": {},
   "outputs": [],
   "source": [
    "''' https://restfulapi.net/http-status-codes/ '''\n",
    "http_status_code = {\n",
    "    200 : 'Indicates that the request has succeeded.',\n",
    "    201 : 'Indicates that the request has succeeded and a new resource has been created as a result.',\n",
    "    400 : 'The server could not understand the request due to incorrect syntax. The client should NOT repeat the request without modifications.',\n",
    "    401 : 'Unauthorized rquests. Insufficient permissions',\n",
    "    403 : 'Unauthorized request. Insufficient permissions. The client does not have access rights to the content. ',\n",
    "    500 : 'The server encountered an unexpected condition that prevented it from fulfilling the request.'\n",
    "}"
   ]
  },
  {
   "cell_type": "code",
   "execution_count": 32,
   "id": "14e9846c-3809-45e6-8525-b8682a0b1bab",
   "metadata": {},
   "outputs": [],
   "source": [
    "''' base64 encode '''\n",
    "def base64_encode_for_search_guard(id_pass):\n",
    "    ''' format -> <id>:<password> '''\n",
    "    encoded = '{}'.format(base64.b64encode(id_pass.encode('utf-8')).decode())\n",
    "    # print(encoded)\n",
    "    return encoded"
   ]
  },
  {
   "cell_type": "code",
   "execution_count": 33,
   "id": "5a363f8b-9f78-4549-bf65-0eed9d414cfc",
   "metadata": {},
   "outputs": [],
   "source": [
    "''' base64 decode '''\n",
    "def base64_decode_for_search_guard(id_pass):\n",
    "    ''' format -> <id>:<password> '''\n",
    "    return base64.b64decode(id_pass).decode('utf-8')"
   ]
  },
  {
   "cell_type": "code",
   "execution_count": 34,
   "id": "821c8ca7-a182-47a8-9758-889f199817d2",
   "metadata": {},
   "outputs": [],
   "source": [
    "def get_headers(auth):\n",
    "    ''' Elasticsearch Header '''\n",
    "    ''' \n",
    "    Basic Authentication is a method for an HTTP user agent (e.g., a web browser) \n",
    "    to provide a username and password when making a request. \n",
    "    You can send the authorization header \n",
    "    when making requests and accessing to ES Cluster based on Search-Guard as X-pack. \n",
    "      \n",
    "    Basic Auth : \n",
    "    {\n",
    "        'Content-type': 'application/json', \n",
    "        'Authorization' : 'Basic base64.encode(id:password), \n",
    "        'Connection': 'close'\n",
    "    }\n",
    "    '''\n",
    "    return {\n",
    "            'Content-type': 'application/json', \n",
    "            'Authorization' : 'Basic {}'.format(base64_encode_for_search_guard(auth)),\n",
    "            'Connection': 'close'\n",
    "    }"
   ]
  },
  {
   "cell_type": "code",
   "execution_count": 35,
   "id": "8ddadc1f-a9f6-4a27-af70-39ad67abc6c4",
   "metadata": {},
   "outputs": [],
   "source": [
    "def request_to_prometheus(prometheus_query):\n",
    "    try:\n",
    "        ''' wxuser '''\n",
    "        res = requests.get(\n",
    "            url=\"{}/api/v1/query\".format(host), \n",
    "            params=prometheus_query,\n",
    "            headers=get_headers(\"es_view:123$qwer\"), \n",
    "            verify=False)\n",
    "    \n",
    "        if not res.status_code == 200:\n",
    "           print(res.status_code, http_status_code.get(res.status_code, \"None\"))\n",
    "           print('\\n')\n",
    "           return\n",
    "           \n",
    "        # print(json.dumps(res.json(), indent=2))\n",
    "        return res.json()\n",
    "        # print('\\n')\n",
    "    except Exception as e:\n",
    "        print(str(e))"
   ]
  },
  {
   "cell_type": "code",
   "execution_count": 36,
   "id": "334ccf96-f4c8-488c-87a1-791b2ac39a74",
   "metadata": {},
   "outputs": [
    {
     "data": {
      "text/plain": [
       "{'Content-type': 'application/json',\n",
       " 'Authorization': 'Basic dGVzdDp0ZXN0',\n",
       " 'Connection': 'close'}"
      ]
     },
     "execution_count": 36,
     "metadata": {},
     "output_type": "execute_result"
    }
   ],
   "source": [
    "get_headers(\"test:test\")"
   ]
  },
  {
   "cell_type": "code",
   "execution_count": 37,
   "id": "3bdbd09a-f074-4b66-90fa-d9c98c1aea58",
   "metadata": {},
   "outputs": [
    {
     "data": {
      "text/html": [
       "<div>\n",
       "<style scoped>\n",
       "    .dataframe tbody tr th:only-of-type {\n",
       "        vertical-align: middle;\n",
       "    }\n",
       "\n",
       "    .dataframe tbody tr th {\n",
       "        vertical-align: top;\n",
       "    }\n",
       "\n",
       "    .dataframe thead th {\n",
       "        text-align: right;\n",
       "    }\n",
       "</style>\n",
       "<table border=\"1\" class=\"dataframe\">\n",
       "  <thead>\n",
       "    <tr style=\"text-align: right;\">\n",
       "      <th></th>\n",
       "      <th>Name</th>\n",
       "      <th>Age</th>\n",
       "    </tr>\n",
       "  </thead>\n",
       "  <tbody>\n",
       "    <tr>\n",
       "      <th>0</th>\n",
       "      <td>Alice</td>\n",
       "      <td>25</td>\n",
       "    </tr>\n",
       "    <tr>\n",
       "      <th>1</th>\n",
       "      <td>Bob</td>\n",
       "      <td>30</td>\n",
       "    </tr>\n",
       "    <tr>\n",
       "      <th>2</th>\n",
       "      <td>Charlie</td>\n",
       "      <td>35</td>\n",
       "    </tr>\n",
       "    <tr>\n",
       "      <th>3</th>\n",
       "      <td>David</td>\n",
       "      <td>40</td>\n",
       "    </tr>\n",
       "  </tbody>\n",
       "</table>\n",
       "</div>"
      ],
      "text/plain": [
       "      Name  Age\n",
       "0    Alice   25\n",
       "1      Bob   30\n",
       "2  Charlie   35\n",
       "3    David   40"
      ]
     },
     "execution_count": 37,
     "metadata": {},
     "output_type": "execute_result"
    }
   ],
   "source": [
    "''' sample '''\n",
    "''' https://docs.kanaries.net/ko/topics/Pandas/pandas-add-column '''\n",
    "data = {\n",
    "    'Name': ['Alice', 'Bob', 'Charlie', 'David'],\n",
    "    'Age': [25, 30, 35, 40]\n",
    "}\n",
    " \n",
    "df = pd.DataFrame(data)\n",
    "df.head(10)"
   ]
  },
  {
   "cell_type": "code",
   "execution_count": 38,
   "id": "2f434af2-e733-4b41-994e-1cc9426ac0b6",
   "metadata": {},
   "outputs": [],
   "source": [
    "df_dict = {}"
   ]
  },
  {
   "cell_type": "code",
   "execution_count": 39,
   "id": "8cd80b05-1606-415f-817d-181acefcd38f",
   "metadata": {},
   "outputs": [],
   "source": [
    "# query = {\n",
    "#     'query': 'basiccpuModelInfoGauge{server_job=~\"localhost\"}'\n",
    "# }\n",
    "query = {\n",
    "    'query': \"\"\"\n",
    "basiccpuModelInfoGauge{server_job=~\"%s\"}\n",
    "\"\"\" % (ES_NODES_LIST)\n",
    "}\n",
    "\n",
    "''' http://localhost:9090/api/v1/query?query=basiccpuModelInfoGauge{server_job=~\"localhost|localhost1} '''\n",
    "resp = request_to_prometheus(query)"
   ]
  },
  {
   "cell_type": "code",
   "execution_count": 40,
   "id": "5d7f57d7-9827-4cfe-97e9-a5d50e5269c7",
   "metadata": {},
   "outputs": [],
   "source": [
    "_type, hostname, cpu_model, cpu_cores, cpu_logicalCnt, cpu_physicalCnt = [], [], [], [], [], []\n",
    "ram_total, ram_used, ram_available, ram_used_percent = [], [], [], []"
   ]
  },
  {
   "cell_type": "code",
   "execution_count": 41,
   "id": "2036269c-eee1-4239-9237-99f3ac4b5256",
   "metadata": {},
   "outputs": [],
   "source": [
    "for each_dict in resp.get(\"data\").get(\"result\"):\n",
    "    _type.append(\"cpu\")\n",
    "    cpu_model.append(each_dict.get(\"metric\").get(\"cpu_model\"))\n",
    "    hostname.append(each_dict.get(\"metric\").get(\"hostname\"))\n",
    "    cpu_cores.append(each_dict.get(\"metric\").get(\"cpu_cores\"))\n",
    "    cpu_logicalCnt.append(each_dict.get(\"metric\").get(\"cpu_logicalCnt\"))\n",
    "    cpu_physicalCnt.append(each_dict.get(\"metric\").get(\"cpu_physicalCnt\"))\n",
    "\n",
    "    ram_total.append(\"-\")\n",
    "    ram_used.append(\"-\")\n",
    "    ram_available.append(\"-\")\n",
    "    ram_used_percent.append(\"-\")\n",
    "    \n",
    "df_dict.update({\"resource\" : _type})\n",
    "df_dict.update({\"cpu_model\" : cpu_model})\n",
    "df_dict.update({\"hostname\" : hostname})\n",
    "df_dict.update({\"cpu_cores\" : cpu_cores})\n",
    "df_dict.update({\"cpu_logicalCnt\" : cpu_logicalCnt})\n",
    "df_dict.update({\"cpu_physicalCnt\" : cpu_physicalCnt})\n",
    "\n",
    "# print(json.dumps(df_dict, indent=2))        "
   ]
  },
  {
   "cell_type": "code",
   "execution_count": 42,
   "id": "66f2729e-30a8-4730-9603-b0d2f7558d2a",
   "metadata": {},
   "outputs": [],
   "source": [
    "env = 'Dev'"
   ]
  },
  {
   "cell_type": "code",
   "execution_count": 43,
   "id": "815f9018-f9fc-4967-bde4-85f590421ce1",
   "metadata": {},
   "outputs": [],
   "source": [
    "# query = {\n",
    "#     'query': 'basicMemoryInfoGBGauge{server_job=~\"localhost\"}'\n",
    "# }\n",
    "query = {\n",
    "    'query': \"\"\"\n",
    "basicMemoryInfoGBGauge{server_job=~\"%s\"}\n",
    "\"\"\" % (ES_NODES_LIST)\n",
    "}\n",
    "resp = request_to_prometheus(query)"
   ]
  },
  {
   "cell_type": "code",
   "execution_count": 44,
   "id": "b070d123-fb28-4d84-b577-29c18119c918",
   "metadata": {},
   "outputs": [],
   "source": [
    "for each_dict in resp.get(\"data\").get(\"result\"):\n",
    "    _type.append(\"memory\")\n",
    "\n",
    "    hostname.append(each_dict.get(\"metric\").get(\"hostname\"))\n",
    "\n",
    "    cpu_model.append(\"-\")\n",
    "    cpu_cores.append(\"-\")\n",
    "    cpu_logicalCnt.append(\"-\")\n",
    "    cpu_physicalCnt.append(\"-\")\n",
    "\n",
    "    ram_total.append(each_dict.get(\"metric\").get(\"ram_total\"))\n",
    "    ram_used.append(each_dict.get(\"metric\").get(\"ram_used\"))\n",
    "    ram_available.append(each_dict.get(\"metric\").get(\"ram_available\"))\n",
    "    ram_used_percent.append(each_dict.get(\"metric\").get(\"ram_used_percent\"))\n",
    "\n",
    "df_dict.update({\"resource\" : _type})\n",
    "df_dict.update({\"hostname\" : hostname})\n",
    "df_dict.update({\"ram_total\" : ram_total})\n",
    "df_dict.update({\"ram_used\" : ram_used})\n",
    "df_dict.update({\"ram_available\" : ram_available})\n",
    "df_dict.update({\"ram_used_percent\" : ram_used_percent})\n"
   ]
  },
  {
   "cell_type": "code",
   "execution_count": 45,
   "id": "bc985538-6e1e-42f3-b749-b45ce9971617",
   "metadata": {},
   "outputs": [],
   "source": [
    "# print(json.dumps(df_dict, indent=2)) "
   ]
  },
  {
   "cell_type": "code",
   "execution_count": 46,
   "id": "f47d1853-e344-4743-813b-b0b59cb33b32",
   "metadata": {},
   "outputs": [
    {
     "data": {
      "text/html": [
       "<div>\n",
       "<style scoped>\n",
       "    .dataframe tbody tr th:only-of-type {\n",
       "        vertical-align: middle;\n",
       "    }\n",
       "\n",
       "    .dataframe tbody tr th {\n",
       "        vertical-align: top;\n",
       "    }\n",
       "\n",
       "    .dataframe thead th {\n",
       "        text-align: right;\n",
       "    }\n",
       "</style>\n",
       "<table border=\"1\" class=\"dataframe\">\n",
       "  <thead>\n",
       "    <tr style=\"text-align: right;\">\n",
       "      <th></th>\n",
       "      <th>resource</th>\n",
       "      <th>cpu_model</th>\n",
       "      <th>hostname</th>\n",
       "      <th>cpu_cores</th>\n",
       "      <th>cpu_logicalCnt</th>\n",
       "      <th>cpu_physicalCnt</th>\n",
       "      <th>ram_total</th>\n",
       "      <th>ram_used</th>\n",
       "      <th>ram_available</th>\n",
       "      <th>ram_used_percent</th>\n",
       "    </tr>\n",
       "  </thead>\n",
       "  <tbody>\n",
       "  </tbody>\n",
       "</table>\n",
       "</div>"
      ],
      "text/plain": [
       "Empty DataFrame\n",
       "Columns: [resource, cpu_model, hostname, cpu_cores, cpu_logicalCnt, cpu_physicalCnt, ram_total, ram_used, ram_available, ram_used_percent]\n",
       "Index: []"
      ]
     },
     "metadata": {},
     "output_type": "display_data"
    }
   ],
   "source": [
    "df = pd.DataFrame.from_dict(df_dict)\n",
    "# df.head(10)\n",
    "display(df)"
   ]
  },
  {
   "cell_type": "code",
   "execution_count": 47,
   "id": "5964bbcf-eb43-48f8-95f0-ce60d3993607",
   "metadata": {},
   "outputs": [],
   "source": [
    "# Write DataFrame to CSV File with Default params.\n",
    "filename = f\"./[{env}]_df_resource_details.csv\"\n",
    "if not df.empty:\n",
    "    df.to_csv(f\"{filename}\")\n",
    "    print(f\"{filename} was created..\")"
   ]
  }
 ],
 "metadata": {
  "kernelspec": {
   "display_name": "Python 3 (ipykernel)",
   "language": "python",
   "name": "python3"
  },
  "language_info": {
   "codemirror_mode": {
    "name": "ipython",
    "version": 3
   },
   "file_extension": ".py",
   "mimetype": "text/x-python",
   "name": "python",
   "nbconvert_exporter": "python",
   "pygments_lexer": "ipython3",
   "version": "3.11.7"
  }
 },
 "nbformat": 4,
 "nbformat_minor": 5
}
