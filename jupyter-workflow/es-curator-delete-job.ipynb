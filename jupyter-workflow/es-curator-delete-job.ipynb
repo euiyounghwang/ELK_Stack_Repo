{
 "cells": [
  {
   "cell_type": "code",
   "execution_count": 1,
   "id": "4e8f4174-c494-44c1-80d9-83411091dc04",
   "metadata": {},
   "outputs": [
    {
     "name": "stdout",
     "output_type": "stream",
     "text": [
      "** curator script **\n"
     ]
    }
   ],
   "source": [
    "print(f\"** curator script **\")"
   ]
  },
  {
   "cell_type": "code",
   "execution_count": 2,
   "id": "8e81b6fe-28b9-4e37-8cb7-fa1403acc488",
   "metadata": {},
   "outputs": [],
   "source": [
    "from elasticsearch import Elasticsearch\n",
    "import os\n",
    "import json\n",
    "import pandas as pd\n",
    "import jsondiff\n",
    "import logging\n",
    "from dotenv import load_dotenv\n",
    "import dotenv\n",
    "import socket\n",
    "import requests\n",
    "import base64\n",
    "import sys\n",
    "import logging\n",
    "from requests.auth import HTTPBasicAuth\n",
    "from IPython.display import HTML\n",
    "from cryptography import x509\n",
    "import datetime\n",
    "from cryptography.hazmat.backends import default_backend\n",
    "import warnings\n",
    "warnings.filterwarnings(\"ignore\")"
   ]
  },
  {
   "cell_type": "code",
   "execution_count": 3,
   "id": "72e6d16b-786f-4d0c-b39e-caa651848f37",
   "metadata": {},
   "outputs": [
    {
     "data": {
      "text/plain": [
       "False"
      ]
     },
     "execution_count": 3,
     "metadata": {},
     "output_type": "execute_result"
    }
   ],
   "source": [
    "''' pip install python-dotenv'''\n",
    "# load_dotenv() # will search for .env file in local folder and load variables\n",
    "# Reload the variables from your .env file, overriding existing ones\n",
    "dotenv.load_dotenv(\".env\", override=True)"
   ]
  },
  {
   "cell_type": "code",
   "execution_count": 4,
   "id": "ef81ba4d-df25-46cd-8faa-952ca9c82a60",
   "metadata": {},
   "outputs": [],
   "source": [
    "# 로깅 설정\n",
    "logging.basicConfig(\n",
    "    level=logging.INFO,\n",
    "    format='%(asctime)s - %(name)s - %(levelname)s - %(message)s',\n",
    "    handlers=[\n",
    "        logging.StreamHandler(sys.stdout)\n",
    "    ]\n",
    ")"
   ]
  },
  {
   "cell_type": "code",
   "execution_count": 5,
   "id": "f0545674-57de-41a0-a29e-9cc8e222524d",
   "metadata": {},
   "outputs": [],
   "source": [
    "logger = logging.getLogger(\"api-call\")"
   ]
  },
  {
   "cell_type": "code",
   "execution_count": 6,
   "id": "3ffdf873-5dbb-41a8-b7ed-c4bdc84f2818",
   "metadata": {},
   "outputs": [],
   "source": [
    "''' base64 encode '''\n",
    "def base64_encode_for_search_guard(id_pass):\n",
    "    ''' format -> <id>:<password> '''\n",
    "    encoded = '{}'.format(base64.b64encode(id_pass.encode('utf-8')).decode())\n",
    "    # print(encoded)\n",
    "    return encoded"
   ]
  },
  {
   "cell_type": "code",
   "execution_count": 7,
   "id": "92f376cd-1847-427c-84b6-d44e910d3936",
   "metadata": {},
   "outputs": [],
   "source": [
    "''' base64 decode '''\n",
    "def base64_decode_for_search_guard(id_pass):\n",
    "    ''' format -> <id>:<password> '''\n",
    "    return base64.b64decode(id_pass).decode('utf-8')"
   ]
  },
  {
   "cell_type": "code",
   "execution_count": 8,
   "id": "fdd3bf4e-9f3b-4a54-880a-1f4713e34c31",
   "metadata": {},
   "outputs": [],
   "source": [
    "def get_headers(auth):\n",
    "    ''' Elasticsearch Header '''\n",
    "    ''' \n",
    "    Basic Authentication is a method for an HTTP user agent (e.g., a web browser) \n",
    "    to provide a username and password when making a request. \n",
    "    You can send the authorization header \n",
    "    when making requests and accessing to ES Cluster based on Search-Guard as X-pack. \n",
    "      \n",
    "    Basic Auth : \n",
    "    {\n",
    "        'Content-type': 'application/json', \n",
    "        'Authorization' : 'Basic base64.encode(id:password), \n",
    "        'Connection': 'close'\n",
    "    }\n",
    "    '''\n",
    "    base64_encoded_user_credential = os.getenv(auth)\n",
    "    # base64_encoded_user_credential = auth\n",
    "    # print(f\"base64_encoded_user_credential : {base64_encoded_user_credential}\")\n",
    "    # print(f\"User - {base64_decode_for_search_guard(base64_encoded_user_credential)}\")\n",
    "    headers = {\n",
    "            'Content-type': 'application/json', \n",
    "            'Authorization' : 'Basic {}'.format(base64_encoded_user_credential),\n",
    "            'Connection': 'close'\n",
    "    }\n",
    "    # print(f\"headers : {json.dumps(headers, indent=2)}\")\n",
    "\n",
    "    return headers"
   ]
  },
  {
   "cell_type": "code",
   "execution_count": 9,
   "id": "59d83860-2600-4db2-8e0c-3867afaec4b7",
   "metadata": {},
   "outputs": [],
   "source": [
    "''' dev '''\n",
    "source_es_host = \"http://localhost:9201\""
   ]
  },
  {
   "cell_type": "code",
   "execution_count": 10,
   "id": "21b08e2b-4cf7-44cd-a7bf-46636b85f72c",
   "metadata": {},
   "outputs": [],
   "source": [
    "def get_es_instance(auth):\n",
    "    \"\"\" \n",
    "    Create an instance of the secure ES cluster by passing multiple ES hosts, a CA certificate file, and a username/password for basic auth as parameters\n",
    "    \"\"\"\n",
    "    try:\n",
    "        print(f'source_es_host : {source_es_host}')\n",
    "        es_client = Elasticsearch(\n",
    "                                  hosts=\"{}\".format(source_es_host), \n",
    "                                  headers=get_headers(auth), \n",
    "                                  # http_auth=('es_admin', 'test'),\n",
    "                                  timeout=5,  \n",
    "                                  verify_certs=False\n",
    "                                 )\n",
    "        print(f\"An instance of the ES client : {es_client}\")\n",
    "        return es_client\n",
    "    except Exception as e:\n",
    "        print(str(e))"
   ]
  },
  {
   "cell_type": "code",
   "execution_count": 11,
   "id": "e95dd428-7c4a-4558-9e3f-277c236f644d",
   "metadata": {},
   "outputs": [],
   "source": [
    "auth = \"\""
   ]
  },
  {
   "cell_type": "code",
   "execution_count": 12,
   "id": "0b5d4995-acc8-45ed-87da-8a69f5a4ddb8",
   "metadata": {},
   "outputs": [
    {
     "name": "stdout",
     "output_type": "stream",
     "text": [
      "source_es_host : http://localhost:9201\n",
      "An instance of the ES client : <Elasticsearch([{'host': 'localhost', 'port': 9201}])>\n"
     ]
    }
   ],
   "source": [
    "''' base64 encodede(username:password) from .env file '''\n",
    "es_client = get_es_instance(auth)"
   ]
  },
  {
   "cell_type": "code",
   "execution_count": 13,
   "id": "bd7b4b2c-eb8a-4767-9403-25760619a710",
   "metadata": {},
   "outputs": [],
   "source": [
    "# index_pattern=\"logstash*\"\n",
    "index_pattern=\"test*\""
   ]
  },
  {
   "cell_type": "code",
   "execution_count": 14,
   "id": "4c0a6e45-e0eb-4d61-8f54-cf90e54222bb",
   "metadata": {},
   "outputs": [
    {
     "name": "stdout",
     "output_type": "stream",
     "text": [
      "** The health of the secure ES cluster **\n",
      "2025-10-17 10:38:59,257 - elasticsearch - INFO - GET http://localhost:9201/_cat/health?format=json [status:200 request:0.055s]\n",
      "[\n",
      "  {\n",
      "    \"epoch\": \"1760715539\",\n",
      "    \"timestamp\": \"15:38:59\",\n",
      "    \"cluster\": \"docker-cluster\",\n",
      "    \"status\": \"yellow\",\n",
      "    \"node.total\": \"1\",\n",
      "    \"node.data\": \"1\",\n",
      "    \"shards\": \"339\",\n",
      "    \"pri\": \"339\",\n",
      "    \"relo\": \"0\",\n",
      "    \"init\": \"0\",\n",
      "    \"unassign\": \"339\",\n",
      "    \"pending_tasks\": \"0\",\n",
      "    \"max_task_wait_time\": \"-\",\n",
      "    \"active_shards_percent\": \"50.0%\"\n",
      "  }\n",
      "]\n",
      "2025-10-17 10:38:59,335 - elasticsearch - INFO - GET http://localhost:9201/test* [status:200 request:0.075s]\n"
     ]
    }
   ],
   "source": [
    "try:\n",
    "    print(\"** The health of the secure ES cluster **\")\n",
    "    print(json.dumps(es_client.cat.health(format=\"json\"), indent=2))\n",
    "    # print(json.dumps(es_client.cat.indices(params={\"format\": \"json\"}), indent=2))\n",
    "    # es_health_dict = es_client.cluster.health()\n",
    "    # es_health_dict = es_client_wx.indices.get(\"*\")\n",
    "    es_indices_list = list(es_client.indices.get(index_pattern).keys())\n",
    "    # print(es_indices_list)\n",
    "    # print(\"** A list of ES Indices for wxusers **\")\n",
    "    # print(json.dumps(es_indices_list, indent=2))\n",
    "    # df = pd.DataFrame.from_dict([es_wxusers_es_indices_list])\n",
    "    # display(df)\n",
    "except Exception as e:\n",
    "    print(str(e))"
   ]
  },
  {
   "cell_type": "code",
   "execution_count": 15,
   "id": "9e31dc85-f8f9-4a5b-9777-4ae2c649e926",
   "metadata": {},
   "outputs": [
    {
     "data": {
      "text/html": [
       "<div>\n",
       "<style scoped>\n",
       "    .dataframe tbody tr th:only-of-type {\n",
       "        vertical-align: middle;\n",
       "    }\n",
       "\n",
       "    .dataframe tbody tr th {\n",
       "        vertical-align: top;\n",
       "    }\n",
       "\n",
       "    .dataframe thead th {\n",
       "        text-align: right;\n",
       "    }\n",
       "</style>\n",
       "<table border=\"1\" class=\"dataframe\">\n",
       "  <thead>\n",
       "    <tr style=\"text-align: right;\">\n",
       "      <th></th>\n",
       "      <th>ES Indices</th>\n",
       "    </tr>\n",
       "  </thead>\n",
       "  <tbody>\n",
       "    <tr>\n",
       "      <th>0</th>\n",
       "      <td>test</td>\n",
       "    </tr>\n",
       "    <tr>\n",
       "      <th>1</th>\n",
       "      <td>test-index</td>\n",
       "    </tr>\n",
       "    <tr>\n",
       "      <th>2</th>\n",
       "      <td>test-index1</td>\n",
       "    </tr>\n",
       "  </tbody>\n",
       "</table>\n",
       "</div>"
      ],
      "text/plain": [
       "    ES Indices\n",
       "0         test\n",
       "1   test-index\n",
       "2  test-index1"
      ]
     },
     "metadata": {},
     "output_type": "display_data"
    }
   ],
   "source": [
    "df = pd.DataFrame.from_dict({'ES Indices' : es_indices_list})\n",
    "display(df)"
   ]
  }
 ],
 "metadata": {
  "kernelspec": {
   "display_name": ".venv",
   "language": "python",
   "name": "python3"
  },
  "language_info": {
   "codemirror_mode": {
    "name": "ipython",
    "version": 3
   },
   "file_extension": ".py",
   "mimetype": "text/x-python",
   "name": "python",
   "nbconvert_exporter": "python",
   "pygments_lexer": "ipython3",
   "version": "3.11.7"
  }
 },
 "nbformat": 4,
 "nbformat_minor": 5
}
