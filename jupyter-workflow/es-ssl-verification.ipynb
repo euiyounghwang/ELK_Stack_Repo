{
 "cells": [
  {
   "cell_type": "code",
   "execution_count": 163,
   "id": "0f2abe21-7d39-4b5f-885c-6f6a8b6fd7f8",
   "metadata": {},
   "outputs": [
    {
     "name": "stdout",
     "output_type": "stream",
     "text": [
      "ssl verification via Search-Guard\n"
     ]
    }
   ],
   "source": [
    "''' The Jupyter notebook is a web-based notebook environment for interactive computing. '''\n",
    "print(f\"ssl verification via Search-Guard\")"
   ]
  },
  {
   "cell_type": "code",
   "execution_count": null,
   "id": "f96e25ea-9ce0-4080-8fd0-90ba3d68da99",
   "metadata": {},
   "outputs": [],
   "source": [
    "from elasticsearch import Elasticsearch\n",
    "import os\n",
    "import json\n",
    "import pandas as pd\n",
    "import jsondiff\n",
    "import logging\n",
    "from dotenv import load_dotenv\n",
    "import dotenv\n",
    "import socket\n",
    "import requests\n",
    "import sys\n",
    "import warnings\n",
    "import logging\n",
    "from requests.auth import HTTPBasicAuth\n",
    "from IPython.display import HTML\n",
    "from cryptography import x509\n",
    "import datetime\n",
    "from cryptography.hazmat.backends import default_backend\n",
    "warnings.filterwarnings(\"ignore\")"
   ]
  },
  {
   "cell_type": "code",
   "execution_count": null,
   "id": "26ed0df3-efb6-40f9-88ae-f37a02ad5b2f",
   "metadata": {},
   "outputs": [
    {
     "data": {
      "text/plain": [
       "True"
      ]
     },
     "execution_count": 165,
     "metadata": {},
     "output_type": "execute_result"
    }
   ],
   "source": [
    "''' pip install python-dotenv'''\n",
    "# load_dotenv() # will search for .env file in local folder and load variables\n",
    "# Reload the variables from your .env file, overriding existing ones\n",
    "dotenv.load_dotenv(\".env\", override=True)"
   ]
  },
  {
   "cell_type": "code",
   "execution_count": null,
   "id": "84d5cbbb",
   "metadata": {},
   "outputs": [],
   "source": [
    "# 로깅 설정\n",
    "logging.basicConfig(\n",
    "    level=logging.INFO,\n",
    "    format='%(asctime)s - %(name)s - %(levelname)s - %(message)s',\n",
    "    handlers=[\n",
    "        logging.StreamHandler(sys.stdout)\n",
    "    ]\n",
    ")"
   ]
  },
  {
   "cell_type": "code",
   "execution_count": null,
   "id": "8b126ec3",
   "metadata": {},
   "outputs": [],
   "source": [
    "logger = logging.getLogger(\"api-call\")"
   ]
  },
  {
   "cell_type": "code",
   "execution_count": 166,
   "id": "9108f966-01e0-45c3-bfd4-ba0cf8a2abbe",
   "metadata": {},
   "outputs": [],
   "source": [
    "INDEX = \"om_test\""
   ]
  },
  {
   "cell_type": "code",
   "execution_count": 167,
   "id": "4dfa95fc-e403-4fed-acf0-fb96086d1f5d",
   "metadata": {},
   "outputs": [],
   "source": [
    "ca_cert_path = '../upgrade-script/certs/qa13_new/test.pem'"
   ]
  },
  {
   "cell_type": "code",
   "execution_count": null,
   "id": "6edea28a",
   "metadata": {},
   "outputs": [],
   "source": [
    "def get_certificate_info(path):\n",
    "    with open(path, \"rb\") as f:\n",
    "        cert_data = f.read()\n",
    "    \n",
    "    cert = x509.load_pem_x509_certificate(cert_data, default_backend())\n",
    "\n",
    "    print(f\"Certificate subject: {cert.subject}\")\n",
    "    \n",
    "    # Accessing validity period\n",
    "    not_before = cert.not_valid_before_utc\n",
    "    not_after = cert.not_valid_after_utc\n",
    "    \n",
    "    print(f\"Certificate valid from: {not_before}\")\n",
    "    print(f\"Certificate valid until: {not_after}\")\n",
    "\n",
    "    # Check if currently valid\n",
    "    now = datetime.datetime.now(datetime.timezone.utc)\n",
    "    if not_before <= now <= not_after:\n",
    "        print(\"Certificate is currently valid.\")\n",
    "    else:\n",
    "        print(\"Certificate is not currently valid.\")"
   ]
  },
  {
   "cell_type": "code",
   "execution_count": 168,
   "id": "07120ead-48b9-4472-9710-fb6f2c705e5e",
   "metadata": {},
   "outputs": [],
   "source": [
    "''' https://restfulapi.net/http-status-codes/ '''\n",
    "http_status_code = {\n",
    "    200 : 'Indicates that the request has succeeded.',\n",
    "    201 : 'Indicates that the request has succeeded and a new resource has been created as a result.',\n",
    "    400 : 'The server could not understand the request due to incorrect syntax. The client should NOT repeat the request without modifications.',\n",
    "    401 : 'Unauthorized rquests. Insufficient permissions',\n",
    "    403 : 'Unauthorized request. Insufficient permissions. The client does not have access rights to the content. ',\n",
    "    500 : 'The server encountered an unexpected condition that prevented it from fulfilling the request.'\n",
    "}"
   ]
  },
  {
   "cell_type": "code",
   "execution_count": 169,
   "id": "cfbea51d-b54a-4c44-909a-395f7c0c20d4",
   "metadata": {},
   "outputs": [],
   "source": [
    "''' base64 encode '''\n",
    "def base64_encode_for_search_guard(id_pass):\n",
    "    ''' format -> <id>:<password> '''\n",
    "    encoded = '{}'.format(base64.b64encode(id_pass.encode('utf-8')).decode())\n",
    "    # print(encoded)\n",
    "    return encoded"
   ]
  },
  {
   "cell_type": "code",
   "execution_count": 170,
   "id": "df66f6e4-1d92-477f-9c0d-cc71575c1735",
   "metadata": {},
   "outputs": [],
   "source": [
    "''' base64 decode '''\n",
    "def base64_decode_for_search_guard(id_pass):\n",
    "    ''' format -> <id>:<password> '''\n",
    "    return base64.b64decode(id_pass).decode('utf-8')"
   ]
  },
  {
   "cell_type": "code",
   "execution_count": 171,
   "id": "71627d38-5543-4fbb-84c9-ad093062d68f",
   "metadata": {},
   "outputs": [],
   "source": [
    "def get_headers(auth):\n",
    "    ''' Elasticsearch Header '''\n",
    "    ''' \n",
    "    Basic Authentication is a method for an HTTP user agent (e.g., a web browser) \n",
    "    to provide a username and password when making a request. \n",
    "    You can send the authorization header \n",
    "    when making requests and accessing to ES Cluster based on Search-Guard as X-pack. \n",
    "      \n",
    "    Basic Auth : \n",
    "    {\n",
    "        'Content-type': 'application/json', \n",
    "        'Authorization' : 'Basic base64.encode(id:password), \n",
    "        'Connection': 'close'\n",
    "    }\n",
    "    '''\n",
    "    return {\n",
    "            'Content-type': 'application/json', \n",
    "            'Authorization' : '{}'.format(os.getenv(auth)),\n",
    "            'Connection': 'close'\n",
    "    }"
   ]
  },
  {
   "cell_type": "code",
   "execution_count": 172,
   "id": "f823a7f7-62e6-428c-be3b-add8914a2a2b",
   "metadata": {},
   "outputs": [],
   "source": [
    "source_es_host = \"http://localhost:9202\"\n",
    "# source_es_host = os.getenv('ES_DEV_V8_HOST')"
   ]
  },
  {
   "cell_type": "markdown",
   "id": "79d17377-5a50-40ec-84ab-33b21040b8bc",
   "metadata": {},
   "source": [
    "### Verify if user can be accessed to the ES cluster with Search Guard as X-pack\n",
    "* ES Version : ES v.8.17.0 via https protocal\n",
    "* X-pack : Search Guard for ES v.8.17.0\n",
    "* Library : ES cliient (https://elasticsearch-py.readthedocs.io/en/v8.17.0/)\n",
    "* Pass the link to the certificate for ssl validation with user credential via get_es_instance function"
   ]
  },
  {
   "cell_type": "code",
   "execution_count": null,
   "id": "ae7b7d99-6884-4a8d-98c7-854bb8951d8b",
   "metadata": {},
   "outputs": [],
   "source": [
    "def get_es_instance(auth):\n",
    "    ''' create es instance with user credential and ssl verification '''\n",
    "    try:\n",
    "        ''' To disable certificate verification, at the client side, one can use verify attribute.  -- Verify False''' \n",
    "        # es_client = Elasticsearch(hosts=\"{}\".format(source_es_host), headers=get_headers(), timeout=5,  verify_certs=False)\n",
    "        \n",
    "        ''' We can also pass the link to the certificate for validation via python requests only. '''\n",
    "        ''' If we don't pass the link for the certification, we may get the message like \n",
    "        caused by: SSLError([SSL: CERTIFICATE_VERIFY_FAILED] certificate verify failed: unable to get local issuer certificate (_ssl.c:1006)) if it doesn't exist ca certs\n",
    "        '''\n",
    "        es_client = Elasticsearch(\n",
    "                                  hosts=\"{}\".format(source_es_host), \n",
    "                                  # hosts=['https://localhost1:9200','https://localhost2:9200','https://localhost3:9200'],\n",
    "                                  use_ssl=True, \n",
    "                                  # ca_certs=ca_cert_path, \n",
    "                                  headers=get_headers(auth), \n",
    "                                  timeout=5,  \n",
    "                                  # verify_certs=True\n",
    "                                  verify_certs=False\n",
    "                                 )\n",
    "        return es_client\n",
    "    except Exception as e:\n",
    "        print(str(e))\n"
   ]
  },
  {
   "cell_type": "code",
   "execution_count": 174,
   "id": "9a310273-4f72-4cd6-8d89-997e82ee569e",
   "metadata": {},
   "outputs": [],
   "source": [
    "es_client_wx = get_es_instance('BASIC_AUTH_WX')"
   ]
  },
  {
   "cell_type": "code",
   "execution_count": null,
   "id": "1b019a83-0727-42dc-91b0-43f0deac8f96",
   "metadata": {},
   "outputs": [
    {
     "name": "stdout",
     "output_type": "stream",
     "text": [
      "ConnectionError([SSL: WRONG_VERSION_NUMBER] wrong version number (_ssl.c:1006)) caused by: SSLError([SSL: WRONG_VERSION_NUMBER] wrong version number (_ssl.c:1006))\n"
     ]
    }
   ],
   "source": [
    "try:\n",
    "    print(es_client_wx.cat.health())\n",
    "    # print(json.dumps(es_client.cat.indices(params={\"format\": \"json\"}), indent=2))\n",
    "    es_health_dict = es_client_wx.cluster.health()\n",
    "    print(json.dumps(es_health_dict, indent=2))\n",
    "    \n",
    "    es_user_es_indices_list = list(es_client_wx.indices.get(\"*\").keys())\n",
    "    # print(es_wxusers_es_indices_list)\n",
    "    print(\"** A list of ES Indices for users **\")\n",
    "    print(json.dumps(es_user_es_indices_list, indent=2))\n",
    "except Exception as e:\n",
    "    print(str(e))"
   ]
  },
  {
   "cell_type": "code",
   "execution_count": 176,
   "id": "745f958d-2789-4bb6-a6aa-77c58cdab522",
   "metadata": {},
   "outputs": [],
   "source": [
    "es_client_om = get_es_instance('BASIC_AUTH_OM')"
   ]
  },
  {
   "cell_type": "code",
   "execution_count": null,
   "id": "219475b8-6506-42d1-8289-56b64747b7af",
   "metadata": {},
   "outputs": [
    {
     "name": "stdout",
     "output_type": "stream",
     "text": [
      "ConnectionError([SSL: WRONG_VERSION_NUMBER] wrong version number (_ssl.c:1006)) caused by: SSLError([SSL: WRONG_VERSION_NUMBER] wrong version number (_ssl.c:1006))\n"
     ]
    }
   ],
   "source": [
    "try:\n",
    "    print(es_client_om.cat.health())\n",
    "    # print(json.dumps(es_client.cat.indices(params={\"format\": \"json\"}), indent=2))\n",
    "    es_health_dict = es_client_om.cluster.health()\n",
    "    print(json.dumps(es_health_dict, indent=2))\n",
    "    \n",
    "    es_user_es_indices_list = list(es_client_wx.indices.get(\"*\").keys())\n",
    "    # print(es_wxusers_es_indices_list)\n",
    "    print(\"** A list of ES Indices for users **\")\n",
    "    print(json.dumps(es_user_es_indices_list, indent=2))\n",
    "except Exception as e:\n",
    "        print(str(e))"
   ]
  },
  {
   "cell_type": "markdown",
   "id": "f946f753-16da-4723-ad41-d178af04ee1c",
   "metadata": {},
   "source": [
    "### Verify if user can be accessed to the ES cluster with Search Guard as X-pack\n",
    "* ES Version : ES v.8.17.0 via https protocal\n",
    "* X-pack : Search Guard for ES v.8.17.0\n",
    "* Library : Request Package\n",
    "* Pass the link to the certificate for ssl validation  with user credential via get_es_instance function"
   ]
  },
  {
   "cell_type": "code",
   "execution_count": 178,
   "id": "b83648b0-4fdd-4ab8-b10f-75bc17ddf5cd",
   "metadata": {},
   "outputs": [],
   "source": [
    "def request_verify_es_health(auth):\n",
    "    try:\n",
    "        ''' wxuser '''\n",
    "        res = requests.get(\n",
    "            url=source_es_host, \n",
    "            headers=get_headers(auth), \n",
    "            verify=ca_cert_path)\n",
    "    \n",
    "        if not res.status_code == 200:\n",
    "           print(res.status_code, http_status_code.get(res.status_code, \"None\"))\n",
    "           print('\\n')\n",
    "           return\n",
    "           \n",
    "        print(json.dumps(res.json(), indent=2))\n",
    "        print('\\n')\n",
    "    except Exception as e:\n",
    "        print(str(e))"
   ]
  },
  {
   "cell_type": "code",
   "execution_count": 179,
   "id": "e74bf61c-f5cb-4d79-9809-3adad1ec802d",
   "metadata": {},
   "outputs": [
    {
     "name": "stdout",
     "output_type": "stream",
     "text": [
      "{\n",
      "  \"name\": \"fn-dm-bees-omni-data-01\",\n",
      "  \"cluster_name\": \"docker-elasticsearch\",\n",
      "  \"cluster_uuid\": \"w3idAZFFS1uh6v5LieHUxA\",\n",
      "  \"version\": {\n",
      "    \"number\": \"8.8.0\",\n",
      "    \"build_flavor\": \"default\",\n",
      "    \"build_type\": \"docker\",\n",
      "    \"build_hash\": \"c01029875a091076ed42cdb3a41c10b1a9a5a20f\",\n",
      "    \"build_date\": \"2023-05-23T17:16:07.179039820Z\",\n",
      "    \"build_snapshot\": false,\n",
      "    \"lucene_version\": \"9.6.0\",\n",
      "    \"minimum_wire_compatibility_version\": \"7.17.0\",\n",
      "    \"minimum_index_compatibility_version\": \"7.0.0\"\n",
      "  },\n",
      "  \"tagline\": \"You Know, for Search\"\n",
      "}\n",
      "\n",
      "\n"
     ]
    }
   ],
   "source": [
    "request_verify_es_health('BASIC_AUTH_WX')"
   ]
  },
  {
   "cell_type": "code",
   "execution_count": 180,
   "id": "7f571e91-c388-4b8d-a64c-f9e631b10e49",
   "metadata": {},
   "outputs": [
    {
     "name": "stdout",
     "output_type": "stream",
     "text": [
      "{\n",
      "  \"name\": \"fn-dm-bees-omni-data-01\",\n",
      "  \"cluster_name\": \"docker-elasticsearch\",\n",
      "  \"cluster_uuid\": \"w3idAZFFS1uh6v5LieHUxA\",\n",
      "  \"version\": {\n",
      "    \"number\": \"8.8.0\",\n",
      "    \"build_flavor\": \"default\",\n",
      "    \"build_type\": \"docker\",\n",
      "    \"build_hash\": \"c01029875a091076ed42cdb3a41c10b1a9a5a20f\",\n",
      "    \"build_date\": \"2023-05-23T17:16:07.179039820Z\",\n",
      "    \"build_snapshot\": false,\n",
      "    \"lucene_version\": \"9.6.0\",\n",
      "    \"minimum_wire_compatibility_version\": \"7.17.0\",\n",
      "    \"minimum_index_compatibility_version\": \"7.0.0\"\n",
      "  },\n",
      "  \"tagline\": \"You Know, for Search\"\n",
      "}\n",
      "\n",
      "\n"
     ]
    }
   ],
   "source": [
    "request_verify_es_health('BASIC_AUTH_OM')"
   ]
  },
  {
   "cell_type": "code",
   "execution_count": null,
   "id": "d12e7475",
   "metadata": {},
   "outputs": [],
   "source": [
    "HTML('<pre style=\"background-color: #A52A2A; color: white;\">Job is being performed correctly</pre>')"
   ]
  }
 ],
 "metadata": {
  "kernelspec": {
   "display_name": "Python 3 (ipykernel)",
   "language": "python",
   "name": "python3"
  },
  "language_info": {
   "codemirror_mode": {
    "name": "ipython",
    "version": 3
   },
   "file_extension": ".py",
   "mimetype": "text/x-python",
   "name": "python",
   "nbconvert_exporter": "python",
   "pygments_lexer": "ipython3",
   "version": "3.11.7"
  }
 },
 "nbformat": 4,
 "nbformat_minor": 5
}
