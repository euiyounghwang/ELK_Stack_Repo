{
 "cells": [
  {
   "cell_type": "code",
   "execution_count": 756,
   "id": "0f2abe21-7d39-4b5f-885c-6f6a8b6fd7f8",
   "metadata": {},
   "outputs": [
    {
     "name": "stdout",
     "output_type": "stream",
     "text": [
      "ssl verification via Search-Guard\n"
     ]
    }
   ],
   "source": [
    "''' The Jupyter notebook is a web-based notebook environment for interactive computing. '''\n",
    "print(f\"ssl verification via Search-Guard\")"
   ]
  },
  {
   "cell_type": "code",
   "execution_count": 757,
   "id": "f96e25ea-9ce0-4080-8fd0-90ba3d68da99",
   "metadata": {},
   "outputs": [],
   "source": [
    "from elasticsearch import Elasticsearch\n",
    "import os\n",
    "import json\n",
    "import pandas as pd\n",
    "import jsondiff\n",
    "import logging\n",
    "from dotenv import load_dotenv\n",
    "import socket\n",
    "import requests\n",
    "import sys\n",
    "import warnings\n",
    "warnings.filterwarnings(\"ignore\")"
   ]
  },
  {
   "cell_type": "code",
   "execution_count": 758,
   "id": "26ed0df3-efb6-40f9-88ae-f37a02ad5b2f",
   "metadata": {},
   "outputs": [
    {
     "data": {
      "text/plain": [
       "True"
      ]
     },
     "execution_count": 758,
     "metadata": {},
     "output_type": "execute_result"
    }
   ],
   "source": [
    "''' pip install python-dotenv'''\n",
    "load_dotenv() # will search for .env file in local folder and load variables"
   ]
  },
  {
   "cell_type": "code",
   "execution_count": 759,
   "id": "9108f966-01e0-45c3-bfd4-ba0cf8a2abbe",
   "metadata": {},
   "outputs": [],
   "source": [
    "INDEX = \"om_test\""
   ]
  },
  {
   "cell_type": "code",
   "execution_count": 760,
   "id": "4dfa95fc-e403-4fed-acf0-fb96086d1f5d",
   "metadata": {},
   "outputs": [],
   "source": [
    "ca_cert_path = '../upgrade-script/certs/qa13_new/qa13-es8-ca.pem'"
   ]
  },
  {
   "cell_type": "code",
   "execution_count": 761,
   "id": "07120ead-48b9-4472-9710-fb6f2c705e5e",
   "metadata": {},
   "outputs": [],
   "source": [
    "''' https://restfulapi.net/http-status-codes/ '''\n",
    "http_status_code = {\n",
    "    200 : 'Indicates that the request has succeeded.',\n",
    "    201 : 'Indicates that the request has succeeded and a new resource has been created as a result.',\n",
    "    400 : 'The server could not understand the request due to incorrect syntax. The client should NOT repeat the request without modifications.',\n",
    "    401 : 'Unauthorized rquests. Insufficient permissions',\n",
    "    403 : 'Unauthorized request. Insufficient permissions. The client does not have access rights to the content. ',\n",
    "    500 : 'The server encountered an unexpected condition that prevented it from fulfilling the request.'\n",
    "}"
   ]
  },
  {
   "cell_type": "code",
   "execution_count": 762,
   "id": "cfbea51d-b54a-4c44-909a-395f7c0c20d4",
   "metadata": {},
   "outputs": [],
   "source": [
    "''' base64 encode '''\n",
    "def base64_encode_for_search_guard(id_pass):\n",
    "    ''' format -> <id>:<password> '''\n",
    "    encoded = '{}'.format(base64.b64encode(id_pass.encode('utf-8')).decode())\n",
    "    # print(encoded)\n",
    "    return encoded"
   ]
  },
  {
   "cell_type": "code",
   "execution_count": 763,
   "id": "df66f6e4-1d92-477f-9c0d-cc71575c1735",
   "metadata": {},
   "outputs": [],
   "source": [
    "''' base64 decode '''\n",
    "def base64_decode_for_search_guard(id_pass):\n",
    "    ''' format -> <id>:<password> '''\n",
    "    return base64.b64decode(id_pass).decode('utf-8')"
   ]
  },
  {
   "cell_type": "code",
   "execution_count": 764,
   "id": "71627d38-5543-4fbb-84c9-ad093062d68f",
   "metadata": {},
   "outputs": [],
   "source": [
    "def get_headers(auth):\n",
    "    ''' Elasticsearch Header '''\n",
    "    ''' \n",
    "    Basic Authentication is a method for an HTTP user agent (e.g., a web browser) \n",
    "    to provide a username and password when making a request. \n",
    "    You can send the authorization header \n",
    "    when making requests and accessing to ES Cluster based on Search-Guard as X-pack. \n",
    "      \n",
    "    Basic Auth : \n",
    "    {\n",
    "        'Content-type': 'application/json', \n",
    "        'Authorization' : 'Basic base64.encode(id:password), \n",
    "        'Connection': 'close'\n",
    "    }\n",
    "    '''\n",
    "    return {\n",
    "            'Content-type': 'application/json', \n",
    "            'Authorization' : '{}'.format(os.getenv(auth)),\n",
    "            'Connection': 'close'\n",
    "    }"
   ]
  },
  {
   "cell_type": "code",
   "execution_count": 765,
   "id": "f823a7f7-62e6-428c-be3b-add8914a2a2b",
   "metadata": {},
   "outputs": [],
   "source": [
    "# source_es_host = \"http://localhost:9201\"\n",
    "source_es_host = os.getenv('ES_DEV_V8_HOST')"
   ]
  },
  {
   "cell_type": "markdown",
   "id": "79d17377-5a50-40ec-84ab-33b21040b8bc",
   "metadata": {},
   "source": [
    "### Verify if user can be accessed to the ES cluster with Search Guard as X-pack\n",
    "* ES Version : ES v.8.17.0 via https protocal\n",
    "* X-pack : Search Guard for ES v.8.17.0\n",
    "* Library : ES cliient (https://elasticsearch-py.readthedocs.io/en/v8.17.0/)\n",
    "* Pass the link to the certificate for ssl validation with user credential via get_es_instance function"
   ]
  },
  {
   "cell_type": "code",
   "execution_count": 766,
   "id": "ae7b7d99-6884-4a8d-98c7-854bb8951d8b",
   "metadata": {},
   "outputs": [],
   "source": [
    "def get_es_instance(auth):\n",
    "    ''' create es instance with user credential and ssl verification '''\n",
    "    try:\n",
    "        ''' To disable certificate verification, at the client side, one can use verify attribute.  -- Verify False''' \n",
    "        # es_client = Elasticsearch(hosts=\"{}\".format(source_es_host), headers=get_headers(), timeout=5,  verify_certs=False)\n",
    "        \n",
    "        ''' We can also pass the link to the certificate for validation via python requests only. '''\n",
    "        ''' If we don't pass the link for the certification, we may get the message like \n",
    "        caused by: SSLError([SSL: CERTIFICATE_VERIFY_FAILED] certificate verify failed: unable to get local issuer certificate (_ssl.c:1006)) if it doesn't exist ca certs\n",
    "        '''\n",
    "        es_client = Elasticsearch(hosts=\"{}\".format(source_es_host), \n",
    "                                  use_ssl=True, \n",
    "                                  ca_certs=ca_cert_path, \n",
    "                                  headers=get_headers(auth), \n",
    "                                  timeout=5,  \n",
    "                                  verify_certs=True\n",
    "                                 )\n",
    "        return es_client\n",
    "    except Exception as e:\n",
    "        print(str(e))\n"
   ]
  },
  {
   "cell_type": "code",
   "execution_count": 767,
   "id": "9a310273-4f72-4cd6-8d89-997e82ee569e",
   "metadata": {},
   "outputs": [],
   "source": [
    "es_client_wx = get_es_instance('BASIC_AUTH_WX')"
   ]
  },
  {
   "cell_type": "code",
   "execution_count": 768,
   "id": "1b019a83-0727-42dc-91b0-43f0deac8f96",
   "metadata": {},
   "outputs": [
    {
     "name": "stdout",
     "output_type": "stream",
     "text": [
      "1740429274 20:34:34 supplychain-logging-qa13-es8 green 3 3 293 251 0 0 0 0 0 - 100.0%\n",
      "\n",
      "{\n",
      "  \"cluster_name\": \"supplychain-logging-qa13-es8\",\n",
      "  \"status\": \"green\",\n",
      "  \"timed_out\": false,\n",
      "  \"number_of_nodes\": 3,\n",
      "  \"number_of_data_nodes\": 3,\n",
      "  \"active_primary_shards\": 251,\n",
      "  \"active_shards\": 293,\n",
      "  \"relocating_shards\": 0,\n",
      "  \"initializing_shards\": 0,\n",
      "  \"unassigned_shards\": 0,\n",
      "  \"unassigned_primary_shards\": 0,\n",
      "  \"delayed_unassigned_shards\": 0,\n",
      "  \"number_of_pending_tasks\": 0,\n",
      "  \"number_of_in_flight_fetch\": 0,\n",
      "  \"task_max_waiting_in_queue_millis\": 0,\n",
      "  \"active_shards_percent_as_number\": 100.0\n",
      "}\n"
     ]
    }
   ],
   "source": [
    "try:\n",
    "    print(es_client_wx.cat.health())\n",
    "    # print(json.dumps(es_client.cat.indices(params={\"format\": \"json\"}), indent=2))\n",
    "    es_health_dict = es_client_wx.cluster.health()\n",
    "    print(json.dumps(es_health_dict, indent=2))\n",
    "    df = pd.DataFrame.from_dict([es_health_dict])\n",
    "except Exception as e:\n",
    "    print(str(e))"
   ]
  },
  {
   "cell_type": "code",
   "execution_count": 769,
   "id": "745f958d-2789-4bb6-a6aa-77c58cdab522",
   "metadata": {},
   "outputs": [],
   "source": [
    "es_client_om = get_es_instance('BASIC_AUTH_OM')"
   ]
  },
  {
   "cell_type": "code",
   "execution_count": 770,
   "id": "219475b8-6506-42d1-8289-56b64747b7af",
   "metadata": {},
   "outputs": [
    {
     "name": "stdout",
     "output_type": "stream",
     "text": [
      "1740429275 20:34:35 supplychain-logging-qa13-es8 green 3 3 293 251 0 0 0 0 0 - 100.0%\n",
      "\n",
      "{\n",
      "  \"cluster_name\": \"supplychain-logging-qa13-es8\",\n",
      "  \"status\": \"green\",\n",
      "  \"timed_out\": false,\n",
      "  \"number_of_nodes\": 3,\n",
      "  \"number_of_data_nodes\": 3,\n",
      "  \"active_primary_shards\": 251,\n",
      "  \"active_shards\": 293,\n",
      "  \"relocating_shards\": 0,\n",
      "  \"initializing_shards\": 0,\n",
      "  \"unassigned_shards\": 0,\n",
      "  \"unassigned_primary_shards\": 0,\n",
      "  \"delayed_unassigned_shards\": 0,\n",
      "  \"number_of_pending_tasks\": 0,\n",
      "  \"number_of_in_flight_fetch\": 0,\n",
      "  \"task_max_waiting_in_queue_millis\": 0,\n",
      "  \"active_shards_percent_as_number\": 100.0\n",
      "}\n"
     ]
    }
   ],
   "source": [
    "try:\n",
    "    print(es_client_om.cat.health())\n",
    "    # print(json.dumps(es_client.cat.indices(params={\"format\": \"json\"}), indent=2))\n",
    "    es_health_dict = es_client_om.cluster.health()\n",
    "    print(json.dumps(es_health_dict, indent=2))\n",
    "    df = pd.DataFrame.from_dict([es_health_dict])\n",
    "except Exception as e:\n",
    "        print(str(e))"
   ]
  },
  {
   "cell_type": "markdown",
   "id": "f946f753-16da-4723-ad41-d178af04ee1c",
   "metadata": {},
   "source": [
    "### Verify if user can be accessed to the ES cluster with Search Guard as X-pack\n",
    "* ES Version : ES v.8.17.0 via https protocal\n",
    "* X-pack : Search Guard for ES v.8.17.0\n",
    "* Library : Request Package\n",
    "* Pass the link to the certificate for ssl validation  with user credential via get_es_instance function"
   ]
  },
  {
   "cell_type": "code",
   "execution_count": 771,
   "id": "b83648b0-4fdd-4ab8-b10f-75bc17ddf5cd",
   "metadata": {},
   "outputs": [],
   "source": [
    "def request_verify_es_health(auth):\n",
    "    try:\n",
    "        ''' wxuser '''\n",
    "        res = requests.get(\n",
    "            url=os.getenv(\"ES_DEV_V8_HOST\"), \n",
    "            headers=get_headers(auth), \n",
    "            verify=ca_cert_path)\n",
    "    \n",
    "        if not res.status_code == 200:\n",
    "           print(res.status_code, http_status_code.get(res.status_code, \"None\"))\n",
    "           print('\\n')\n",
    "           return\n",
    "           \n",
    "        print(json.dumps(res.json(), indent=2))\n",
    "        print('\\n')\n",
    "    except Exception as e:\n",
    "        print(str(e))"
   ]
  },
  {
   "cell_type": "code",
   "execution_count": 772,
   "id": "e74bf61c-f5cb-4d79-9809-3adad1ec802d",
   "metadata": {},
   "outputs": [
    {
     "name": "stdout",
     "output_type": "stream",
     "text": [
      "{\n",
      "  \"name\": \"supplychain-logging-qa13-1\",\n",
      "  \"cluster_name\": \"supplychain-logging-qa13-es8\",\n",
      "  \"cluster_uuid\": \"iiQ1fnsxSz2c0VDmhWcctg\",\n",
      "  \"version\": {\n",
      "    \"number\": \"8.17.0\",\n",
      "    \"build_flavor\": \"default\",\n",
      "    \"build_type\": \"tar\",\n",
      "    \"build_hash\": \"2b6a7fed44faa321997703718f07ee0420804b41\",\n",
      "    \"build_date\": \"2024-12-11T12:08:05.663969764Z\",\n",
      "    \"build_snapshot\": false,\n",
      "    \"lucene_version\": \"9.12.0\",\n",
      "    \"minimum_wire_compatibility_version\": \"7.17.0\",\n",
      "    \"minimum_index_compatibility_version\": \"7.0.0\"\n",
      "  },\n",
      "  \"tagline\": \"You Know, for Search\"\n",
      "}\n",
      "\n",
      "\n"
     ]
    }
   ],
   "source": [
    "request_verify_es_health('BASIC_AUTH_WX')"
   ]
  },
  {
   "cell_type": "code",
   "execution_count": 773,
   "id": "7f571e91-c388-4b8d-a64c-f9e631b10e49",
   "metadata": {},
   "outputs": [
    {
     "name": "stdout",
     "output_type": "stream",
     "text": [
      "{\n",
      "  \"name\": \"supplychain-logging-qa13-1\",\n",
      "  \"cluster_name\": \"supplychain-logging-qa13-es8\",\n",
      "  \"cluster_uuid\": \"iiQ1fnsxSz2c0VDmhWcctg\",\n",
      "  \"version\": {\n",
      "    \"number\": \"8.17.0\",\n",
      "    \"build_flavor\": \"default\",\n",
      "    \"build_type\": \"tar\",\n",
      "    \"build_hash\": \"2b6a7fed44faa321997703718f07ee0420804b41\",\n",
      "    \"build_date\": \"2024-12-11T12:08:05.663969764Z\",\n",
      "    \"build_snapshot\": false,\n",
      "    \"lucene_version\": \"9.12.0\",\n",
      "    \"minimum_wire_compatibility_version\": \"7.17.0\",\n",
      "    \"minimum_index_compatibility_version\": \"7.0.0\"\n",
      "  },\n",
      "  \"tagline\": \"You Know, for Search\"\n",
      "}\n",
      "\n",
      "\n"
     ]
    }
   ],
   "source": [
    "request_verify_es_health('BASIC_AUTH_OM')"
   ]
  }
 ],
 "metadata": {
  "kernelspec": {
   "display_name": "Python 3 (ipykernel)",
   "language": "python",
   "name": "python3"
  },
  "language_info": {
   "codemirror_mode": {
    "name": "ipython",
    "version": 3
   },
   "file_extension": ".py",
   "mimetype": "text/x-python",
   "name": "python",
   "nbconvert_exporter": "python",
   "pygments_lexer": "ipython3",
   "version": "3.11.7"
  }
 },
 "nbformat": 4,
 "nbformat_minor": 5
}
