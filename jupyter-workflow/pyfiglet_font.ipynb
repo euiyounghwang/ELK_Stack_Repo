{
 "cells": [
  {
   "cell_type": "code",
   "execution_count": 49,
   "id": "a5afcd12-72f9-48c9-afaa-bbb49b3cc0e2",
   "metadata": {},
   "outputs": [],
   "source": [
    "#!pip install pyfiglet"
   ]
  },
  {
   "cell_type": "code",
   "execution_count": 50,
   "id": "1b273472-2eb7-4b38-81f8-3adb4e5f2489",
   "metadata": {},
   "outputs": [],
   "source": [
    "import pyfiglet"
   ]
  },
  {
   "cell_type": "code",
   "execution_count": 51,
   "id": "bf8553b4-5cc1-4b84-8894-2c0941ae294c",
   "metadata": {},
   "outputs": [],
   "source": [
    "styled_text=pyfiglet.figlet_format('ES Monitoring!',font= 'doom')"
   ]
  },
  {
   "cell_type": "code",
   "execution_count": 52,
   "id": "a1714a96-9ade-4a42-a00d-77eeebd3ccca",
   "metadata": {},
   "outputs": [
    {
     "name": "stdout",
     "output_type": "stream",
     "text": [
      " _____ _____  ___  ___            _ _             _             _ \n",
      "|  ___/  ___| |  \\/  |           (_) |           (_)           | |\n",
      "| |__ \\ `--.  | .  . | ___  _ __  _| |_ ___  _ __ _ _ __   __ _| |\n",
      "|  __| `--. \\ | |\\/| |/ _ \\| '_ \\| | __/ _ \\| '__| | '_ \\ / _` | |\n",
      "| |___/\\__/ / | |  | | (_) | | | | | || (_) | |  | | | | | (_| |_|\n",
      "\\____/\\____/  \\_|  |_/\\___/|_| |_|_|\\__\\___/|_|  |_|_| |_|\\__, (_)\n",
      "                                                           __/ |  \n",
      "                                                          |___/   \n",
      "\n"
     ]
    }
   ],
   "source": [
    "print(styled_text)"
   ]
  }
 ],
 "metadata": {
  "kernelspec": {
   "display_name": "Python 3 (ipykernel)",
   "language": "python",
   "name": "python3"
  },
  "language_info": {
   "codemirror_mode": {
    "name": "ipython",
    "version": 3
   },
   "file_extension": ".py",
   "mimetype": "text/x-python",
   "name": "python",
   "nbconvert_exporter": "python",
   "pygments_lexer": "ipython3",
   "version": "3.11.7"
  }
 },
 "nbformat": 4,
 "nbformat_minor": 5
}
