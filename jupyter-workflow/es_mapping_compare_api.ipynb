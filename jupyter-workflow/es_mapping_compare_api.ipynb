{
 "cells": [
  {
   "cell_type": "code",
   "execution_count": 28,
   "id": "9e02f52c-6045-41dd-9387-f2365554f8fb",
   "metadata": {},
   "outputs": [
    {
     "name": "stdout",
     "output_type": "stream",
     "text": [
      "ES Mapping Compare via REST API\n"
     ]
    }
   ],
   "source": [
    "print(f\"ES Mapping Compare via REST API\")"
   ]
  },
  {
   "cell_type": "code",
   "execution_count": 29,
   "id": "97c2d8fa-4ba3-4127-b9de-0cf16b1ad7a4",
   "metadata": {},
   "outputs": [],
   "source": [
    "#!pip install gradio"
   ]
  },
  {
   "cell_type": "code",
   "execution_count": 30,
   "id": "bba09ccc-b9bd-439e-b894-e7ad6528432d",
   "metadata": {},
   "outputs": [],
   "source": [
    "import time\n",
    "import gradio as gr"
   ]
  },
  {
   "cell_type": "code",
   "execution_count": null,
   "id": "0f07f214-4b57-4a12-8058-3c08b0741282",
   "metadata": {},
   "outputs": [],
   "source": [
    "from elasticsearch import Elasticsearch\n",
    "import os\n",
    "import json\n",
    "import pandas as pd\n",
    "import jsondiff\n",
    "import logging\n",
    "from dotenv import load_dotenv\n",
    "import socket\n",
    "import requests\n",
    "import warnings\n",
    "warnings.filterwarnings(\"ignore\")"
   ]
  },
  {
   "cell_type": "code",
   "execution_count": 32,
   "id": "47011dee-8f84-4202-87d5-93cb5e2115a5",
   "metadata": {},
   "outputs": [
    {
     "data": {
      "text/plain": [
       "True"
      ]
     },
     "execution_count": 32,
     "metadata": {},
     "output_type": "execute_result"
    }
   ],
   "source": [
    "''' pip install python-dotenv'''\n",
    "load_dotenv() # will search for .env file in local folder and load variables "
   ]
  },
  {
   "cell_type": "code",
   "execution_count": 33,
   "id": "00bfaf01-7fb8-4bc9-b066-cb5c3131e59c",
   "metadata": {},
   "outputs": [],
   "source": [
    "js_func = \"\"\"\n",
    "function refresh() {\n",
    "    const url = new URL(window.location);\n",
    "\n",
    "    if (url.searchParams.get('__theme') !== 'dark') {\n",
    "        url.searchParams.set('__theme', 'dark');\n",
    "        window.location.href = url.href;\n",
    "    }\n",
    "}\n",
    "\"\"\""
   ]
  },
  {
   "cell_type": "code",
   "execution_count": 34,
   "id": "eacdbefb-d1ad-4c70-8676-a894a2f973ce",
   "metadata": {},
   "outputs": [],
   "source": [
    "def get_headers():\n",
    "    ''' Elasticsearch Header '''\n",
    "    return {\n",
    "            'Content-type': 'application/json', \n",
    "            'Authorization' : '{}'.format(os.getenv('BASIC_AUTH')),\n",
    "            # 'Connection': 'close'\n",
    "    }"
   ]
  },
  {
   "cell_type": "code",
   "execution_count": 35,
   "id": "1649ec7d-47e4-4fe3-944d-8430ec1d6af8",
   "metadata": {},
   "outputs": [],
   "source": [
    "smart_suit_envs = {\n",
    "    \"QA-01\" : \"http://localhost:9201\",\n",
    "    \"QA-22\" : \"http://localhost:9202\"\n",
    "}"
   ]
  },
  {
   "cell_type": "code",
   "execution_count": 36,
   "id": "bb3fae16-77e8-4db7-aa96-5fb2e094ea2a",
   "metadata": {},
   "outputs": [],
   "source": [
    "def port_verify(port):\n",
    "    sock = socket.socket(socket.AF_INET, socket.SOCK_STREAM)\n",
    "    result = sock.connect_ex(('127.0.0.1',port))\n",
    "    if result == 0:\n",
    "       print(\"Port is open\")\n",
    "    else:\n",
    "       print(\"Port is not open\")\n",
    "    sock.close()"
   ]
  },
  {
   "cell_type": "code",
   "execution_count": 37,
   "id": "7b96a685-daa0-4deb-a6b7-0a317ddcd970",
   "metadata": {},
   "outputs": [],
   "source": [
    "''' https://www.elastic.co/guide/en/elasticsearch/client/python-api/current/migration.html '''\n",
    "''' In 8.0.0 responses are no longer the raw deserialized response body and instead an object with two properties, meta and body '''\n",
    "def es_get_health(source_es, target_es):\n",
    "    if source_es in smart_suit_envs.keys() and source_es in smart_suit_envs.keys():\n",
    "        es_client = Elasticsearch(hosts=\"{}\".format(smart_suit_envs.get(source_es)), headers=get_headers(), timeout=5,  verify_certs=False)\n",
    "        # return json.dumps(es_client.cluster.health().body, indent=2), es_client.cluster.health()['status']\n",
    "        return json.dumps(es_client.cluster.health(), indent=2), es_client.cluster.health()['status']\n",
    "    else:\n",
    "        return {},{}"
   ]
  },
  {
   "cell_type": "code",
   "execution_count": 38,
   "id": "d3dc326f-7ceb-4488-a62b-71fb8a483550",
   "metadata": {},
   "outputs": [],
   "source": [
    "def get_es_instance(host):\n",
    "    es_client = Elasticsearch(hosts=\"{}\".format(host), headers=get_headers(), timeout=5,  verify_certs=False)\n",
    "    return es_client\n"
   ]
  },
  {
   "cell_type": "code",
   "execution_count": 39,
   "id": "5eb96934-5831-493f-89f3-91b8a649e9d1",
   "metadata": {},
   "outputs": [],
   "source": [
    "response = {}\n",
    "all_same_mapping = []\n",
    "source_idx_cnt, target_idx_cnt = 0, 0"
   ]
  },
  {
   "cell_type": "code",
   "execution_count": 40,
   "id": "4b47e3f3-5917-4a19-879a-a6018b91778f",
   "metadata": {},
   "outputs": [],
   "source": [
    "def compare_mapping(index_name, diff):\n",
    "    ''' compare diff using jsondiff library '''\n",
    "    if not diff:\n",
    "        all_same_mapping.append(True)\n",
    "        response.update({index_name : {'diff' : 'Same mapping'}})\n",
    "    else:\n",
    "        all_same_mapping.append(False)\n",
    "        response.update({index_name : {'diff' : 'Different mapping', 'result' : diff}})\n",
    "    return response, all_same_mapping"
   ]
  },
  {
   "cell_type": "code",
   "execution_count": 41,
   "id": "1fe23590-f567-4854-a284-873b761f1db4",
   "metadata": {},
   "outputs": [],
   "source": [
    "def es_version_verify(es_client):\n",
    "    # print(es_client.info()['version']['number'], type(es_client.info()['version']['number']))\n",
    "    ''' if es_client v.5.X '''\n",
    "    if \"5.\" in es_client.info()['version']['number']:\n",
    "        return True\n",
    "    else:\n",
    "        return False"
   ]
  },
  {
   "cell_type": "code",
   "execution_count": 42,
   "id": "8cacbff4-c431-4f71-b3bd-d5b2b62d5fe6",
   "metadata": {},
   "outputs": [],
   "source": [
    "def lookup_type_in_indices(key):\n",
    "    ''' lookup type we want to compare from the source es cluster '''\n",
    "    if \"OM_\" in key or \"WX_\" in key or \"ES_\" in key or \"ARCHIVE_\" in key:\n",
    "        return True\n",
    "    return False"
   ]
  },
  {
   "cell_type": "code",
   "execution_count": 43,
   "id": "3b1e4b88-5de0-4e13-92c0-0b287f53b4ac",
   "metadata": {},
   "outputs": [],
   "source": [
    "def get_mapping_from_properties(mapping, es_v5=False):\n",
    "    if es_v5:\n",
    "        return {\"properties\" : v2.get(\"properties\") for k, v in mapping.items() for k1, v1 in v.items() for k2, v2 in v1.items() if lookup_type_in_indices(k2)} \n",
    "    else:\n",
    "        return {'properties': v2 for k, v in mapping.items() for k1, v1 in v.items() for k2, v2 in v1.items() }\n",
    "            "
   ]
  },
  {
   "cell_type": "code",
   "execution_count": 44,
   "id": "ae92824c-f254-4ec5-8ed6-066698860503",
   "metadata": {},
   "outputs": [],
   "source": [
    "def lookup(es_obj_s_client, es_obj_t_client, source_idx_lists):\n",
    "    global source_idx_cnt, target_idx_cnt\n",
    "    try:\n",
    "        for index_name in source_idx_lists:\n",
    "            ''' real index '''\n",
    "            source_idx_cnt +=1\n",
    "            if index_name.startswith(\"wx_\") or index_name.startswith(\"om_\") or index_name.startswith(\"es_\") or index_name.startswith(\"archive_es_\"):\n",
    "                # print('OKD : {}'.format(index_name))\n",
    "                source_mapping = es_obj_s_client.indices.get_mapping(index=index_name)\n",
    "                target_mapping = es_obj_t_client.indices.get_mapping(index=index_name)\n",
    "\n",
    "                ''' Determin what version of es client is running '''\n",
    "                # print(es_version_verify(es_obj_s_client), es_version_verify(es_obj_t_client))\n",
    "                ''' get es_version as argument '''\n",
    "                # print(f\"source es version : {es_version_verify(es_obj_s_client)}\")\n",
    "                source_mappings = get_mapping_from_properties(source_mapping, es_v5=es_version_verify(es_obj_s_client))\n",
    "                ''' get es_version as argument '''\n",
    "                # print(f\"target es version : {es_version_verify(es_obj_t_client)}\")\n",
    "                target_mappings = get_mapping_from_properties(target_mapping, es_v5=es_version_verify(es_obj_t_client))\n",
    "        \n",
    "                # Compare JSON objects using jsondiff\n",
    "                diff = jsondiff.diff(source_mappings, target_mappings, marshal=True, syntax=\"symmetric\")\n",
    "                # diff = jsondiff.diff(source_mappings, target_mappings, marshal=True)\n",
    "                \n",
    "                ''' Compare mapping the specific index_name between source/target cluster '''\n",
    "                compare_mapping(index_name, diff)\n",
    "                target_idx_cnt += 1\n",
    "    except Exception as e:\n",
    "        # print(e)\n",
    "        pass\n",
    "    "
   ]
  },
  {
   "cell_type": "code",
   "execution_count": 45,
   "id": "5766b66f-3889-4c3b-9ddf-a27ae81fbbca",
   "metadata": {},
   "outputs": [],
   "source": [
    "def es_mapping_result(source,target):\n",
    "    # print(source, target)\n",
    "    global es_obj_s_client, es_obj_t_client\n",
    "    ''' --------------------'''\n",
    "    ''' Compare the custom mappings via the internal functions '''\n",
    "    print(smart_suit_envs.get(source), smart_suit_envs.get(target))\n",
    "    ''' Source cluster '''\n",
    "    es_obj_s_client = get_es_instance(f\"{smart_suit_envs.get(source)}\")\n",
    "    ''' Target cluster '''\n",
    "    es_obj_t_client = get_es_instance(f\"{smart_suit_envs.get(target)}\")\n",
    "\n",
    "    resp = es_obj_s_client.cluster.health()\n",
    "    print(json.dumps(resp, indent=2))\n",
    "\n",
    "    # source_idx_lists = ['om_whorder_02072022_22_2_1']\n",
    "    source_idx_lists = list(es_obj_s_client.indices.get(\"*\"))\n",
    "    # print(source_idx_lists)\n",
    "\n",
    "    ''' lookup all ES indices for compring between two clusters '''\n",
    "    lookup(es_obj_s_client, es_obj_t_client, source_idx_lists)\n",
    "    ''' --------------------'''\n",
    " \n",
    "    return json.dumps(response,indent=2), all(all_same_mapping)\n",
    "    # return response, all(all_same_mapping)"
   ]
  },
  {
   "cell_type": "code",
   "execution_count": 46,
   "id": "60cb34ee-9c9a-4fe4-8d16-159c440c6d7d",
   "metadata": {},
   "outputs": [],
   "source": [
    "def call_rest_api(source, target):\n",
    "    global source_idx_cnt, target_idx_cnt, response\n",
    "    ''' --------------------'''\n",
    "    ''' Compare the custom mappings via API'''\n",
    "    http_urls = \"http://{}:8001/index/all_indices_mapping_compare?source_cluster={}&target_cluster={}\".format(\"localhost\", smart_suit_envs.get(source), smart_suit_envs.get(target))\n",
    "    resp = requests.get(url=http_urls, timeout=600)\n",
    "    logging.info(f\"resp status code : {resp.status_code}\")\n",
    "    \n",
    "    if not resp.status_code == 200:\n",
    "        response = {}\n",
    "        source_idx_cnt = -1\n",
    "        target_idx_cnt = -1\n",
    "        return\n",
    "                \n",
    "    source_idx_cnt = resp.json()['The number of ES indices in the source es cluster']\n",
    "    target_idx_cnt = resp.json()['The number of ES indices in the target es cluster that have the same index name as the source cluster']\n",
    "    \n",
    "    # return resp.json(), resp.json()['mappings_same']\n",
    "    response = resp.json()\n",
    "    "
   ]
  },
  {
   "cell_type": "code",
   "execution_count": 47,
   "id": "e7f0de69-70e3-4180-918a-930665986e6b",
   "metadata": {},
   "outputs": [],
   "source": [
    "css = \"\"\"\n",
    "#warning {background-color: #FFCCCB}\n",
    ".feedback textarea {font-size: 14px !important}\n",
    "\"\"\""
   ]
  },
  {
   "cell_type": "code",
   "execution_count": 48,
   "id": "df91136b-4155-4d4a-a2fd-58c958b25242",
   "metadata": {},
   "outputs": [],
   "source": [
    "PORT = 8092"
   ]
  },
  {
   "cell_type": "code",
   "execution_count": 49,
   "id": "107b125b-8968-4d26-9531-e2791bbdc684",
   "metadata": {},
   "outputs": [
    {
     "name": "stdout",
     "output_type": "stream",
     "text": [
      "Port is not open\n"
     ]
    }
   ],
   "source": [
    "port_verify(PORT)"
   ]
  },
  {
   "cell_type": "code",
   "execution_count": 50,
   "id": "5ac841bd-889c-4e44-9a2f-9b8fd71a475f",
   "metadata": {
    "scrolled": true
   },
   "outputs": [],
   "source": [
    "# Gradio is an open-source Python package that allows you to quickly build a demo or web application for your machine learning model, API, or any arbitrary Python function. \n",
    "# You can then share a link to your demo or web application in just a few seconds using Gradio's built-in sharing features.\n",
    "''' https://www.gradio.app/guides/quickstart '''\n",
    "''' https://www.gradio.app/docs/gradio/label '''\n",
    "''' Prerequisite: Gradio requires Python 3.10 or higher. --> We recommend installing Gradio using pip, pip install --upgrade gradio'''\n",
    "# http://127.0.0.1:7880/?__theme=dark\n",
    "# app = gr.Interface(fn=es_get_health, inputs=[\"text\"], outputs=\"text\")\n",
    "with gr.Blocks(js=js_func, css=css) as app:\n",
    "    gr.Markdown(\"# Compare the ES Custom Mappings\")\n",
    "    # host = gr.Textbox(value = \"localhost:9201\", show_label=True, label=\"host\", elem_classes=\"feedback\")\n",
    "    source_es =  gr.Dropdown(label=\"Source ES Cluster\", choices=[\"QA-01\", \"Pakistan\"], value=\"QA-01\")\n",
    "    target_es =  gr.Dropdown(label=\"Target ES Cluster\", choices=[\"QA-01\", \"QA-22\"], value=\"QA-22\")\n",
    "    result_es_mapping_json = gr.Textbox(value = \"\", show_label=True, label=\"ES Mapping Json\", elem_classes=\"feedback\")\n",
    "    result_es_mapping = gr.Label(value = \"\", show_label=True, label=\"ES Mapping Result\")\n",
    "    # gr.Interface(fn=es_get_health, inputs=[\"text\"], outputs=[\"text\", result_es_mapping])\n",
    "    # gr.Interface(fn=es_get_health, inputs=[source_es, target_es], outputs=[result_es_mapping_json, result_es_mapping])\n",
    "    gr.Interface(fn=es_mapping_result, inputs=[source_es,target_es], outputs=[result_es_mapping_json, result_es_mapping])\n",
    "        \n",
    "# app.launch(server_port=PORT)\n"
   ]
  },
  {
   "cell_type": "code",
   "execution_count": 51,
   "id": "d8f67cfc-460f-4346-aaec-8a7472cddc49",
   "metadata": {},
   "outputs": [
    {
     "name": "stdout",
     "output_type": "stream",
     "text": [
      "http://localhost:9201 http://localhost:9202\n",
      "{\n",
      "  \"cluster_name\": \"docker-cluster\",\n",
      "  \"status\": \"yellow\",\n",
      "  \"timed_out\": false,\n",
      "  \"number_of_nodes\": 1,\n",
      "  \"number_of_data_nodes\": 1,\n",
      "  \"active_primary_shards\": 118,\n",
      "  \"active_shards\": 118,\n",
      "  \"relocating_shards\": 0,\n",
      "  \"initializing_shards\": 0,\n",
      "  \"unassigned_shards\": 118,\n",
      "  \"delayed_unassigned_shards\": 0,\n",
      "  \"number_of_pending_tasks\": 0,\n",
      "  \"number_of_in_flight_fetch\": 0,\n",
      "  \"task_max_waiting_in_queue_millis\": 0,\n",
      "  \"active_shards_percent_as_number\": 50.0\n",
      "}\n"
     ]
    }
   ],
   "source": [
    "''' Run the internal functions '''\n",
    "es_mapping_result(\"QA-01\", \"QA-22\")\n",
    "\n",
    "''' Call the REST API '''\n",
    "# call_rest_api(\"QA-01\", \"QA-22\")\n",
    "\n",
    "''' is Same Mapping? '''\n",
    "is_same_mapping =  all(all_same_mapping) if all_same_mapping else api_is_same_mapping"
   ]
  },
  {
   "cell_type": "code",
   "execution_count": 52,
   "id": "180d79bf-1658-4223-8607-fdbc47c34183",
   "metadata": {},
   "outputs": [
    {
     "name": "stdout",
     "output_type": "stream",
     "text": [
      "{\n",
      "  \"archive_es_del_queue_active_test\": {\n",
      "    \"diff\": \"Same mapping\"\n",
      "  },\n",
      "  \"es_pipeline_upload_test_om\": {\n",
      "    \"diff\": \"Same mapping\"\n",
      "  },\n",
      "  \"es_pipeline_upload_test_wm\": {\n",
      "    \"diff\": \"Same mapping\"\n",
      "  }\n",
      "}\n"
     ]
    },
    {
     "data": {
      "text/plain": [
       "' https://www.textcompare.org/ '"
      ]
     },
     "execution_count": 52,
     "metadata": {},
     "output_type": "execute_result"
    }
   ],
   "source": [
    "''' compare the mappings for a given ES index between the two env’s '''\n",
    "print(json.dumps(response, indent=2))\n",
    "\n",
    "''' I’m not sure if you have an easier way to compare the mappings between two env’s for a given ES index, but this online tool works for me '''\n",
    "''' https://www.textcompare.org/ '''"
   ]
  },
  {
   "cell_type": "code",
   "execution_count": 53,
   "id": "b2677f97-a27d-4efd-9ac5-990cbd05739e",
   "metadata": {},
   "outputs": [
    {
     "data": {
      "text/html": [
       "<div>\n",
       "<style scoped>\n",
       "    .dataframe tbody tr th:only-of-type {\n",
       "        vertical-align: middle;\n",
       "    }\n",
       "\n",
       "    .dataframe tbody tr th {\n",
       "        vertical-align: top;\n",
       "    }\n",
       "\n",
       "    .dataframe thead th {\n",
       "        text-align: right;\n",
       "    }\n",
       "</style>\n",
       "<table border=\"1\" class=\"dataframe\">\n",
       "  <thead>\n",
       "    <tr style=\"text-align: right;\">\n",
       "      <th></th>\n",
       "      <th>source_es_cluster</th>\n",
       "      <th>source_idx_cnt</th>\n",
       "      <th>es_obj_s_client</th>\n",
       "      <th>target_idx_cnt</th>\n",
       "    </tr>\n",
       "  </thead>\n",
       "  <tbody>\n",
       "    <tr>\n",
       "      <th>0</th>\n",
       "      <td>&lt;Elasticsearch([{'host': 'localhost', 'port': ...</td>\n",
       "      <td>3</td>\n",
       "      <td>&lt;Elasticsearch([{'host': 'localhost', 'port': ...</td>\n",
       "      <td>3</td>\n",
       "    </tr>\n",
       "  </tbody>\n",
       "</table>\n",
       "</div>"
      ],
      "text/plain": [
       "                                   source_es_cluster  source_idx_cnt  \\\n",
       "0  <Elasticsearch([{'host': 'localhost', 'port': ...               3   \n",
       "\n",
       "                                     es_obj_s_client  target_idx_cnt  \n",
       "0  <Elasticsearch([{'host': 'localhost', 'port': ...               3  "
      ]
     },
     "execution_count": 53,
     "metadata": {},
     "output_type": "execute_result"
    }
   ],
   "source": [
    "# print(f\"IDx Count is the Same? {source_idx_cnt}, {target_idx_cnt}\")\n",
    "df = pd.DataFrame({\"source_es_cluster\" : [es_obj_s_client], \"source_idx_cnt\" : [target_idx_cnt], \"es_obj_s_client\" : [es_obj_t_client], \"target_idx_cnt\" : [target_idx_cnt]})\n",
    "df.head(10)"
   ]
  },
  {
   "cell_type": "code",
   "execution_count": 54,
   "id": "a62941a6-b653-456a-8577-30e506e5c42e",
   "metadata": {},
   "outputs": [
    {
     "name": "stdout",
     "output_type": "stream",
     "text": [
      "**\n",
      "Same mappings for all indices between <Elasticsearch([{'host': 'localhost', 'port': 9201}])> and <Elasticsearch([{'host': 'localhost', 'port': 9202}])>?\n",
      "Same Mapping? True\n",
      "**\n"
     ]
    }
   ],
   "source": [
    "print('**')\n",
    "print(f\"Same mappings for all indices between {es_obj_s_client} and {es_obj_t_client}?\")\n",
    "if response:\n",
    "    print(f\"Same Mapping? {all(all_same_mapping)}\")\n",
    "print('**')"
   ]
  }
 ],
 "metadata": {
  "kernelspec": {
   "display_name": "Python 3 (ipykernel)",
   "language": "python",
   "name": "python3"
  },
  "language_info": {
   "codemirror_mode": {
    "name": "ipython",
    "version": 3
   },
   "file_extension": ".py",
   "mimetype": "text/x-python",
   "name": "python",
   "nbconvert_exporter": "python",
   "pygments_lexer": "ipython3",
   "version": "3.11.7"
  }
 },
 "nbformat": 4,
 "nbformat_minor": 5
}
