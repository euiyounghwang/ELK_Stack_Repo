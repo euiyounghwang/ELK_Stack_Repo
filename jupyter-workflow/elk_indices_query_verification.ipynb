{
 "cells": [
  {
   "cell_type": "code",
   "execution_count": 162,
   "id": "e0f0134a-713d-4362-988c-2120ed273113",
   "metadata": {},
   "outputs": [
    {
     "name": "stdout",
     "output_type": "stream",
     "text": [
      "ELK Upgrade Index Query Verification Logic\n"
     ]
    }
   ],
   "source": [
    "print(f\"ELK Upgrade Index Query Verification Logic\")"
   ]
  },
  {
   "cell_type": "code",
   "execution_count": 163,
   "id": "e0934669-32ce-469b-a638-7f7d17d79c1e",
   "metadata": {},
   "outputs": [],
   "source": [
    "from elasticsearch import Elasticsearch\n",
    "import os\n",
    "import json\n",
    "import pandas as pd\n",
    "from dotenv import load_dotenv\n",
    "import warnings\n",
    "warnings.filterwarnings(\"ignore\")"
   ]
  },
  {
   "cell_type": "code",
   "execution_count": 164,
   "id": "6d5de261-1c7e-4291-8f96-f3c42c89cfd1",
   "metadata": {},
   "outputs": [
    {
     "data": {
      "text/plain": [
       "True"
      ]
     },
     "execution_count": 164,
     "metadata": {},
     "output_type": "execute_result"
    }
   ],
   "source": [
    "''' pip install python-dotenv'''\n",
    "load_dotenv() # will search for .env file in local folder and load variables "
   ]
  },
  {
   "cell_type": "code",
   "execution_count": 165,
   "id": "ecbb0bb8-2a65-42db-ab73-d793619006e1",
   "metadata": {},
   "outputs": [],
   "source": [
    "def get_headers():\n",
    "    ''' Elasticsearch Header '''\n",
    "    return {\n",
    "            'Content-type': 'application/json', \n",
    "            'Authorization' : '{}'.format(os.getenv('BASIC_AUTH')),\n",
    "            # 'Connection': 'close'\n",
    "    }"
   ]
  },
  {
   "cell_type": "code",
   "execution_count": 166,
   "id": "86ad1782-0c73-4b01-ba56-0d872f459132",
   "metadata": {},
   "outputs": [],
   "source": [
    "source_es_host = \"http://localhost:9201\"\n",
    "target_es_host = \"http://localhost:9202\""
   ]
  },
  {
   "cell_type": "code",
   "execution_count": 167,
   "id": "689d4a38-7329-4d83-85e7-d2c9e82749ee",
   "metadata": {},
   "outputs": [],
   "source": [
    "def get_es_instance(host):\n",
    "    es_client = Elasticsearch(hosts=\"{}\".format(host), headers=get_headers(), timeout=5,  verify_certs=False)\n",
    "    return es_client\n",
    "\n",
    "''' Source cluster '''\n",
    "es_obj_s_client = get_es_instance(source_es_host)\n",
    "''' Target cluster '''\n",
    "es_obj_t_client = get_es_instance(target_es_host)"
   ]
  },
  {
   "cell_type": "code",
   "execution_count": 168,
   "id": "0e062e9b-2f02-406a-bb7e-857175813dd3",
   "metadata": {},
   "outputs": [
    {
     "name": "stdout",
     "output_type": "stream",
     "text": [
      "{\n",
      "  \"cluster_name\": \"docker-cluster\",\n",
      "  \"status\": \"yellow\",\n",
      "  \"timed_out\": false,\n",
      "  \"number_of_nodes\": 1,\n",
      "  \"number_of_data_nodes\": 1,\n",
      "  \"active_primary_shards\": 129,\n",
      "  \"active_shards\": 129,\n",
      "  \"relocating_shards\": 0,\n",
      "  \"initializing_shards\": 0,\n",
      "  \"unassigned_shards\": 129,\n",
      "  \"delayed_unassigned_shards\": 0,\n",
      "  \"number_of_pending_tasks\": 0,\n",
      "  \"number_of_in_flight_fetch\": 0,\n",
      "  \"task_max_waiting_in_queue_millis\": 0,\n",
      "  \"active_shards_percent_as_number\": 50.0\n",
      "}\n"
     ]
    }
   ],
   "source": [
    "resp = es_obj_s_client.cluster.health()\n",
    "print(json.dumps(resp, indent=2))"
   ]
  },
  {
   "cell_type": "code",
   "execution_count": 169,
   "id": "ccc8e16c-2758-485a-b15e-a398cedde561",
   "metadata": {},
   "outputs": [
    {
     "data": {
      "text/html": [
       "<div>\n",
       "<style scoped>\n",
       "    .dataframe tbody tr th:only-of-type {\n",
       "        vertical-align: middle;\n",
       "    }\n",
       "\n",
       "    .dataframe tbody tr th {\n",
       "        vertical-align: top;\n",
       "    }\n",
       "\n",
       "    .dataframe thead th {\n",
       "        text-align: right;\n",
       "    }\n",
       "</style>\n",
       "<table border=\"1\" class=\"dataframe\">\n",
       "  <thead>\n",
       "    <tr style=\"text-align: right;\">\n",
       "      <th></th>\n",
       "      <th>cluster_name</th>\n",
       "      <th>status</th>\n",
       "      <th>timed_out</th>\n",
       "      <th>number_of_nodes</th>\n",
       "      <th>number_of_data_nodes</th>\n",
       "      <th>active_primary_shards</th>\n",
       "      <th>active_shards</th>\n",
       "      <th>relocating_shards</th>\n",
       "      <th>initializing_shards</th>\n",
       "      <th>unassigned_shards</th>\n",
       "      <th>delayed_unassigned_shards</th>\n",
       "      <th>number_of_pending_tasks</th>\n",
       "      <th>number_of_in_flight_fetch</th>\n",
       "      <th>task_max_waiting_in_queue_millis</th>\n",
       "      <th>active_shards_percent_as_number</th>\n",
       "    </tr>\n",
       "  </thead>\n",
       "  <tbody>\n",
       "    <tr>\n",
       "      <th>0</th>\n",
       "      <td>docker-cluster</td>\n",
       "      <td>yellow</td>\n",
       "      <td>False</td>\n",
       "      <td>1</td>\n",
       "      <td>1</td>\n",
       "      <td>129</td>\n",
       "      <td>129</td>\n",
       "      <td>0</td>\n",
       "      <td>0</td>\n",
       "      <td>129</td>\n",
       "      <td>0</td>\n",
       "      <td>0</td>\n",
       "      <td>0</td>\n",
       "      <td>0</td>\n",
       "      <td>50.0</td>\n",
       "    </tr>\n",
       "  </tbody>\n",
       "</table>\n",
       "</div>"
      ],
      "text/plain": [
       "     cluster_name  status  timed_out  number_of_nodes  number_of_data_nodes  \\\n",
       "0  docker-cluster  yellow      False                1                     1   \n",
       "\n",
       "   active_primary_shards  active_shards  relocating_shards  \\\n",
       "0                    129            129                  0   \n",
       "\n",
       "   initializing_shards  unassigned_shards  delayed_unassigned_shards  \\\n",
       "0                    0                129                          0   \n",
       "\n",
       "   number_of_pending_tasks  number_of_in_flight_fetch  \\\n",
       "0                        0                          0   \n",
       "\n",
       "   task_max_waiting_in_queue_millis  active_shards_percent_as_number  \n",
       "0                                 0                             50.0  "
      ]
     },
     "execution_count": 169,
     "metadata": {},
     "output_type": "execute_result"
    }
   ],
   "source": [
    "df = pd.DataFrame.from_dict([resp])\n",
    "df.head(10)"
   ]
  },
  {
   "cell_type": "code",
   "execution_count": 170,
   "id": "d06a7e71-6a3e-4d08-a9d6-27305a9516cf",
   "metadata": {},
   "outputs": [
    {
     "name": "stdout",
     "output_type": "stream",
     "text": [
      "{\n",
      "  \"cluster_name\": \"docker-elasticsearch\",\n",
      "  \"status\": \"yellow\",\n",
      "  \"timed_out\": false,\n",
      "  \"number_of_nodes\": 1,\n",
      "  \"number_of_data_nodes\": 1,\n",
      "  \"active_primary_shards\": 84,\n",
      "  \"active_shards\": 84,\n",
      "  \"relocating_shards\": 0,\n",
      "  \"initializing_shards\": 0,\n",
      "  \"unassigned_shards\": 57,\n",
      "  \"delayed_unassigned_shards\": 0,\n",
      "  \"number_of_pending_tasks\": 0,\n",
      "  \"number_of_in_flight_fetch\": 0,\n",
      "  \"task_max_waiting_in_queue_millis\": 0,\n",
      "  \"active_shards_percent_as_number\": 59.57446808510638\n",
      "}\n"
     ]
    }
   ],
   "source": [
    "resp = es_obj_t_client.cluster.health()\n",
    "print(json.dumps(resp, indent=2))"
   ]
  },
  {
   "cell_type": "code",
   "execution_count": 171,
   "id": "89af1efa-a7af-4fd0-82f0-80abf5f6f1bd",
   "metadata": {},
   "outputs": [
    {
     "data": {
      "text/html": [
       "<div>\n",
       "<style scoped>\n",
       "    .dataframe tbody tr th:only-of-type {\n",
       "        vertical-align: middle;\n",
       "    }\n",
       "\n",
       "    .dataframe tbody tr th {\n",
       "        vertical-align: top;\n",
       "    }\n",
       "\n",
       "    .dataframe thead th {\n",
       "        text-align: right;\n",
       "    }\n",
       "</style>\n",
       "<table border=\"1\" class=\"dataframe\">\n",
       "  <thead>\n",
       "    <tr style=\"text-align: right;\">\n",
       "      <th></th>\n",
       "      <th>cluster_name</th>\n",
       "      <th>status</th>\n",
       "      <th>timed_out</th>\n",
       "      <th>number_of_nodes</th>\n",
       "      <th>number_of_data_nodes</th>\n",
       "      <th>active_primary_shards</th>\n",
       "      <th>active_shards</th>\n",
       "      <th>relocating_shards</th>\n",
       "      <th>initializing_shards</th>\n",
       "      <th>unassigned_shards</th>\n",
       "      <th>delayed_unassigned_shards</th>\n",
       "      <th>number_of_pending_tasks</th>\n",
       "      <th>number_of_in_flight_fetch</th>\n",
       "      <th>task_max_waiting_in_queue_millis</th>\n",
       "      <th>active_shards_percent_as_number</th>\n",
       "    </tr>\n",
       "  </thead>\n",
       "  <tbody>\n",
       "    <tr>\n",
       "      <th>0</th>\n",
       "      <td>docker-elasticsearch</td>\n",
       "      <td>yellow</td>\n",
       "      <td>False</td>\n",
       "      <td>1</td>\n",
       "      <td>1</td>\n",
       "      <td>84</td>\n",
       "      <td>84</td>\n",
       "      <td>0</td>\n",
       "      <td>0</td>\n",
       "      <td>57</td>\n",
       "      <td>0</td>\n",
       "      <td>0</td>\n",
       "      <td>0</td>\n",
       "      <td>0</td>\n",
       "      <td>59.574468</td>\n",
       "    </tr>\n",
       "  </tbody>\n",
       "</table>\n",
       "</div>"
      ],
      "text/plain": [
       "           cluster_name  status  timed_out  number_of_nodes  \\\n",
       "0  docker-elasticsearch  yellow      False                1   \n",
       "\n",
       "   number_of_data_nodes  active_primary_shards  active_shards  \\\n",
       "0                     1                     84             84   \n",
       "\n",
       "   relocating_shards  initializing_shards  unassigned_shards  \\\n",
       "0                  0                    0                 57   \n",
       "\n",
       "   delayed_unassigned_shards  number_of_pending_tasks  \\\n",
       "0                          0                        0   \n",
       "\n",
       "   number_of_in_flight_fetch  task_max_waiting_in_queue_millis  \\\n",
       "0                          0                                 0   \n",
       "\n",
       "   active_shards_percent_as_number  \n",
       "0                        59.574468  "
      ]
     },
     "execution_count": 171,
     "metadata": {},
     "output_type": "execute_result"
    }
   ],
   "source": [
    "df = pd.DataFrame.from_dict([resp])\n",
    "df.head(10)"
   ]
  },
  {
   "cell_type": "markdown",
   "id": "c79af4e5-c543-486b-8c4c-51866ff664b5",
   "metadata": {},
   "source": [
    "### Verify all ES indices since all ES indices were created from ES v.5  to ES v.8 with transformation the custom mappings\n",
    "* Verify all ES indices with query DSL"
   ]
  },
  {
   "cell_type": "code",
   "execution_count": 172,
   "id": "2d04ad9a-be59-4632-a873-9f0531028e88",
   "metadata": {},
   "outputs": [],
   "source": [
    "# ''' extact a list of indices from the source cluster'''\n",
    "''' localhost '''\n",
    "source_idx_lists = ['es_pipeline_upload_test_wm']\n",
    "\n",
    "# source_idx_lists = es_obj_s_client.indices.get(\"*\")\n",
    "# source_idx_lists = ['wx_order_02072022_22_2_1']"
   ]
  },
  {
   "cell_type": "code",
   "execution_count": 173,
   "id": "41981d11-5059-4640-b812-44080535094e",
   "metadata": {},
   "outputs": [],
   "source": [
    "# print(source_idx_lists)"
   ]
  },
  {
   "cell_type": "code",
   "execution_count": 174,
   "id": "09d09af8-f91d-4acb-a323-7d1aa08ad1f7",
   "metadata": {},
   "outputs": [],
   "source": [
    "result_dict = {}\n",
    "df_result_dict = {}"
   ]
  },
  {
   "cell_type": "code",
   "execution_count": 175,
   "id": "6d1e3436-5d38-41d0-9a24-aeeeb820d0bd",
   "metadata": {},
   "outputs": [],
   "source": [
    "def get_es_version_v5_info(es_client):\n",
    "    es_version = es_client.info()\n",
    "    if '5.' in es_version['version']['number']:\n",
    "        return True\n",
    "    return False\n",
    "    "
   ]
  },
  {
   "cell_type": "code",
   "execution_count": 176,
   "id": "36dabed4-358c-4225-96ed-d3d7ef5ea2d7",
   "metadata": {},
   "outputs": [],
   "source": [
    "def es_search(es_client):\n",
    "    ''' search to the ES cluster '''\n",
    "    try:\n",
    "        # same query is excuting to source es cluster and target es cluster to verify the custom mappings\n",
    "        query={\n",
    "            \"query\": {\n",
    "                \"match_all\": {}\n",
    "            }\n",
    "        }\n",
    "    \n",
    "        ''' if the version of ES is v8 '''\n",
    "        ''' add this option to get the exact number of search results '''\n",
    "        if not get_es_version_v5_info(es_client):\n",
    "            query.update({\"track_total_hits\": True})\n",
    "    \n",
    "        print(f\"{es_client}, query : {json.dumps(query, indent=2)}\")\n",
    "    \n",
    "        for idx in source_idx_lists:\n",
    "            idx_cnt = []\n",
    "            resp = es_client.search(index=idx, body=query)\n",
    "            if not get_es_version_v5_info(es_client):\n",
    "                ''' es v.8 '''\n",
    "                idx_cnt.append(resp['hits']['total']['value'])\n",
    "            else:\n",
    "                idx_cnt.append(resp['hits']['total'])\n",
    "            if not idx in result_dict.keys():\n",
    "                result_dict.update({idx : idx_cnt})\n",
    "            else:\n",
    "                print(result_dict.get(idx))\n",
    "                idx_cnt_get_lists = result_dict.get(idx)\n",
    "                idx_cnt_get_lists.extend(idx_cnt)\n",
    "                result_dict.update({idx : idx_cnt_get_lists})\n",
    "        print(json.dumps(result_dict, indent=2))\n",
    "    except Exception as e:\n",
    "        print(e)"
   ]
  },
  {
   "cell_type": "code",
   "execution_count": 177,
   "id": "0a21e311-4c98-4a4b-9400-aa747d6d758a",
   "metadata": {},
   "outputs": [
    {
     "name": "stdout",
     "output_type": "stream",
     "text": [
      "<Elasticsearch([{'host': 'localhost', 'port': 9201}])>, query : {\n",
      "  \"query\": {\n",
      "    \"match_all\": {}\n",
      "  }\n",
      "}\n",
      "{\n",
      "  \"es_pipeline_upload_test_wm\": [\n",
      "    0\n",
      "  ]\n",
      "}\n",
      "<Elasticsearch([{'host': 'localhost', 'port': 9202}])>, query : {\n",
      "  \"query\": {\n",
      "    \"match_all\": {}\n",
      "  },\n",
      "  \"track_total_hits\": true\n",
      "}\n",
      "[0]\n",
      "{\n",
      "  \"es_pipeline_upload_test_wm\": [\n",
      "    0,\n",
      "    0\n",
      "  ]\n",
      "}\n"
     ]
    }
   ],
   "source": [
    "''' Call func for source cluster '''\n",
    "es_search(es_obj_s_client)\n",
    "''' Call func for target cluster '''\n",
    "es_search(es_obj_t_client)"
   ]
  },
  {
   "cell_type": "code",
   "execution_count": 178,
   "id": "d70c7873-963f-41fb-a09b-67a895de06f4",
   "metadata": {},
   "outputs": [
    {
     "name": "stdout",
     "output_type": "stream",
     "text": [
      "Verify all ES indices : {\n",
      "  \"es_pipeline_upload_test_wm\": [\n",
      "    0,\n",
      "    0\n",
      "  ]\n",
      "}\n"
     ]
    }
   ],
   "source": [
    "print(f\"Verify all ES indices : {json.dumps(result_dict, indent=2)}\")"
   ]
  },
  {
   "cell_type": "code",
   "execution_count": 179,
   "id": "c52e61d8-71c3-4c07-b38c-19e42839eb64",
   "metadata": {},
   "outputs": [],
   "source": [
    "''' make df from result_dict '''\n",
    "indices_name, source_cnt, target_cnt, is_same = [], [], [], []\n",
    "for k, v in result_dict.items():\n",
    "    indices_name.append(k)\n",
    "    if int(v[0]) == int(v[1]):\n",
    "        is_same.append(True)\n",
    "    else:\n",
    "        is_same.append(False)\n",
    "    source_cnt.append(v[0])\n",
    "    target_cnt.append(v[1])\n",
    "        \n",
    "result_dict = {\n",
    "    'Indices' : indices_name,\n",
    "    'Sourc_cnt' : source_cnt,\n",
    "    'Target_cnt' : target_cnt,\n",
    "    'Same?' : is_same,\n",
    "}"
   ]
  },
  {
   "cell_type": "code",
   "execution_count": 180,
   "id": "87adc8ed-9781-4a4d-a284-b2e5d2861148",
   "metadata": {},
   "outputs": [
    {
     "data": {
      "text/html": [
       "<div>\n",
       "<style scoped>\n",
       "    .dataframe tbody tr th:only-of-type {\n",
       "        vertical-align: middle;\n",
       "    }\n",
       "\n",
       "    .dataframe tbody tr th {\n",
       "        vertical-align: top;\n",
       "    }\n",
       "\n",
       "    .dataframe thead th {\n",
       "        text-align: right;\n",
       "    }\n",
       "</style>\n",
       "<table border=\"1\" class=\"dataframe\">\n",
       "  <thead>\n",
       "    <tr style=\"text-align: right;\">\n",
       "      <th></th>\n",
       "      <th>Indices</th>\n",
       "      <th>Sourc_cnt</th>\n",
       "      <th>Target_cnt</th>\n",
       "      <th>Same?</th>\n",
       "    </tr>\n",
       "  </thead>\n",
       "  <tbody>\n",
       "    <tr>\n",
       "      <th>0</th>\n",
       "      <td>es_pipeline_upload_test_wm</td>\n",
       "      <td>0</td>\n",
       "      <td>0</td>\n",
       "      <td>True</td>\n",
       "    </tr>\n",
       "  </tbody>\n",
       "</table>\n",
       "</div>"
      ],
      "text/plain": [
       "                      Indices  Sourc_cnt  Target_cnt  Same?\n",
       "0  es_pipeline_upload_test_wm          0           0   True"
      ]
     },
     "metadata": {},
     "output_type": "display_data"
    }
   ],
   "source": [
    "''' sample '''\n",
    "''' https://docs.kanaries.net/ko/topics/Pandas/pandas-add-column '''\n",
    "# data = {\n",
    "#     'Name': ['Alice', 'Bob', 'Charlie', 'David'],\n",
    "#     'Age': [25, 30, 35, 40]\n",
    "# }\n",
    " \n",
    "df = pd.DataFrame(result_dict)\n",
    "display(df)"
   ]
  }
 ],
 "metadata": {
  "kernelspec": {
   "display_name": "Python 3 (ipykernel)",
   "language": "python",
   "name": "python3"
  },
  "language_info": {
   "codemirror_mode": {
    "name": "ipython",
    "version": 3
   },
   "file_extension": ".py",
   "mimetype": "text/x-python",
   "name": "python",
   "nbconvert_exporter": "python",
   "pygments_lexer": "ipython3",
   "version": "3.11.7"
  }
 },
 "nbformat": 4,
 "nbformat_minor": 5
}
