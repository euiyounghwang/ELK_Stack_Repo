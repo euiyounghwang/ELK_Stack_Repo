{
 "cells": [
  {
   "cell_type": "code",
   "execution_count": 322,
   "id": "1f606b54-1a9f-44d6-9b69-617351457d57",
   "metadata": {},
   "outputs": [
    {
     "name": "stdout",
     "output_type": "stream",
     "text": [
      "** es-search-guard\n"
     ]
    },
    {
     "data": {
      "text/plain": [
       "'  Search Guard Is An Open Source Security Plugin For Elasticsearch  '"
      ]
     },
     "execution_count": 322,
     "metadata": {},
     "output_type": "execute_result"
    }
   ],
   "source": [
    "'''The Jupyter notebook is a web-based notebook environment for interactive computing. \n",
    "The Jupyter Notebook is an open source web application that you can use to create and share documents that \n",
    "contain live code, equations, visualizations, and text.\n",
    "'''\n",
    "print(f\"** es-search-guard\")\n",
    "'''  Search Guard Is An Open Source Security Plugin For Elasticsearch  '''"
   ]
  },
  {
   "cell_type": "code",
   "execution_count": 323,
   "id": "a80b9e95-0f6a-434d-b688-bd93e87964bf",
   "metadata": {},
   "outputs": [],
   "source": [
    "#pip install elasticsearch==7.13.0"
   ]
  },
  {
   "cell_type": "code",
   "execution_count": 324,
   "id": "319db807-cdde-4862-acd6-e1ef1833bdb9",
   "metadata": {},
   "outputs": [],
   "source": [
    "from elasticsearch import Elasticsearch\n",
    "import os\n",
    "import json\n",
    "import sys\n",
    "import pandas as pd\n",
    "import datetime\n",
    "from datetime import datetime\n",
    "from dotenv import load_dotenv\n",
    "import warnings\n",
    "warnings.filterwarnings(\"ignore\")"
   ]
  },
  {
   "cell_type": "code",
   "execution_count": 325,
   "id": "0f4abc2b-f5f0-49fa-9751-daa6eed07153",
   "metadata": {},
   "outputs": [],
   "source": [
    "sys.path.append(r\"C://Users/euiyoung.hwang/Git_Workspace/ELK-Stack-Upgrade/jupyter-workflow/\")"
   ]
  },
  {
   "cell_type": "code",
   "execution_count": 326,
   "id": "4e9194b4-96ae-459c-8cd1-26a498e343a2",
   "metadata": {},
   "outputs": [],
   "source": [
    "import pytest\n",
    "import ipytest"
   ]
  },
  {
   "cell_type": "code",
   "execution_count": 327,
   "id": "0a890dc6-cffe-4710-b7e8-eeddf69490c7",
   "metadata": {},
   "outputs": [
    {
     "data": {
      "text/plain": [
       "True"
      ]
     },
     "execution_count": 327,
     "metadata": {},
     "output_type": "execute_result"
    }
   ],
   "source": [
    "''' pip install python-dotenv'''\n",
    "load_dotenv() # will search for .env file in local folder and load variables "
   ]
  },
  {
   "cell_type": "markdown",
   "id": "a67bf8b8-8f9c-4f4f-8842-28ab7c349446",
   "metadata": {},
   "source": [
    "* When security features are enabled, depending on the realms you’ve configured, you must attach your user credentials to the requests sent to Elasticsearch. For example, when using realms that support usernames and passwords you can simply attach basic auth header to the requests. (A realm is a security policy domain defined for a web or application server.) : https://www.elastic.co/guide/en/elasticsearch/reference/current/setting-up-authentication.html\n",
    "* In order to search or index with an ES cluster based on x-pack, you need to add a user and grant permission. I created an admin account, a wmx/omx user, etc in Dev ES cluster with Search Guard as X-pack.\n",
    "* Basic Authentication is a method for an HTTP user agent (e.g., a web browser) to provide a username and password when making a request. You can send the authorization header when making requests and accessing to ES Cluster based on Search-Guard as X-pack. The value is passed to the authorization key value in the http header in the format below.\n",
    "* Basic Auth : {'Content-type': 'application/json', 'Authorization' : 'Basic base64.encode(id:password), 'Connection': 'close'}"
   ]
  },
  {
   "cell_type": "code",
   "execution_count": 328,
   "id": "fbc05840-7666-4b7b-88b8-a9e31d676bc9",
   "metadata": {},
   "outputs": [],
   "source": [
    "''' Basic authentication is a very simple authentication scheme that is built into the HTTP protocol. The client sends HTTP requests with the Authorization header that contains the Basic word '''\n",
    "def get_headers():\n",
    "    ''' Elasticsearch Header '''\n",
    "    return {'Content-type': 'application/json', 'Authorization' : '{}'.format(os.getenv('JUPYTER_BASIC_AUTH')), 'Connection': 'close'}"
   ]
  },
  {
   "cell_type": "markdown",
   "id": "a2b3078d-d166-4e72-960b-4073389fba32",
   "metadata": {},
   "source": [
    "### User Authorzation Check via ES cluster with no X-pack\n",
    "* ES Version : ES v.5.6.4 (Dev ES Cluster)\n",
    "* X-pack : Not Installed"
   ]
  },
  {
   "cell_type": "code",
   "execution_count": 329,
   "id": "9cc6edf0-aecd-479d-b904-b940a021157e",
   "metadata": {},
   "outputs": [],
   "source": [
    "# display(os.getenv('ES_DEV_V8_HOST'))"
   ]
  },
  {
   "cell_type": "code",
   "execution_count": 330,
   "id": "aacc732b-7f0b-44c3-b0d1-98f0439ebca8",
   "metadata": {},
   "outputs": [],
   "source": [
    "''' Create ES Instance once user credential was added into headers. If it is http-based, even if the header value is sent, it is ignored. '''\n",
    "''' https://www.debugbear.com/basic-auth-header-generator '''\n",
    "''' Call API to DEV ES Cluster '''\n",
    "es = Elasticsearch(hosts=os.getenv('ES_DEV_V8_HOST'), headers=get_headers(), timeout=5,  verify_certs=False)"
   ]
  },
  {
   "cell_type": "code",
   "execution_count": 331,
   "id": "8e3af23a-a58c-43ec-967b-e75c169dfb7b",
   "metadata": {},
   "outputs": [
    {
     "name": "stdout",
     "output_type": "stream",
     "text": [
      "1740178618 22:56:58 supplychain-logging-qa13-es8 green 3 3 293 251 0 0 0 0 0 - 100.0%\n",
      "\n"
     ]
    }
   ],
   "source": [
    "print(es.cat.health())"
   ]
  },
  {
   "cell_type": "code",
   "execution_count": 332,
   "id": "9e5a5cae-0d56-4add-b83b-20d3240e2012",
   "metadata": {},
   "outputs": [
    {
     "name": "stdout",
     "output_type": "stream",
     "text": [
      "{\n",
      "  \"name\": \"supplychain-logging-qa13-1\",\n",
      "  \"cluster_name\": \"supplychain-logging-qa13-es8\",\n",
      "  \"cluster_uuid\": \"iiQ1fnsxSz2c0VDmhWcctg\",\n",
      "  \"version\": {\n",
      "    \"number\": \"8.17.0\",\n",
      "    \"build_flavor\": \"default\",\n",
      "    \"build_type\": \"tar\",\n",
      "    \"build_hash\": \"2b6a7fed44faa321997703718f07ee0420804b41\",\n",
      "    \"build_date\": \"2024-12-11T12:08:05.663969764Z\",\n",
      "    \"build_snapshot\": false,\n",
      "    \"lucene_version\": \"9.12.0\",\n",
      "    \"minimum_wire_compatibility_version\": \"7.17.0\",\n",
      "    \"minimum_index_compatibility_version\": \"7.0.0\"\n",
      "  },\n",
      "  \"tagline\": \"You Know, for Search\"\n",
      "}\n"
     ]
    }
   ],
   "source": [
    "print(json.dumps(es.info(), indent=2))"
   ]
  },
  {
   "cell_type": "code",
   "execution_count": 333,
   "id": "8932414a-9c81-45ba-8f27-bbe0368d9980",
   "metadata": {},
   "outputs": [
    {
     "name": "stdout",
     "output_type": "stream",
     "text": [
      "es version : 8.17.0\n"
     ]
    }
   ],
   "source": [
    "print(f\"es version : {es.info()['version']['number']}\")"
   ]
  },
  {
   "cell_type": "code",
   "execution_count": 334,
   "id": "77514382-ba84-453e-95f7-afa19c61c494",
   "metadata": {},
   "outputs": [
    {
     "name": "stdout",
     "output_type": "stream",
     "text": [
      "{\n",
      "  \"cluster_name\": \"supplychain-logging-qa13-es8\",\n",
      "  \"status\": \"green\",\n",
      "  \"timed_out\": false,\n",
      "  \"number_of_nodes\": 3,\n",
      "  \"number_of_data_nodes\": 3,\n",
      "  \"active_primary_shards\": 251,\n",
      "  \"active_shards\": 293,\n",
      "  \"relocating_shards\": 0,\n",
      "  \"initializing_shards\": 0,\n",
      "  \"unassigned_shards\": 0,\n",
      "  \"unassigned_primary_shards\": 0,\n",
      "  \"delayed_unassigned_shards\": 0,\n",
      "  \"number_of_pending_tasks\": 0,\n",
      "  \"number_of_in_flight_fetch\": 0,\n",
      "  \"task_max_waiting_in_queue_millis\": 0,\n",
      "  \"active_shards_percent_as_number\": 100.0\n",
      "}\n"
     ]
    },
    {
     "data": {
      "text/html": [
       "<div>\n",
       "<style scoped>\n",
       "    .dataframe tbody tr th:only-of-type {\n",
       "        vertical-align: middle;\n",
       "    }\n",
       "\n",
       "    .dataframe tbody tr th {\n",
       "        vertical-align: top;\n",
       "    }\n",
       "\n",
       "    .dataframe thead th {\n",
       "        text-align: right;\n",
       "    }\n",
       "</style>\n",
       "<table border=\"1\" class=\"dataframe\">\n",
       "  <thead>\n",
       "    <tr style=\"text-align: right;\">\n",
       "      <th></th>\n",
       "      <th>cluster_name</th>\n",
       "      <th>status</th>\n",
       "      <th>timed_out</th>\n",
       "      <th>number_of_nodes</th>\n",
       "      <th>number_of_data_nodes</th>\n",
       "      <th>active_primary_shards</th>\n",
       "      <th>active_shards</th>\n",
       "      <th>relocating_shards</th>\n",
       "      <th>initializing_shards</th>\n",
       "      <th>unassigned_shards</th>\n",
       "      <th>unassigned_primary_shards</th>\n",
       "      <th>delayed_unassigned_shards</th>\n",
       "      <th>number_of_pending_tasks</th>\n",
       "      <th>number_of_in_flight_fetch</th>\n",
       "      <th>task_max_waiting_in_queue_millis</th>\n",
       "      <th>active_shards_percent_as_number</th>\n",
       "    </tr>\n",
       "  </thead>\n",
       "  <tbody>\n",
       "    <tr>\n",
       "      <th>0</th>\n",
       "      <td>supplychain-logging-qa13-es8</td>\n",
       "      <td>green</td>\n",
       "      <td>False</td>\n",
       "      <td>3</td>\n",
       "      <td>3</td>\n",
       "      <td>251</td>\n",
       "      <td>293</td>\n",
       "      <td>0</td>\n",
       "      <td>0</td>\n",
       "      <td>0</td>\n",
       "      <td>0</td>\n",
       "      <td>0</td>\n",
       "      <td>0</td>\n",
       "      <td>0</td>\n",
       "      <td>0</td>\n",
       "      <td>100.0</td>\n",
       "    </tr>\n",
       "  </tbody>\n",
       "</table>\n",
       "</div>"
      ],
      "text/plain": [
       "                   cluster_name status  timed_out  number_of_nodes  \\\n",
       "0  supplychain-logging-qa13-es8  green      False                3   \n",
       "\n",
       "   number_of_data_nodes  active_primary_shards  active_shards  \\\n",
       "0                     3                    251            293   \n",
       "\n",
       "   relocating_shards  initializing_shards  unassigned_shards  \\\n",
       "0                  0                    0                  0   \n",
       "\n",
       "   unassigned_primary_shards  delayed_unassigned_shards  \\\n",
       "0                          0                          0   \n",
       "\n",
       "   number_of_pending_tasks  number_of_in_flight_fetch  \\\n",
       "0                        0                          0   \n",
       "\n",
       "   task_max_waiting_in_queue_millis  active_shards_percent_as_number  \n",
       "0                                 0                            100.0  "
      ]
     },
     "metadata": {},
     "output_type": "display_data"
    }
   ],
   "source": [
    "df = pd.DataFrame.from_dict([es.cluster.health()])\n",
    "print(json.dumps(es.cluster.health(), indent=2))\n",
    "display(df)"
   ]
  },
  {
   "cell_type": "markdown",
   "id": "42cf2e1b-1cf7-4f49-b21f-0444aacdd6e4",
   "metadata": {},
   "source": [
    "### User Authentication Check via ES cluster with Search Guard\n",
    "* ES Version : ES v.8.12 via https protocal\n",
    "* X-pack : Search Guard for ES v.8.12\n",
    "* Let's check the authentication on the Dev ES Cluster with Search Guard installed."
   ]
  },
  {
   "cell_type": "code",
   "execution_count": 335,
   "id": "94603801-949f-4580-87f2-e5e20e135800",
   "metadata": {},
   "outputs": [],
   "source": [
    "#pip install requests"
   ]
  },
  {
   "cell_type": "code",
   "execution_count": 336,
   "id": "7606464f-64ed-414b-bd64-e00598f02d17",
   "metadata": {},
   "outputs": [],
   "source": [
    "import base64\n",
    "import requests"
   ]
  },
  {
   "cell_type": "code",
   "execution_count": 337,
   "id": "5c051618-94d3-4a7e-91a0-1edd7b7035c4",
   "metadata": {},
   "outputs": [],
   "source": [
    "# display(os.getenv('ES_DEV_V8_HOST'))"
   ]
  },
  {
   "cell_type": "code",
   "execution_count": 338,
   "id": "09ddc1f2-3c91-4fba-83ce-d2473db4e219",
   "metadata": {},
   "outputs": [
    {
     "name": "stdout",
     "output_type": "stream",
     "text": [
      "<Response [200]>\n"
     ]
    },
    {
     "data": {
      "text/html": [
       "<div>\n",
       "<style scoped>\n",
       "    .dataframe tbody tr th:only-of-type {\n",
       "        vertical-align: middle;\n",
       "    }\n",
       "\n",
       "    .dataframe tbody tr th {\n",
       "        vertical-align: top;\n",
       "    }\n",
       "\n",
       "    .dataframe thead th {\n",
       "        text-align: right;\n",
       "    }\n",
       "</style>\n",
       "<table border=\"1\" class=\"dataframe\">\n",
       "  <thead>\n",
       "    <tr style=\"text-align: right;\">\n",
       "      <th></th>\n",
       "      <th>message</th>\n",
       "      <th>mode</th>\n",
       "      <th>status</th>\n",
       "    </tr>\n",
       "  </thead>\n",
       "  <tbody>\n",
       "    <tr>\n",
       "      <th>0</th>\n",
       "      <td>None</td>\n",
       "      <td>strict</td>\n",
       "      <td>UP</td>\n",
       "    </tr>\n",
       "  </tbody>\n",
       "</table>\n",
       "</div>"
      ],
      "text/plain": [
       "  message    mode status\n",
       "0    None  strict     UP"
      ]
     },
     "metadata": {},
     "output_type": "display_data"
    }
   ],
   "source": [
    "''' Search Guard Health '''\n",
    "resp = requests.get(url=f\"{os.getenv('ES_DEV_V8_HOST')}/_searchguard/health\", headers=None, verify=False, timeout=600)\n",
    "print(resp)\n",
    "# print(json.dumps(resp.json(), indent=2))\n",
    "display(pd.DataFrame([resp.json()]))"
   ]
  },
  {
   "cell_type": "code",
   "execution_count": 339,
   "id": "25a108e1-f1d9-48a8-9a18-c460263d659f",
   "metadata": {},
   "outputs": [],
   "source": [
    "''' https://www.debugbear.com/basic-auth-header-generator '''\n",
    "''' CASE#1 - Check when making request with https es host url and headers don't have basic auth info '''\n",
    "es_search_guard = Elasticsearch(hosts=os.getenv('ES_DEV_V8_HOST'), headers=None, timeout=5,  verify_certs=False)"
   ]
  },
  {
   "cell_type": "code",
   "execution_count": 340,
   "id": "30ff1700-7768-4466-8bea-ab46ce246e81",
   "metadata": {},
   "outputs": [
    {
     "name": "stdout",
     "output_type": "stream",
     "text": [
      "AuthenticationException(401, 'Unauthorized')\n"
     ]
    }
   ],
   "source": [
    "''' Getting error 'AuthenticationException(401, 'Unauthorized') '''\n",
    "try:\n",
    "    print(es_search_guard.cat.health())\n",
    "except Exception as e:\n",
    "    print(e)"
   ]
  },
  {
   "cell_type": "code",
   "execution_count": 341,
   "id": "493876cd-b55b-4f54-b09a-7cc4fd35ed9d",
   "metadata": {},
   "outputs": [],
   "source": [
    "''' test base64 encode '''\n",
    "def base64_encode_for_search_guard(id_pass):\n",
    "    ''' format -> <id>:<password> '''\n",
    "    encoded = '{}'.format(base64.b64encode(id_pass.encode('utf-8')).decode())\n",
    "    # print(encoded)\n",
    "    return encoded"
   ]
  },
  {
   "cell_type": "code",
   "execution_count": 342,
   "id": "eb420e33-064e-4309-9769-858c0528db32",
   "metadata": {},
   "outputs": [],
   "source": [
    "''' test base64 decode '''\n",
    "def base64_decode_for_search_guard(id_pass):\n",
    "    ''' format -> <id>:<password> '''\n",
    "    return base64.b64decode(id_pass).decode('utf-8')"
   ]
  },
  {
   "cell_type": "code",
   "execution_count": 343,
   "id": "cef377bb-a0ac-4dbd-85c8-d1679b0f3c3a",
   "metadata": {},
   "outputs": [
    {
     "name": "stdout",
     "output_type": "stream",
     "text": [
      "encoded test : dGVzdDox\n",
      "decoded test : test:1\n"
     ]
    }
   ],
   "source": [
    "''' Generate base64 encode for id:pasword when making request to ES cluster with X-pack '''\n",
    "encoded = base64_encode_for_search_guard('test:1')\n",
    "print(f\"encoded test : {encoded}\")\n",
    "decoded = base64_decode_for_search_guard(encoded)\n",
    "print(f\"decoded test : {decoded}\")"
   ]
  },
  {
   "cell_type": "code",
   "execution_count": 344,
   "id": "c4055a96-7bc9-40e7-a2a9-36e19f1a669a",
   "metadata": {},
   "outputs": [],
   "source": [
    "''' https://www.debugbear.com/basic-auth-header-generator '''\n",
    "''' CASE#2 - Check when making request with https es host url and headers have wrong basic auth info that ES search guard doesn't have test user'''\n",
    "es_search_guard = Elasticsearch(hosts=os.getenv('ES_DEV_V8_HOST'), \n",
    "                                headers={\n",
    "                                    'Content-type': 'application/json', \n",
    "                                    'Authorization' : 'Basic {}'.format(base64_encode_for_search_guard('es_admin:1')), \n",
    "                                    'Connection': 'close'\n",
    "                                }, \n",
    "                                timeout=5,  \n",
    "                                verify_certs=False)"
   ]
  },
  {
   "cell_type": "code",
   "execution_count": 345,
   "id": "3fddb768-dbd8-47bb-a0e9-b0abfa2164a2",
   "metadata": {},
   "outputs": [
    {
     "name": "stdout",
     "output_type": "stream",
     "text": [
      "1740178620 22:57:00 supplychain-logging-qa13-es8 green 3 3 293 251 0 0 0 0 0 - 100.0%\n",
      "\n"
     ]
    }
   ],
   "source": [
    "''' Getting error 'AuthenticationException(401, 'Unauthorized') '''\n",
    "''' There's a problem with 401 Unauthorized, the HTTP status code for authentication errors. And that’s just it: it’s for authentication, not authorization \n",
    "The user needs to provide valid authentication credentials, such as a username and password or an access token, and include them in the request headers.\n",
    "'''\n",
    "try:\n",
    "    print(es_search_guard.cat.health())\n",
    "except Exception as e:\n",
    "    print(e)"
   ]
  },
  {
   "cell_type": "code",
   "execution_count": 346,
   "id": "60360e7a-18bb-4382-a3be-7d0325731ba4",
   "metadata": {},
   "outputs": [],
   "source": [
    "# print(get_headers())"
   ]
  },
  {
   "cell_type": "code",
   "execution_count": 347,
   "id": "5b3b7eb2-0d00-47a7-90c6-ada2674c309c",
   "metadata": {},
   "outputs": [],
   "source": [
    "''' https://www.debugbear.com/basic-auth-header-generator '''\n",
    "''' CASE#3 - Check when making request with https es host url and headers have correct basic auth info. Before testing. we need to add a new user with right permission in ES v.8 Cluster '''\n",
    "''' Call to Dev ES Cluster based on ES v.8.12 using admin account with Basic Auth and Search-Guard as X-pack '''\n",
    "es_search_guard = Elasticsearch(hosts=os.getenv('ES_DEV_V8_HOST'), headers=get_headers(), timeout=5,  verify_certs=False)"
   ]
  },
  {
   "cell_type": "code",
   "execution_count": 348,
   "id": "3a4bb18e-ed64-4461-a2ff-52d2300cda38",
   "metadata": {},
   "outputs": [
    {
     "name": "stdout",
     "output_type": "stream",
     "text": [
      "1740178620 22:57:00 supplychain-logging-qa13-es8 green 3 3 293 251 0 0 0 0 0 - 100.0%\n",
      "\n",
      "{\n",
      "  \"cluster_name\": \"supplychain-logging-qa13-es8\",\n",
      "  \"status\": \"green\",\n",
      "  \"timed_out\": false,\n",
      "  \"number_of_nodes\": 3,\n",
      "  \"number_of_data_nodes\": 3,\n",
      "  \"active_primary_shards\": 251,\n",
      "  \"active_shards\": 293,\n",
      "  \"relocating_shards\": 0,\n",
      "  \"initializing_shards\": 0,\n",
      "  \"unassigned_shards\": 0,\n",
      "  \"unassigned_primary_shards\": 0,\n",
      "  \"delayed_unassigned_shards\": 0,\n",
      "  \"number_of_pending_tasks\": 0,\n",
      "  \"number_of_in_flight_fetch\": 0,\n",
      "  \"task_max_waiting_in_queue_millis\": 0,\n",
      "  \"active_shards_percent_as_number\": 100.0\n",
      "}\n"
     ]
    },
    {
     "data": {
      "text/html": [
       "<div>\n",
       "<style scoped>\n",
       "    .dataframe tbody tr th:only-of-type {\n",
       "        vertical-align: middle;\n",
       "    }\n",
       "\n",
       "    .dataframe tbody tr th {\n",
       "        vertical-align: top;\n",
       "    }\n",
       "\n",
       "    .dataframe thead th {\n",
       "        text-align: right;\n",
       "    }\n",
       "</style>\n",
       "<table border=\"1\" class=\"dataframe\">\n",
       "  <thead>\n",
       "    <tr style=\"text-align: right;\">\n",
       "      <th></th>\n",
       "      <th>cluster_name</th>\n",
       "      <th>status</th>\n",
       "      <th>timed_out</th>\n",
       "      <th>number_of_nodes</th>\n",
       "      <th>number_of_data_nodes</th>\n",
       "      <th>active_primary_shards</th>\n",
       "      <th>active_shards</th>\n",
       "      <th>relocating_shards</th>\n",
       "      <th>initializing_shards</th>\n",
       "      <th>unassigned_shards</th>\n",
       "      <th>unassigned_primary_shards</th>\n",
       "      <th>delayed_unassigned_shards</th>\n",
       "      <th>number_of_pending_tasks</th>\n",
       "      <th>number_of_in_flight_fetch</th>\n",
       "      <th>task_max_waiting_in_queue_millis</th>\n",
       "      <th>active_shards_percent_as_number</th>\n",
       "    </tr>\n",
       "  </thead>\n",
       "  <tbody>\n",
       "    <tr>\n",
       "      <th>0</th>\n",
       "      <td>supplychain-logging-qa13-es8</td>\n",
       "      <td>green</td>\n",
       "      <td>False</td>\n",
       "      <td>3</td>\n",
       "      <td>3</td>\n",
       "      <td>251</td>\n",
       "      <td>293</td>\n",
       "      <td>0</td>\n",
       "      <td>0</td>\n",
       "      <td>0</td>\n",
       "      <td>0</td>\n",
       "      <td>0</td>\n",
       "      <td>0</td>\n",
       "      <td>0</td>\n",
       "      <td>0</td>\n",
       "      <td>100.0</td>\n",
       "    </tr>\n",
       "  </tbody>\n",
       "</table>\n",
       "</div>"
      ],
      "text/plain": [
       "                   cluster_name status  timed_out  number_of_nodes  \\\n",
       "0  supplychain-logging-qa13-es8  green      False                3   \n",
       "\n",
       "   number_of_data_nodes  active_primary_shards  active_shards  \\\n",
       "0                     3                    251            293   \n",
       "\n",
       "   relocating_shards  initializing_shards  unassigned_shards  \\\n",
       "0                  0                    0                  0   \n",
       "\n",
       "   unassigned_primary_shards  delayed_unassigned_shards  \\\n",
       "0                          0                          0   \n",
       "\n",
       "   number_of_pending_tasks  number_of_in_flight_fetch  \\\n",
       "0                        0                          0   \n",
       "\n",
       "   task_max_waiting_in_queue_millis  active_shards_percent_as_number  \n",
       "0                                 0                            100.0  "
      ]
     },
     "metadata": {},
     "output_type": "display_data"
    }
   ],
   "source": [
    "''' Getting the response correctly '''\n",
    "try:\n",
    "    print(es_search_guard.cat.health())\n",
    "    # print(json.dumps(es_search_guard.info(), indent=2))\n",
    "    df = pd.DataFrame.from_dict([es_search_guard.cluster.health()])\n",
    "    print(json.dumps(es_search_guard.cluster.health(), indent=2))\n",
    "    display(df)\n",
    "except Exception as e:\n",
    "    print(e)"
   ]
  },
  {
   "cell_type": "code",
   "execution_count": 349,
   "id": "a9f2d91c-a7b1-41e5-bb2d-a460e4d3671e",
   "metadata": {},
   "outputs": [
    {
     "name": "stdout",
     "output_type": "stream",
     "text": [
      "es version : 8.17.0\n"
     ]
    }
   ],
   "source": [
    "print(f\"es version : {es_search_guard.info()['version']['number']}\")"
   ]
  },
  {
   "cell_type": "markdown",
   "id": "732aca38-8452-4ac9-839d-cbaeba9a011b",
   "metadata": {},
   "source": [
    "### Role based User Permission check\n",
    "* I've already created a different users with different permssion for indices in Dev ES v.8.12 with Search Guard.\n",
    "* Let's test searching and indexing with the user-specific permissions below.\n",
    "* admin user (all permission)\n",
    "* omusers (only access om* indices with cluster api)\n",
    "* wxusers (only access wx* indices with cluster api)"
   ]
  },
  {
   "cell_type": "code",
   "execution_count": 350,
   "id": "e478ada3-3bce-4b2c-a4f7-2d4f7c80eb2b",
   "metadata": {},
   "outputs": [
    {
     "name": "stdout",
     "output_type": "stream",
     "text": [
      "** Role based User Permission check\n"
     ]
    }
   ],
   "source": [
    "''' Search Guard retrieves the user’s credentials from the request. '''\n",
    "''' Search Guard authorizes the user by retrieving a list of the user’s roles from the configured authorization backend '''\n",
    "''' https://subin-0320.tistory.com/174 '''\n",
    "print(f\"** Role based User Permission check\")"
   ]
  },
  {
   "cell_type": "code",
   "execution_count": 351,
   "id": "fc6cb53f-b729-4239-9deb-7906ef9425ae",
   "metadata": {},
   "outputs": [],
   "source": [
    "pd.set_option('max_colwidth', 800)"
   ]
  },
  {
   "cell_type": "code",
   "execution_count": 352,
   "id": "2dc95544-e48d-4707-9061-8495a7acfa56",
   "metadata": {},
   "outputs": [],
   "source": [
    "# display(pd.DataFrame([{\"Dev ES\" : es_search_guard}]))"
   ]
  },
  {
   "cell_type": "code",
   "execution_count": 353,
   "id": "ca5c0ceb-88bf-4a5f-89f1-e6c23e615701",
   "metadata": {},
   "outputs": [
    {
     "name": "stdout",
     "output_type": "stream",
     "text": [
      "** Validate search api with admin account\n"
     ]
    }
   ],
   "source": [
    "print(f\"** Validate search api with admin account\")"
   ]
  },
  {
   "cell_type": "code",
   "execution_count": 354,
   "id": "a48dd257-422e-475f-b6d8-e1d6e6ac0657",
   "metadata": {},
   "outputs": [
    {
     "name": "stdout",
     "output_type": "stream",
     "text": [
      "Index was deleted with admin account\n",
      "Index was \"created\" with admin account\n",
      "Index was deleted with admin account\n",
      "Index was \"created\" with admin account\n"
     ]
    }
   ],
   "source": [
    "''' write doc with admin user using es client instance'''\n",
    "doc = {\n",
    "    \"author\": \"kimchy\",\n",
    "    \"text\": \"Elasticsearch: cool. bonsai cool.\",\n",
    "    \"timestamp\": datetime.now(),\n",
    "}\n",
    "\n",
    "idx_lists = ['wx_test', 'om_test']\n",
    "\n",
    "for CR_ADMIN_INDEX in idx_lists:\n",
    "    if es_search_guard.indices.exists(index=CR_ADMIN_INDEX):\n",
    "        es_search_guard.indices.delete(index=CR_ADMIN_INDEX)\n",
    "        print(f\"Index was deleted with admin account\")\n",
    "    resp = es_search_guard.index(index=CR_ADMIN_INDEX, id=12, body=doc)\n",
    "    print(\"Index was {} with admin account\".format(json.dumps(resp[\"result\"], indent=2)))"
   ]
  },
  {
   "cell_type": "code",
   "execution_count": 355,
   "id": "42d3c74a-dbae-4ad9-8b53-4dde29d63a6d",
   "metadata": {},
   "outputs": [
    {
     "name": "stdout",
     "output_type": "stream",
     "text": [
      "{\n",
      "  \"_index\": \"om_test\",\n",
      "  \"_id\": \"12\",\n",
      "  \"_version\": 1,\n",
      "  \"_seq_no\": 0,\n",
      "  \"_primary_term\": 1,\n",
      "  \"found\": true,\n",
      "  \"_source\": {\n",
      "    \"author\": \"kimchy\",\n",
      "    \"text\": \"Elasticsearch: cool. bonsai cool.\",\n",
      "    \"timestamp\": \"2025-02-21T16:57:01.493656\"\n",
      "  }\n",
      "}\n"
     ]
    }
   ],
   "source": [
    "''' search by id for wx_text index with admin user using es client instance'''\n",
    "resp = es_search_guard.get(index=CR_ADMIN_INDEX, id=12)\n",
    "print(json.dumps(resp, indent=2))"
   ]
  },
  {
   "cell_type": "code",
   "execution_count": 356,
   "id": "735a893e-a743-4630-a5f0-484f25bb2147",
   "metadata": {},
   "outputs": [
    {
     "name": "stdout",
     "output_type": "stream",
     "text": [
      "{\n",
      "  \"total\": {\n",
      "    \"value\": 0,\n",
      "    \"relation\": \"eq\"\n",
      "  },\n",
      "  \"max_score\": null,\n",
      "  \"hits\": []\n",
      "}\n"
     ]
    }
   ],
   "source": [
    "query={\"query\": {\"match_all\": {}}}\n",
    "resp = es_search_guard.search(index=\"om_test\", body=query)\n",
    "print(json.dumps(resp['hits'], indent=2))"
   ]
  },
  {
   "cell_type": "code",
   "execution_count": 357,
   "id": "251cf756-63fd-4ce2-bf55-801d9a890806",
   "metadata": {},
   "outputs": [
    {
     "name": "stdout",
     "output_type": "stream",
     "text": [
      "** Validate search api with omusers account\n"
     ]
    }
   ],
   "source": [
    "print(f\"** Validate search api with omusers account\")"
   ]
  },
  {
   "cell_type": "code",
   "execution_count": 358,
   "id": "68e1bbb9-ae21-4759-82a1-4a43e190b6c2",
   "metadata": {},
   "outputs": [],
   "source": [
    "es_om_user_es_instance= Elasticsearch(hosts=os.getenv('ES_DEV_V8_HOST'), \n",
    "                                headers={\n",
    "                                    'Content-type': 'application/json', \n",
    "                                    'Authorization' : 'Basic {}'.format(base64_encode_for_search_guard('omusers:1')), \n",
    "                                    'Connection': 'close'\n",
    "                                }, \n",
    "                                timeout=5,  \n",
    "                                verify_certs=False)"
   ]
  },
  {
   "cell_type": "code",
   "execution_count": 359,
   "id": "534fc7ee-1cd6-4b0a-b12c-b3999d92749f",
   "metadata": {},
   "outputs": [
    {
     "name": "stdout",
     "output_type": "stream",
     "text": [
      "{\n",
      "  \"total\": {\n",
      "    \"value\": 0,\n",
      "    \"relation\": \"eq\"\n",
      "  },\n",
      "  \"max_score\": null,\n",
      "  \"hits\": []\n",
      "}\n"
     ]
    }
   ],
   "source": [
    "''' It can be accessed and got the result with omusers account '''\n",
    "query={\"query\": {\"match_all\": {}}}\n",
    "try:\n",
    "    resp = es_om_user_es_instance.search(index=\"om_test\", body=query)\n",
    "    print(json.dumps(resp['hits'], indent=2))\n",
    "except Exception as e:\n",
    "    print(f\"Validate the permission with om* indices for searching : {e}\")"
   ]
  },
  {
   "cell_type": "code",
   "execution_count": 360,
   "id": "948b8777-00e3-4d7a-9b5f-76ec0a2fda9a",
   "metadata": {},
   "outputs": [
    {
     "name": "stdout",
     "output_type": "stream",
     "text": [
      "Validate the permission with wx* indices for searching : AuthorizationException(403, 'security_exception', 'Insufficient permissions')\n"
     ]
    }
   ],
   "source": [
    "''' AuthorizationException(403, 'security_exception', 'Insufficient permissions') when omusers does try to access wx* index '''\n",
    "''' omusers doesn't have the permission to access for wx* indices '''\n",
    "''' Only indices starting with om are searchable. '''\n",
    "query={\"query\": {\"match_all\": {}}}\n",
    "try:\n",
    "    resp = es_om_user_es_instance.search(index=\"wx_test\", body=query)\n",
    "    print(json.dumps(resp['hits'], indent=2))\n",
    "except Exception as e:\n",
    "    print(f\"Validate the permission with wx* indices for searching : {e}\")"
   ]
  },
  {
   "cell_type": "code",
   "execution_count": 361,
   "id": "333751ff-35fa-4da2-9794-e605fcc89e6b",
   "metadata": {},
   "outputs": [
    {
     "name": "stdout",
     "output_type": "stream",
     "text": [
      "Validate the permission for indexing : AuthorizationException(403, 'security_exception', 'Insufficient permissions')\n"
     ]
    }
   ],
   "source": [
    "''' omusers don't have the permission to create index and write docuements '''\n",
    "doc = {\n",
    "    \"author\": \"kimchy\",\n",
    "    \"text\": \"Elasticsearch: cool. bonsai cool.\",\n",
    "    \"timestamp\": datetime.now(),\n",
    "}\n",
    "try:\n",
    "    resp = es_om_user_es_instance.index(index=\"wx-test-index\", id=1, body=doc)\n",
    "    print(json.dumps(resp[\"result\"], indent=2))\n",
    "except Exception as e:\n",
    "    print(f\"Validate the permission for indexing : {e}\")"
   ]
  },
  {
   "cell_type": "code",
   "execution_count": 362,
   "id": "9d7ad0db-66f6-4d43-ac51-b88ff35e76b4",
   "metadata": {},
   "outputs": [
    {
     "name": "stdout",
     "output_type": "stream",
     "text": [
      "** Role based User Permission check using requests library\n"
     ]
    }
   ],
   "source": [
    "print(f\"** Role based User Permission check using requests library\")"
   ]
  },
  {
   "cell_type": "code",
   "execution_count": 363,
   "id": "896a7009-e5e7-4800-b637-bb5c4b8b9d58",
   "metadata": {},
   "outputs": [],
   "source": [
    "class color:\n",
    "   PURPLE = '\\033[95m'\n",
    "   CYAN = '\\033[96m'\n",
    "   DARKCYAN = '\\033[36m'\n",
    "   BLUE = '\\033[94m'\n",
    "   GREEN = '\\033[92m'\n",
    "   YELLOW = '\\033[93m'\n",
    "   RED = '\\033[91m'\n",
    "   BOLD = '\\033[1m'\n",
    "   UNDERLINE = '\\033[4m'\n",
    "   END = '\\033[0m'"
   ]
  },
  {
   "cell_type": "code",
   "execution_count": 364,
   "id": "e1572ee0-70ac-4c44-9348-703c83d4f21b",
   "metadata": {},
   "outputs": [],
   "source": [
    "''' https://restfulapi.net/http-status-codes/ '''\n",
    "http_status_code = {\n",
    "    200 : 'Indicates that the request has succeeded.',\n",
    "    201 : 'Indicates that the request has succeeded and a new resource has been created as a result.',\n",
    "    400 : 'The server could not understand the request due to incorrect syntax. The client should NOT repeat the request without modifications.',\n",
    "    401 : 'Unauthorized',\n",
    "    403 : 'Unauthorized request. The client does not have access rights to the content. ',\n",
    "    500 : 'The server encountered an unexpected condition that prevented it from fulfilling the request.'\n",
    "}"
   ]
  },
  {
   "cell_type": "code",
   "execution_count": 365,
   "id": "d52d384d-d7fe-4108-b113-940e69da6592",
   "metadata": {},
   "outputs": [
    {
     "name": "stdout",
     "output_type": "stream",
     "text": [
      "--------------------------------------------------\n",
      "User : es_admin\n",
      "POST [200, Indicates that the request has succeeded.] User ['es_admin'] - CREATE INDEX Request\n",
      "DELETE [200, Indicates that the request has succeeded.] User ['es_admin'] - DELETE INDEX Request\n",
      "GET [200, 'Indicates that the request has succeeded.'] User [es_admin], Urls [_cat/nodes?format=json]\n",
      "GET [200, 'Indicates that the request has succeeded.'] User [es_admin], Urls [_cat/aliases?format=json]\n",
      "GET [200, 'Indicates that the request has succeeded.'] User [es_admin], Urls [_cat/nodes?format=json]\n",
      "GET [200, 'Indicates that the request has succeeded.'] User [es_admin], Urls [wx_test/_search]\n",
      "GET [200, 'Indicates that the request has succeeded.'] User [es_admin], Urls [om_test/_search]\n",
      "GET [404, ''] User [es_admin], Urls [logstash-2024.08.21/_search]\n",
      "--------------------------------------------------\n",
      "User : es_logstash\n",
      "POST [200, Indicates that the request has succeeded.] User ['es_logstash'] - CREATE INDEX Request\n",
      "DELETE [200, Indicates that the request has succeeded.] User ['es_logstash'] - DELETE INDEX Request\n",
      "GET [200, 'Indicates that the request has succeeded.'] User [es_logstash], Urls [_cat/nodes?format=json]\n",
      "GET [200, 'Indicates that the request has succeeded.'] User [es_logstash], Urls [_cat/aliases?format=json]\n",
      "GET [200, 'Indicates that the request has succeeded.'] User [es_logstash], Urls [_cat/nodes?format=json]\n",
      "GET [403, 'Unauthorized request. The client does not have access rights to the content. '] User [es_logstash], Urls [wx_test/_search]\n",
      "GET [403, 'Unauthorized request. The client does not have access rights to the content. '] User [es_logstash], Urls [om_test/_search]\n",
      "GET [404, ''] User [es_logstash], Urls [logstash-2024.08.21/_search]\n",
      "--------------------------------------------------\n",
      "User : es_spark\n",
      "POST [200, Indicates that the request has succeeded.] User ['es_spark'] - CREATE INDEX Request\n",
      "DELETE [200, Indicates that the request has succeeded.] User ['es_spark'] - DELETE INDEX Request\n",
      "GET [200, 'Indicates that the request has succeeded.'] User [es_spark], Urls [_cat/nodes?format=json]\n",
      "GET [200, 'Indicates that the request has succeeded.'] User [es_spark], Urls [_cat/aliases?format=json]\n",
      "GET [200, 'Indicates that the request has succeeded.'] User [es_spark], Urls [_cat/nodes?format=json]\n",
      "GET [200, 'Indicates that the request has succeeded.'] User [es_spark], Urls [wx_test/_search]\n",
      "GET [200, 'Indicates that the request has succeeded.'] User [es_spark], Urls [om_test/_search]\n",
      "GET [404, ''] User [es_spark], Urls [logstash-2024.08.21/_search]\n",
      "--------------------------------------------------\n",
      "User : es_curator\n",
      "POST [(403, {'Unauthorized request. The client does not have access rights to the content. '})] User ['es_curator'] - CREATE INDEX Request\n",
      "DELETE [200, Indicates that the request has succeeded.] User ['es_curator'] - DELETE INDEX Request\n",
      "GET [200, 'Indicates that the request has succeeded.'] User [es_curator], Urls [_cat/nodes?format=json]\n",
      "GET [200, 'Indicates that the request has succeeded.'] User [es_curator], Urls [_cat/aliases?format=json]\n",
      "GET [200, 'Indicates that the request has succeeded.'] User [es_curator], Urls [_cat/nodes?format=json]\n",
      "GET [403, 'Unauthorized request. The client does not have access rights to the content. '] User [es_curator], Urls [wx_test/_search]\n",
      "GET [403, 'Unauthorized request. The client does not have access rights to the content. '] User [es_curator], Urls [om_test/_search]\n",
      "GET [403, 'Unauthorized request. The client does not have access rights to the content. '] User [es_curator], Urls [logstash-2024.08.21/_search]\n",
      "--------------------------------------------------\n",
      "User : wxusers\n",
      "POST [(403, {'Unauthorized request. The client does not have access rights to the content. '})] User ['wxusers'] - CREATE INDEX Request\n",
      "DELETE [403, Unauthorized request. The client does not have access rights to the content. ] User ['wxusers'] - DELETE INDEX Request\n",
      "GET [200, 'Indicates that the request has succeeded.'] User [wxusers], Urls [_cat/nodes?format=json]\n",
      "GET [200, 'Indicates that the request has succeeded.'] User [wxusers], Urls [_cat/aliases?format=json]\n",
      "GET [200, 'Indicates that the request has succeeded.'] User [wxusers], Urls [_cat/nodes?format=json]\n",
      "GET [200, 'Indicates that the request has succeeded.'] User [wxusers], Urls [wx_test/_search]\n",
      "GET [403, 'Unauthorized request. The client does not have access rights to the content. '] User [wxusers], Urls [om_test/_search]\n",
      "GET [403, 'Unauthorized request. The client does not have access rights to the content. '] User [wxusers], Urls [logstash-2024.08.21/_search]\n",
      "--------------------------------------------------\n",
      "User : omusers\n",
      "POST [(403, {'Unauthorized request. The client does not have access rights to the content. '})] User ['omusers'] - CREATE INDEX Request\n",
      "DELETE [403, Unauthorized request. The client does not have access rights to the content. ] User ['omusers'] - DELETE INDEX Request\n",
      "GET [200, 'Indicates that the request has succeeded.'] User [omusers], Urls [_cat/nodes?format=json]\n",
      "GET [200, 'Indicates that the request has succeeded.'] User [omusers], Urls [_cat/aliases?format=json]\n",
      "GET [200, 'Indicates that the request has succeeded.'] User [omusers], Urls [_cat/nodes?format=json]\n",
      "GET [403, 'Unauthorized request. The client does not have access rights to the content. '] User [omusers], Urls [wx_test/_search]\n",
      "GET [200, 'Indicates that the request has succeeded.'] User [omusers], Urls [om_test/_search]\n",
      "GET [403, 'Unauthorized request. The client does not have access rights to the content. '] User [omusers], Urls [logstash-2024.08.21/_search]\n",
      "--------------------------------------------------\n",
      "User : wx-clnt-support\n",
      "POST [(403, {'Unauthorized request. The client does not have access rights to the content. '})] User ['wx-clnt-support'] - CREATE INDEX Request\n",
      "DELETE [403, Unauthorized request. The client does not have access rights to the content. ] User ['wx-clnt-support'] - DELETE INDEX Request\n",
      "GET [200, 'Indicates that the request has succeeded.'] User [wx-clnt-support], Urls [_cat/nodes?format=json]\n",
      "GET [200, 'Indicates that the request has succeeded.'] User [wx-clnt-support], Urls [_cat/aliases?format=json]\n",
      "GET [200, 'Indicates that the request has succeeded.'] User [wx-clnt-support], Urls [_cat/nodes?format=json]\n",
      "GET [200, 'Indicates that the request has succeeded.'] User [wx-clnt-support], Urls [wx_test/_search]\n",
      "GET [403, 'Unauthorized request. The client does not have access rights to the content. '] User [wx-clnt-support], Urls [om_test/_search]\n",
      "GET [404, ''] User [wx-clnt-support], Urls [logstash-2024.08.21/_search]\n",
      "--------------------------------------------------\n",
      "User : om-clnt-support\n",
      "POST [(403, {'Unauthorized request. The client does not have access rights to the content. '})] User ['om-clnt-support'] - CREATE INDEX Request\n",
      "DELETE [403, Unauthorized request. The client does not have access rights to the content. ] User ['om-clnt-support'] - DELETE INDEX Request\n",
      "GET [200, 'Indicates that the request has succeeded.'] User [om-clnt-support], Urls [_cat/nodes?format=json]\n",
      "GET [200, 'Indicates that the request has succeeded.'] User [om-clnt-support], Urls [_cat/aliases?format=json]\n",
      "GET [200, 'Indicates that the request has succeeded.'] User [om-clnt-support], Urls [_cat/nodes?format=json]\n",
      "GET [403, 'Unauthorized request. The client does not have access rights to the content. '] User [om-clnt-support], Urls [wx_test/_search]\n",
      "GET [200, 'Indicates that the request has succeeded.'] User [om-clnt-support], Urls [om_test/_search]\n",
      "GET [404, ''] User [om-clnt-support], Urls [logstash-2024.08.21/_search]\n",
      "--------------------------------------------------\n",
      "User : es_monitoring\n",
      "POST [(403, {'Unauthorized request. The client does not have access rights to the content. '})] User ['es_monitoring'] - CREATE INDEX Request\n",
      "DELETE [403, Unauthorized request. The client does not have access rights to the content. ] User ['es_monitoring'] - DELETE INDEX Request\n",
      "GET [200, 'Indicates that the request has succeeded.'] User [es_monitoring], Urls [_cat/nodes?format=json]\n",
      "GET [200, 'Indicates that the request has succeeded.'] User [es_monitoring], Urls [_cat/aliases?format=json]\n",
      "GET [200, 'Indicates that the request has succeeded.'] User [es_monitoring], Urls [_cat/nodes?format=json]\n",
      "GET [200, 'Indicates that the request has succeeded.'] User [es_monitoring], Urls [wx_test/_search]\n",
      "GET [200, 'Indicates that the request has succeeded.'] User [es_monitoring], Urls [om_test/_search]\n",
      "GET [404, ''] User [es_monitoring], Urls [logstash-2024.08.21/_search]\n"
     ]
    }
   ],
   "source": [
    "''' Verify user's permission using the API such as create index or delete index or search'''\n",
    "''' User Permission with a different role for ES v.8.12.2 with x-pack security based on Searcch Guard '''\n",
    "api_list = ['_cat/nodes?format=json', '_cat/aliases?format=json', '_cat/nodes?format=json', \n",
    "            'wx_test/_search', 'om_test/_search', 'logstash-2024.08.21/_search'\n",
    "           ]\n",
    "user_list = os.getenv('USER_LIST').split(\",\")\n",
    "for user in user_list:\n",
    "    ''' Add header for each user '''\n",
    "    header = {'Content-type': 'application/json', 'Authorization' : 'Basic {}'.format(base64_encode_for_search_guard(user)), 'Connection': 'close'}\n",
    "    print('-'*50)\n",
    "\n",
    "    IDX = 'logstash-2025-01-test'\n",
    "    ''' Verify write permission'''\n",
    "    body = [\n",
    "                {\"index\" : { \"_index\" : IDX, \"_id\" : \"1\"}},\n",
    "                {\"ADDTS\" : \"03/09/2023 02:06:34.739993\" },\n",
    "                {\"index\" : { \"_index\" : IDX, \"_id\" : \"2\"}},\n",
    "                {\"ADDTS\" : \"03/09/2023 02:06:34.739993\" }\n",
    "    ]\n",
    "\n",
    "    payload = '\\n'.join([json.dumps(line) for line in body]) + '\\n'\n",
    "    print(f\"User : {user.split(':')[0]}\")\n",
    "    resp = requests.post(url=\"{}/_bulk\".format(os.getenv('ES_DEV_V8_HOST')), headers=header, data=payload, verify=False, timeout=5)\n",
    "    ''' check first records if user has permission to write'''\n",
    "    status = resp.json()[\"items\"][0][\"index\"][\"status\"]\n",
    "    if \"errors\" in resp.json() and resp.json()[\"errors\"] == True:\n",
    "        # print(f\"POST [{status, http_status_code.get(status, '')}] User ['{user.split(':')[0]}'] - CREATE INDEX Request : {resp.json()}\")\n",
    "        print(f\"POST [{status, {http_status_code.get(status, '')}}] User ['{user.split(':')[0]}'] - CREATE INDEX Request\")\n",
    "    else:\n",
    "        # print(f\"POST [{resp.status_code, http_status_code.get(resp.status_code, '')}] User ['{user.split(':')[0]}'] - CREATE INDEX Request : {resp.json()}\")\n",
    "        print(f\"POST [{resp.status_code}, {http_status_code.get(resp.status_code, '')}] User ['{user.split(':')[0]}'] - CREATE INDEX Request\")\n",
    "\n",
    "    ''' Verif delete permission '''\n",
    "    resp = requests.delete(url=\"{}/{}\".format(os.getenv('ES_DEV_V8_HOST'), IDX), headers=header, verify=False, timeout=600)\n",
    "    print(f\"DELETE [{resp.status_code}, {http_status_code.get(resp.status_code, '')}] User ['{user.split(':')[0]}'] - DELETE INDEX Request\")\n",
    "\n",
    "    ''' create again for curator account '''\n",
    "    resp = requests.post(url=\"{}/_bulk\".format(os.getenv('ES_DEV_V8_HOST')), headers=header, data=payload, verify=False, timeout=5)\n",
    "\n",
    "    ''' _search '''\n",
    "    for api in api_list:\n",
    "        ''' Verify search permission '''\n",
    "        resp = requests.get(url=\"{}/{}\".format(os.getenv('ES_DEV_V8_HOST'), api), headers=header, verify=False, timeout=5)\n",
    "        color_print = color.GREEN if resp.status_code == 200 else color.RED\n",
    "        # print(f\"{color.BOLD}{color_print} GET {[resp.status_code , http_status_code.get(resp.status_code, '')]} User [{user.split(':')[0]}], Urls [{api}]{color.END}\")\n",
    "        print(f\"GET {[resp.status_code , http_status_code.get(resp.status_code, '')]} User [{user.split(':')[0]}], Urls [{api}]\")"
   ]
  },
  {
   "cell_type": "markdown",
   "id": "385e1a0b-401a-48fb-b900-4d3f589405e8",
   "metadata": {},
   "source": [
    "### IPytest\n",
    "* ipytest allows you to run Pytest in Jupyter notebooks.\n",
    "* The pytest framework makes it easy to write small tests. It can be used to write various types of software tests, including unit tests and others"
   ]
  },
  {
   "cell_type": "code",
   "execution_count": 366,
   "id": "4b55956e-bbb7-48c7-a897-2e8a9a15ef58",
   "metadata": {},
   "outputs": [],
   "source": [
    "import pytest\n",
    "''' https://github.com/chmp/ipytest?tab=readme-ov-file '''\n",
    "''' https://github.com/chmp/ipytest/blob/main/Example.ipynb '''\n",
    "''' https://docs.search-guard.com/latest/offline-tls-tool '''\n",
    "import warnings\n",
    "warnings.filterwarnings('ignore')\n",
    "warnings.simplefilter('ignore')"
   ]
  },
  {
   "cell_type": "code",
   "execution_count": 367,
   "id": "361ca987-2bf4-4456-a549-e3e5ba3b2586",
   "metadata": {},
   "outputs": [
    {
     "name": "stdout",
     "output_type": "stream",
     "text": [
      "Requirement already satisfied: pytest-cov in c:\\users\\euiyoung.hwang\\git_workspace\\elk_stack_upgrade\\.venv\\lib\\site-packages (6.0.0)\n",
      "Requirement already satisfied: pytest>=4.6 in c:\\users\\euiyoung.hwang\\git_workspace\\elk_stack_upgrade\\.venv\\lib\\site-packages (from pytest-cov) (8.2.2)\n",
      "Requirement already satisfied: coverage>=7.5 in c:\\users\\euiyoung.hwang\\git_workspace\\elk_stack_upgrade\\.venv\\lib\\site-packages (from coverage[toml]>=7.5->pytest-cov) (7.6.12)\n",
      "Requirement already satisfied: iniconfig in c:\\users\\euiyoung.hwang\\git_workspace\\elk_stack_upgrade\\.venv\\lib\\site-packages (from pytest>=4.6->pytest-cov) (2.0.0)\n",
      "Requirement already satisfied: packaging in c:\\users\\euiyoung.hwang\\git_workspace\\elk_stack_upgrade\\.venv\\lib\\site-packages (from pytest>=4.6->pytest-cov) (24.1)\n",
      "Requirement already satisfied: pluggy<2.0,>=1.5 in c:\\users\\euiyoung.hwang\\git_workspace\\elk_stack_upgrade\\.venv\\lib\\site-packages (from pytest>=4.6->pytest-cov) (1.5.0)\n",
      "Requirement already satisfied: colorama in c:\\users\\euiyoung.hwang\\git_workspace\\elk_stack_upgrade\\.venv\\lib\\site-packages (from pytest>=4.6->pytest-cov) (0.4.6)\n"
     ]
    }
   ],
   "source": [
    "!pip install pytest-cov"
   ]
  },
  {
   "cell_type": "code",
   "execution_count": 368,
   "id": "1a23d94c-01ce-48cd-9fa1-37daeee87081",
   "metadata": {},
   "outputs": [],
   "source": [
    "''' To begin, you need to install pytest and ipytest, a tool designed to run pytest tests directly in Jupyter. Execute the following in a Jupyter cell '''\n",
    "ipytest.autoconfig(coverage=True)"
   ]
  },
  {
   "cell_type": "code",
   "execution_count": 369,
   "id": "c38c0d6f-9e0a-4537-81a0-844e2b22432a",
   "metadata": {},
   "outputs": [],
   "source": [
    "''' ******* Test code ********* '''\n",
    "# @pytest.mark.skip(reason=\"no way of currently testing this\")\n",
    "# def test_pytest_skip_func():\n",
    "#     assert 42 == 42"
   ]
  },
  {
   "cell_type": "code",
   "execution_count": 370,
   "id": "41b226ec-4938-4a6c-a335-85e6ac76efb5",
   "metadata": {},
   "outputs": [],
   "source": [
    "def test_base64_func():\n",
    "    # resp = es_search_guard.ping()\n",
    "    # assert resp == True\n",
    "    expected_encoded ='dGVzdDox'\n",
    "    expected_decoded = 'test:1'\n",
    "    encoded = base64_encode_for_search_guard(expected_decoded)\n",
    "    assert \"Basic {}\".format(encoded) == 'Basic {}'.format(expected_encoded)\n",
    "    assert base64_decode_for_search_guard(expected_encoded) == expected_decoded"
   ]
  },
  {
   "cell_type": "code",
   "execution_count": 371,
   "id": "c3d04a9d-63d4-48ca-820f-8839da613c5e",
   "metadata": {},
   "outputs": [],
   "source": [
    "def test_installed_running_search_guard_es_cluster_func():\n",
    "    ''' Check if search guard was installed in ES cluster via _searchguard api '''\n",
    "    resp = requests.get(url=f\"{os.getenv('ES_DEV_V8_HOST')}/_searchguard/health\", headers=None, verify=False, timeout=600)\n",
    "    assert resp.status_code == 200\n",
    "    assert resp.json() == {\n",
    "          \"message\": None,\n",
    "          \"mode\": \"strict\",\n",
    "          \"status\": \"UP\"\n",
    "    }"
   ]
  },
  {
   "cell_type": "code",
   "execution_count": 372,
   "id": "fc8786e7-ddbc-4126-8be9-b6f071add4a6",
   "metadata": {},
   "outputs": [],
   "source": [
    "@pytest.mark.skip(reason=\"no way of currently testing this\")\n",
    "def test_sg_role_validation_admin_account_func():\n",
    "    ''' sg_role for admin account '''\n",
    "    mock_es_admin_client = es_search_guard\n",
    "    assert mock_es_admin_client is not None\n",
    "    resp = mock_es_admin_client.get(index=\"wx_test\", id=12)\n",
    "    assert resp is not None\n",
    "    assert resp == {\n",
    "      \"_index\": \"wx_test\",\n",
    "      \"_id\": \"12\",\n",
    "      \"_version\": 1,\n",
    "      \"_seq_no\": 0,\n",
    "      \"_primary_term\": 1,\n",
    "      \"found\": True,\n",
    "      \"_source\": {\n",
    "        \"ADDTS\": \"03/09/2023 02:06:34.739993\"\n",
    "      }\n",
    "    }\n",
    "\n",
    "    query={\"query\": {\"match_all\": {}}}\n",
    "    resp = mock_es_admin_client.search(index=\"om_test\", body=query)\n",
    "    assert resp is not None\n",
    "    assert resp['hits'] == {\n",
    "      \"total\": {\n",
    "        \"value\": 1,\n",
    "        \"relation\": \"eq\"\n",
    "      },\n",
    "      \"max_score\": 1.0,\n",
    "      \"hits\": [\n",
    "        {\n",
    "          \"_index\": \"om_test\",\n",
    "          \"_id\": \"12\",\n",
    "          \"_score\": 1.0,\n",
    "          \"_source\": {\n",
    "            \"ADDTS\": \"03/09/2023 02:06:34.739993\"\n",
    "          }\n",
    "        }\n",
    "      ]\n",
    "    }\n",
    "    assert len(resp['hits']) > 0"
   ]
  },
  {
   "cell_type": "code",
   "execution_count": 373,
   "id": "aa756f80-8a40-4c4f-910e-4eada5576db2",
   "metadata": {},
   "outputs": [
    {
     "name": "stdout",
     "output_type": "stream",
     "text": [
      "\u001b[1m======================================= test session starts =======================================\u001b[0m\n",
      "platform win32 -- Python 3.11.7, pytest-8.2.2, pluggy-1.5.0 -- C:\\Users\\euiyoung.hwang\\Git_Workspace\\ELK_Stack_Upgrade\\.venv\\Scripts\\python.exe\n",
      "cachedir: .pytest_cache\n",
      "rootdir: C:\\Users\\euiyoung.hwang\\Git_Workspace\\ELK_Stack_Upgrade\n",
      "configfile: pyproject.toml\n",
      "plugins: anyio-4.8.0, cov-6.0.0\n",
      "collected 3 items. \u001b[0m\n",
      "\n",
      "\u001b[32mPASSED\u001b[0m\u001b[32m                               [ 33%]\u001b[0m\n",
      "\u001b[32mPASSED\u001b[0m\u001b[32m [ 66%]\u001b[0m49a.py::test_installed_running_search_guard_es_cluster_func \n",
      "\u001b[33mSKIPPED\u001b[0m\u001b[32m    [100%]\u001b[0mpy::test_sg_role_validation_admin_account_func \n",
      "\n",
      "---------- coverage: platform win32, python 3.11.7-final-0 -----------\n",
      "Name                                                                       Stmts   Miss  Cover\n",
      "----------------------------------------------------------------------------------------------\n",
      "C:\\Users\\euiyoung.hwang\\AppData\\Local\\Temp\\ipykernel_30576\\1095938805.py       6      1    83%\n",
      "C:\\Users\\euiyoung.hwang\\AppData\\Local\\Temp\\ipykernel_30576\\1132335815.py       2      1    50%\n",
      "C:\\Users\\euiyoung.hwang\\AppData\\Local\\Temp\\ipykernel_30576\\1766408411.py       3      1    67%\n",
      "C:\\Users\\euiyoung.hwang\\AppData\\Local\\Temp\\ipykernel_30576\\1953573728.py       4      1    75%\n",
      "----------------------------------------------------------------------------------------------\n",
      "TOTAL                                                                         15      4    73%\n",
      "\n",
      "\n",
      "\u001b[32m================================== \u001b[32m\u001b[1m2 passed\u001b[0m, \u001b[33m1 skipped\u001b[0m\u001b[32m in 0.35s\u001b[0m\u001b[32m ===================================\u001b[0m\n"
     ]
    },
    {
     "data": {
      "text/plain": [
       "<ExitCode.OK: 0>"
      ]
     },
     "execution_count": 373,
     "metadata": {},
     "output_type": "execute_result"
    }
   ],
   "source": [
    "''' Execute the tests using ipytest.run(). You can pass command-line arguments to control test behavior: '''\n",
    "''' The pytest framework makes it easy to write small, readable tests, and can scale to support complex functional testing for applications and libraries. '''\n",
    "ipytest.run('-vv')\n",
    "# ipytest.run('-qq')"
   ]
  },
  {
   "cell_type": "code",
   "execution_count": null,
   "id": "7d0107a4-b3f6-4c73-9283-139ed5f4b0e0",
   "metadata": {},
   "outputs": [],
   "source": []
  }
 ],
 "metadata": {
  "kernelspec": {
   "display_name": "Python 3 (ipykernel)",
   "language": "python",
   "name": "python3"
  },
  "language_info": {
   "codemirror_mode": {
    "name": "ipython",
    "version": 3
   },
   "file_extension": ".py",
   "mimetype": "text/x-python",
   "name": "python",
   "nbconvert_exporter": "python",
   "pygments_lexer": "ipython3",
   "version": "3.11.7"
  }
 },
 "nbformat": 4,
 "nbformat_minor": 5
}
