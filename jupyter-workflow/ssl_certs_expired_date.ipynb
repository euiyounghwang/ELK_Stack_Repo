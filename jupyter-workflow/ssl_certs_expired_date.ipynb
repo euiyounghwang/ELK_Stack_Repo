{
 "cells": [
  {
   "cell_type": "code",
   "execution_count": 145,
   "id": "bc79cc8f-d157-4909-977b-698f2a98f14b",
   "metadata": {},
   "outputs": [
    {
     "name": "stdout",
     "output_type": "stream",
     "text": [
      "To check the SSL certificate expiration date, we will use the OpenSSL library. This package provides a high-level interface to the functions in the OpenSSL library.\n"
     ]
    }
   ],
   "source": [
    "print(f\"To check the SSL certificate expiration date, we will use the OpenSSL library. This package provides a high-level interface to the functions in the OpenSSL library.\")"
   ]
  },
  {
   "cell_type": "code",
   "execution_count": 146,
   "id": "54e9b053-eec1-4e64-8ec1-20518e2bd39c",
   "metadata": {},
   "outputs": [],
   "source": [
    "#!pip install pyopenssl"
   ]
  },
  {
   "cell_type": "code",
   "execution_count": 147,
   "id": "04fef487-8aa0-4c36-8681-e2f7e116888e",
   "metadata": {},
   "outputs": [],
   "source": [
    "from datetime import datetime, date\n",
    "import OpenSSL\n",
    "import ssl\n",
    "import os\n",
    "import json\n",
    "import pandas as pd\n",
    "from dotenv import load_dotenv\n",
    "from IPython.display import HTML\n",
    "import warnings\n",
    "warnings.filterwarnings(\"ignore\")"
   ]
  },
  {
   "cell_type": "code",
   "execution_count": 148,
   "id": "0d54f36c-bbc7-4d9b-a460-681a4f977db7",
   "metadata": {},
   "outputs": [
    {
     "data": {
      "text/plain": [
       "True"
      ]
     },
     "execution_count": 148,
     "metadata": {},
     "output_type": "execute_result"
    }
   ],
   "source": [
    "''' pip install python-dotenv'''\n",
    "load_dotenv() # will search for .env file in local folder and load variables"
   ]
  },
  {
   "cell_type": "code",
   "execution_count": 149,
   "id": "be521d21-3375-4c91-b775-2ee1849561c9",
   "metadata": {},
   "outputs": [],
   "source": [
    "source_es_host = \"http://localhost:9211\"\n",
    "# source_es_host = os.getenv('ES_DEV_V8_HOST')"
   ]
  },
  {
   "cell_type": "code",
   "execution_count": 150,
   "id": "fdde0505-b8c8-403f-9fba-ce4204a804b0",
   "metadata": {},
   "outputs": [],
   "source": [
    "source_es_host = source_es_host.replace(\"http://\",\"\").replace(\"https://\",\"\")\n",
    "source_es_hostname = str(source_es_host.split(':')[0])\n",
    "source_es_port = str(source_es_host.split(':')[1])"
   ]
  },
  {
   "cell_type": "code",
   "execution_count": 151,
   "id": "77766d34-4c3c-4b07-8be8-ef2c6ac777f5",
   "metadata": {},
   "outputs": [
    {
     "name": "stdout",
     "output_type": "stream",
     "text": [
      "localhost 9211\n"
     ]
    }
   ],
   "source": [
    "print(source_es_hostname, source_es_port)"
   ]
  },
  {
   "cell_type": "code",
   "execution_count": 152,
   "id": "41eff969-c6ad-45bd-9674-6403a60837d7",
   "metadata": {},
   "outputs": [],
   "source": [
    "response_dict = {}"
   ]
  },
  {
   "cell_type": "code",
   "execution_count": 153,
   "id": "ab2cac03-d9c5-4849-b6c0-2e6f15e6310a",
   "metadata": {},
   "outputs": [],
   "source": [
    "def get_ssl_certs_hosts(source_es_hostname, source_es_port):\n",
    "    ''' check if the ES cluster has any ssl certs and get the expired date '''\n",
    "    try:\n",
    "        cert=ssl.get_server_certificate((source_es_hostname, source_es_port))\n",
    "        x509 = OpenSSL.crypto.load_certificate(OpenSSL.crypto.FILETYPE_PEM, cert)\n",
    "        bytes=x509.get_notAfter()\n",
    "        # print(bytes)\n",
    "        timestamp = bytes.decode('utf-8')\n",
    "        # print (datetime.strptime(timestamp, '%Y%m%d%H%M%S%z').date().isoformat())\n",
    "        # print(datetime.strptime(timestamp, '%Y%m%d%H%M%S%z'))\n",
    "        ssl_expire_date = datetime.strptime(timestamp, '%Y%m%d%H%M%S%z')\n",
    "        ssl_expire_date = \"{}-{}-{}\".format(str(ssl_expire_date.year).zfill(2), str(ssl_expire_date.month).zfill(2), str(ssl_expire_date.day).zfill(2))\n",
    "    \n",
    "        response_dict.update({\"ssl_certs_expire_date\" : ssl_expire_date})\n",
    "        response_dict.update({\"ssl_certs_expire_yyyymmdd\" : int(ssl_expire_date.replace(\"-\",\"\"))})\n",
    "    except Exception as e:\n",
    "        response_dict.update({\"ssl_certs_expire_date\" : 'no_ssl_certs'})\n",
    "        response_dict.update({\"ssl_certs_expire_yyyymmdd\" : 0})\n",
    "        print(e)\n",
    "    finally:\n",
    "        return response_dict"
   ]
  },
  {
   "cell_type": "code",
   "execution_count": 154,
   "id": "608d698a-bfee-4f98-8c43-ad6b842d6e11",
   "metadata": {},
   "outputs": [
    {
     "name": "stdout",
     "output_type": "stream",
     "text": [
      "[WinError 10061] No connection could be made because the target machine actively refused it\n"
     ]
    }
   ],
   "source": [
    "response_dict = get_ssl_certs_hosts(source_es_hostname, source_es_port)"
   ]
  },
  {
   "cell_type": "code",
   "execution_count": 155,
   "id": "dd3c84d1-9e3a-4769-a2eb-d72b5f3533e6",
   "metadata": {},
   "outputs": [
    {
     "name": "stdout",
     "output_type": "stream",
     "text": [
      "{\n",
      "  \"ssl_certs_expire_date\": \"no_ssl_certs\",\n",
      "  \"ssl_certs_expire_yyyymmdd\": 0\n",
      "}\n"
     ]
    }
   ],
   "source": [
    "print(json.dumps(response_dict, indent=2)) "
   ]
  },
  {
   "cell_type": "code",
   "execution_count": 156,
   "id": "2a1f6634",
   "metadata": {},
   "outputs": [],
   "source": [
    "response_dict_env = {}"
   ]
  },
  {
   "cell_type": "code",
   "execution_count": 157,
   "id": "9badf51e",
   "metadata": {},
   "outputs": [],
   "source": [
    "env, cluster, host, service, ssl_certs_expire_date = [], [], [], [], []\n",
    "all_env_ssl_df = {}"
   ]
  },
  {
   "cell_type": "code",
   "execution_count": 158,
   "id": "a5a54774",
   "metadata": {},
   "outputs": [],
   "source": [
    "for k, v in response_dict_env.items():\n",
    "    if v.get(\"ssl_certs_expire_yyyymmdd\") > 0:\n",
    "        # print(k.rsplit(\"_\",2))\n",
    "        env_name = k.rsplit(\"_\",2)[0]\n",
    "        env.append(env_name)\n",
    "        cluster.append(k)\n",
    "        host.append(v.get(\"host\")) \n",
    "        ssl_certs_expire_date.append(v.get(\"ssl_certs_expire_date\")) \n",
    "        if 'es' in k:\n",
    "            service.append('Elasticsearch')\n",
    "        elif 'spark' in k:\n",
    "            service.append('Spark')\n",
    "\n",
    "all_env_ssl_df.update({'env' : env})\n",
    "all_env_ssl_df.update({'cluster' : cluster})\n",
    "all_env_ssl_df.update({'host' : host})\n",
    "all_env_ssl_df.update({'service' : service})\n",
    "all_env_ssl_df.update({'ssl_certs_expired_date' : ssl_certs_expire_date})"
   ]
  },
  {
   "cell_type": "code",
   "execution_count": 159,
   "id": "3d40df91",
   "metadata": {},
   "outputs": [
    {
     "data": {
      "text/html": [
       "<div>\n",
       "<style scoped>\n",
       "    .dataframe tbody tr th:only-of-type {\n",
       "        vertical-align: middle;\n",
       "    }\n",
       "\n",
       "    .dataframe tbody tr th {\n",
       "        vertical-align: top;\n",
       "    }\n",
       "\n",
       "    .dataframe thead th {\n",
       "        text-align: right;\n",
       "    }\n",
       "</style>\n",
       "<table border=\"1\" class=\"dataframe\">\n",
       "  <thead>\n",
       "    <tr style=\"text-align: right;\">\n",
       "      <th></th>\n",
       "      <th>env</th>\n",
       "      <th>cluster</th>\n",
       "      <th>host</th>\n",
       "      <th>service</th>\n",
       "      <th>ssl_certs_expired_date</th>\n",
       "    </tr>\n",
       "  </thead>\n",
       "  <tbody>\n",
       "  </tbody>\n",
       "</table>\n",
       "</div>"
      ],
      "text/plain": [
       "Empty DataFrame\n",
       "Columns: [env, cluster, host, service, ssl_certs_expired_date]\n",
       "Index: []"
      ]
     },
     "metadata": {},
     "output_type": "display_data"
    }
   ],
   "source": [
    "''' Compare the ES indices between source cluster and target cluster '''\n",
    "df = pd.DataFrame.from_dict(all_env_ssl_df)\n",
    "# df.head(10)\n",
    "display(df)"
   ]
  },
  {
   "cell_type": "code",
   "execution_count": 160,
   "id": "d88fb64f",
   "metadata": {},
   "outputs": [],
   "source": [
    "# Define a styling function\n",
    "def highlight_failed_rows(row):\n",
    "    # Apply red background if 'Status' is 'Fail'\n",
    "    if row['Age'] < 30:\n",
    "        return ['background-color: red; font-weight: bold'] * len(row)\n",
    "    else:\n",
    "        return [''] * len(row)"
   ]
  },
  {
   "cell_type": "code",
   "execution_count": 161,
   "id": "fa148b12",
   "metadata": {},
   "outputs": [
    {
     "data": {
      "text/html": [
       "<style type=\"text/css\">\n",
       "#T_2f52c_row0_col0, #T_2f52c_row0_col1 {\n",
       "  background-color: red;\n",
       "  font-weight: bold;\n",
       "}\n",
       "</style>\n",
       "<table id=\"T_2f52c\">\n",
       "  <thead>\n",
       "    <tr>\n",
       "      <th class=\"blank level0\" >&nbsp;</th>\n",
       "      <th id=\"T_2f52c_level0_col0\" class=\"col_heading level0 col0\" >Name</th>\n",
       "      <th id=\"T_2f52c_level0_col1\" class=\"col_heading level0 col1\" >Age</th>\n",
       "    </tr>\n",
       "  </thead>\n",
       "  <tbody>\n",
       "    <tr>\n",
       "      <th id=\"T_2f52c_level0_row0\" class=\"row_heading level0 row0\" >0</th>\n",
       "      <td id=\"T_2f52c_row0_col0\" class=\"data row0 col0\" >Alice</td>\n",
       "      <td id=\"T_2f52c_row0_col1\" class=\"data row0 col1\" >25</td>\n",
       "    </tr>\n",
       "    <tr>\n",
       "      <th id=\"T_2f52c_level0_row1\" class=\"row_heading level0 row1\" >1</th>\n",
       "      <td id=\"T_2f52c_row1_col0\" class=\"data row1 col0\" >Bob</td>\n",
       "      <td id=\"T_2f52c_row1_col1\" class=\"data row1 col1\" >30</td>\n",
       "    </tr>\n",
       "    <tr>\n",
       "      <th id=\"T_2f52c_level0_row2\" class=\"row_heading level0 row2\" >2</th>\n",
       "      <td id=\"T_2f52c_row2_col0\" class=\"data row2 col0\" >Charlie</td>\n",
       "      <td id=\"T_2f52c_row2_col1\" class=\"data row2 col1\" >35</td>\n",
       "    </tr>\n",
       "    <tr>\n",
       "      <th id=\"T_2f52c_level0_row3\" class=\"row_heading level0 row3\" >3</th>\n",
       "      <td id=\"T_2f52c_row3_col0\" class=\"data row3 col0\" >David</td>\n",
       "      <td id=\"T_2f52c_row3_col1\" class=\"data row3 col1\" >40</td>\n",
       "    </tr>\n",
       "  </tbody>\n",
       "</table>\n"
      ],
      "text/plain": [
       "<pandas.io.formats.style.Styler at 0x1cb3fb64bd0>"
      ]
     },
     "metadata": {},
     "output_type": "display_data"
    }
   ],
   "source": [
    "''' sample '''\n",
    "''' https://docs.kanaries.net/ko/topics/Pandas/pandas-add-column '''\n",
    "data = {\n",
    "    'Name': ['Alice', 'Bob', 'Charlie', 'David'],\n",
    "    'Age': [25, 30, 35, 40]\n",
    "}\n",
    " \n",
    "df = pd.DataFrame(data)\n",
    "# Apply the styling function to the DataFrame\n",
    "df = df.style.apply(highlight_failed_rows, axis=1)\n",
    "# df.head(10)\n",
    "display(df)"
   ]
  },
  {
   "cell_type": "code",
   "execution_count": 162,
   "id": "5b946eff",
   "metadata": {},
   "outputs": [
    {
     "name": "stdout",
     "output_type": "stream",
     "text": [
      "** The number of days remaining until the certificate expires from today's date.**\n"
     ]
    }
   ],
   "source": [
    "print(f\"** The number of days remaining until the certificate expires from today's date.**\")"
   ]
  },
  {
   "cell_type": "code",
   "execution_count": 163,
   "id": "b17b0973",
   "metadata": {},
   "outputs": [],
   "source": [
    "def subtract_dates_yyyymmdd(date_str1, date_str2):\n",
    "    \"\"\"\n",
    "    Calculates the number of days between two dates in YYYYMMDD format.\n",
    "\n",
    "    Args:\n",
    "        date_str1 (str): The first date string in YYYYMMDD format.\n",
    "        date_str2 (str): The second date string in YYYYMMDD format.\n",
    "\n",
    "    Returns:\n",
    "        int: The number of days between the two dates.\n",
    "    \"\"\"\n",
    "    date1 = datetime.strptime(date_str1, \"%Y-%m-%d\")\n",
    "    date2 = datetime.strptime(date_str2, \"%Y-%m-%d\")\n",
    "    \n",
    "    time_difference = date1 - date2\n",
    "    return time_difference.days"
   ]
  },
  {
   "cell_type": "code",
   "execution_count": 164,
   "id": "ae4ac888",
   "metadata": {},
   "outputs": [],
   "source": [
    "# Example usage:\n",
    "date1_str = \"2035-08-09\"\n",
    "# date2_str = \"2023-01-15\"\n",
    "date2_str = date.today().strftime(\"%Y-%m-%d\")\n",
    "days_difference = subtract_dates_yyyymmdd(date1_str, date2_str)"
   ]
  },
  {
   "cell_type": "code",
   "execution_count": 165,
   "id": "b654d2f7",
   "metadata": {},
   "outputs": [],
   "source": [
    "# threshold_days_of_expiration_date = 3650\n",
    "threshold_days_of_expiration_date = 60"
   ]
  },
  {
   "cell_type": "code",
   "execution_count": 166,
   "id": "18ec52fe",
   "metadata": {},
   "outputs": [
    {
     "name": "stdout",
     "output_type": "stream",
     "text": [
      "[Ok] The difference between 2035-08-09 and 2025-10-09 is 3591 days.\n"
     ]
    }
   ],
   "source": [
    "if int(days_difference) < threshold_days_of_expiration_date:\n",
    "    print(f\"[Need to re-generation a ssl certificate] The difference between {date1_str} and {date2_str} is {days_difference} days.\")\n",
    "else:\n",
    "    print(f\"[Ok] The difference between {date1_str} and {date2_str} is {days_difference} days.\")"
   ]
  },
  {
   "cell_type": "code",
   "execution_count": 167,
   "id": "850d4e5e",
   "metadata": {},
   "outputs": [],
   "source": [
    "data = {}\n",
    "expiration_date_list, today_list, diff_days_list,  diff_check_list = [], [], [], []"
   ]
  },
  {
   "cell_type": "code",
   "execution_count": 168,
   "id": "90a9c89f",
   "metadata": {},
   "outputs": [],
   "source": [
    "def get_dataframe_expiration_date(env, service, host, expiration_date_list, today_list, diff_days_list, threshold_expiration_date):\n",
    "    ''' Check the status of the expiration date of certificate '''\n",
    "    # Define a styling function\n",
    "    def highlight_failed_rows(row):\n",
    "        # Apply red background if 'Status' is 'Fail'\n",
    "        if row['diff_days'] < threshold_days_of_expiration_date:\n",
    "            return ['background-color: red; font-weight: bold'] * len(row)\n",
    "        else:\n",
    "            return [''] * len(row)\n",
    "        \n",
    "    diff_check_list = []\n",
    "    for v in diff_days_list:\n",
    "        if int(v) < threshold_expiration_date:\n",
    "            diff_check_list.append('Red')\n",
    "            continue\n",
    "        diff_check_list.append('Green')    \n",
    "            \n",
    "    data.update({\n",
    "        'env' : env,\n",
    "        'service' : service,\n",
    "        'host' : host,\n",
    "        'expiration_date': expiration_date_list,\n",
    "        'today': today_list,\n",
    "        'diff_days': diff_days_list,\n",
    "        'status' : diff_check_list\n",
    "    })\n",
    "     \n",
    "    df = pd.DataFrame(data)\n",
    "    # print(df.head(10))\n",
    "    # Apply the styling function to the DataFrame\n",
    "    styled_df = df.style.apply(highlight_failed_rows, axis=1)\n",
    "    # display(df)\n",
    "    display(styled_df)"
   ]
  },
  {
   "cell_type": "code",
   "execution_count": 169,
   "id": "26c9e60b",
   "metadata": {},
   "outputs": [],
   "source": [
    "# expiration_date_list.append(date1_str)\n",
    "# today_list.append(days_difference)\n",
    "# diff_days_list.append(days_difference)\n",
    "for v in all_env_ssl_df.get(\"ssl_certs_expired_date\"):\n",
    "    # print(v)\n",
    "    expiration_date_list.append(v)\n",
    "    today_list.append(date.today().strftime(\"%Y-%m-%d\"))\n",
    "    diff_days_list.append(subtract_dates_yyyymmdd(v, date.today().strftime(\"%Y-%m-%d\")))"
   ]
  },
  {
   "cell_type": "code",
   "execution_count": 170,
   "id": "caed8d63",
   "metadata": {},
   "outputs": [
    {
     "data": {
      "text/html": [
       "<style type=\"text/css\">\n",
       "</style>\n",
       "<table id=\"T_fc1cb\">\n",
       "  <thead>\n",
       "    <tr>\n",
       "      <th class=\"blank level0\" >&nbsp;</th>\n",
       "      <th id=\"T_fc1cb_level0_col0\" class=\"col_heading level0 col0\" >env</th>\n",
       "      <th id=\"T_fc1cb_level0_col1\" class=\"col_heading level0 col1\" >service</th>\n",
       "      <th id=\"T_fc1cb_level0_col2\" class=\"col_heading level0 col2\" >host</th>\n",
       "      <th id=\"T_fc1cb_level0_col3\" class=\"col_heading level0 col3\" >expiration_date</th>\n",
       "      <th id=\"T_fc1cb_level0_col4\" class=\"col_heading level0 col4\" >today</th>\n",
       "      <th id=\"T_fc1cb_level0_col5\" class=\"col_heading level0 col5\" >diff_days</th>\n",
       "      <th id=\"T_fc1cb_level0_col6\" class=\"col_heading level0 col6\" >status</th>\n",
       "    </tr>\n",
       "  </thead>\n",
       "  <tbody>\n",
       "  </tbody>\n",
       "</table>\n"
      ],
      "text/plain": [
       "<pandas.io.formats.style.Styler at 0x1cb418f2490>"
      ]
     },
     "metadata": {},
     "output_type": "display_data"
    }
   ],
   "source": [
    "''' Test call to get the days of expiration date '''\n",
    "get_dataframe_expiration_date(\n",
    "                              all_env_ssl_df.get(\"env\"),\n",
    "                              all_env_ssl_df.get(\"service\"),\n",
    "                              all_env_ssl_df.get(\"host\"),\n",
    "                              expiration_date_list, \n",
    "                              today_list, \n",
    "                              diff_days_list, \n",
    "                              threshold_days_of_expiration_date)"
   ]
  },
  {
   "cell_type": "code",
   "execution_count": 171,
   "id": "112313bb",
   "metadata": {},
   "outputs": [],
   "source": [
    "# Write DataFrame to CSV File with Default params.\n",
    "# filename = f\"./ssl_certs_all_env_df.csv\"\n",
    "# if not df.empty:\n",
    "#     df.to_csv(f\"{filename}\")\n",
    "#     print(f\"{filename} was created..\")"
   ]
  },
  {
   "cell_type": "code",
   "execution_count": 172,
   "id": "092eef3a",
   "metadata": {},
   "outputs": [
    {
     "data": {
      "text/html": [
       "<pre style=\"background-color: #A52A2A; color: white;\">Job is being performed correctly</pre>"
      ],
      "text/plain": [
       "<IPython.core.display.HTML object>"
      ]
     },
     "execution_count": 172,
     "metadata": {},
     "output_type": "execute_result"
    }
   ],
   "source": [
    "HTML('<pre style=\"background-color: #A52A2A; color: white;\">Job is being performed correctly</pre>')"
   ]
  }
 ],
 "metadata": {
  "kernelspec": {
   "display_name": ".venv",
   "language": "python",
   "name": "python3"
  },
  "language_info": {
   "codemirror_mode": {
    "name": "ipython",
    "version": 3
   },
   "file_extension": ".py",
   "mimetype": "text/x-python",
   "name": "python",
   "nbconvert_exporter": "python",
   "pygments_lexer": "ipython3",
   "version": "3.11.7"
  }
 },
 "nbformat": 4,
 "nbformat_minor": 5
}
