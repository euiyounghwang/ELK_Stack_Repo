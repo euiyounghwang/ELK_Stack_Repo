{
 "cells": [
  {
   "cell_type": "code",
   "execution_count": 125,
   "id": "bc79cc8f-d157-4909-977b-698f2a98f14b",
   "metadata": {},
   "outputs": [
    {
     "name": "stdout",
     "output_type": "stream",
     "text": [
      "To check the SSL certificate expiration date, we will use the OpenSSL library. This package provides a high-level interface to the functions in the OpenSSL library.\n"
     ]
    }
   ],
   "source": [
    "print(f\"To check the SSL certificate expiration date, we will use the OpenSSL library. This package provides a high-level interface to the functions in the OpenSSL library.\")"
   ]
  },
  {
   "cell_type": "code",
   "execution_count": 126,
   "id": "54e9b053-eec1-4e64-8ec1-20518e2bd39c",
   "metadata": {},
   "outputs": [
    {
     "name": "stdout",
     "output_type": "stream",
     "text": [
      "Requirement already satisfied: pyopenssl in c:\\users\\euiyoung.hwang\\git_workspace\\elk_stack_repo\\.venv\\lib\\site-packages (25.0.0)\n",
      "Requirement already satisfied: cryptography<45,>=41.0.5 in c:\\users\\euiyoung.hwang\\git_workspace\\elk_stack_repo\\.venv\\lib\\site-packages (from pyopenssl) (43.0.0)\n",
      "Requirement already satisfied: typing-extensions>=4.9 in c:\\users\\euiyoung.hwang\\git_workspace\\elk_stack_repo\\.venv\\lib\\site-packages (from pyopenssl) (4.12.2)\n",
      "Requirement already satisfied: cffi>=1.12 in c:\\users\\euiyoung.hwang\\git_workspace\\elk_stack_repo\\.venv\\lib\\site-packages (from cryptography<45,>=41.0.5->pyopenssl) (1.16.0)\n",
      "Requirement already satisfied: pycparser in c:\\users\\euiyoung.hwang\\git_workspace\\elk_stack_repo\\.venv\\lib\\site-packages (from cffi>=1.12->cryptography<45,>=41.0.5->pyopenssl) (2.22)\n"
     ]
    }
   ],
   "source": [
    "!pip install pyopenssl"
   ]
  },
  {
   "cell_type": "code",
   "execution_count": 127,
   "id": "04fef487-8aa0-4c36-8681-e2f7e116888e",
   "metadata": {},
   "outputs": [],
   "source": [
    "from datetime import datetime\n",
    "import OpenSSL\n",
    "import ssl\n",
    "import os\n",
    "from dotenv import load_dotenv\n",
    "import warnings\n",
    "warnings.filterwarnings(\"ignore\")"
   ]
  },
  {
   "cell_type": "code",
   "execution_count": 128,
   "id": "0d54f36c-bbc7-4d9b-a460-681a4f977db7",
   "metadata": {},
   "outputs": [
    {
     "data": {
      "text/plain": [
       "True"
      ]
     },
     "execution_count": 128,
     "metadata": {},
     "output_type": "execute_result"
    }
   ],
   "source": [
    "''' pip install python-dotenv'''\n",
    "load_dotenv() # will search for .env file in local folder and load variables"
   ]
  },
  {
   "cell_type": "code",
   "execution_count": 129,
   "id": "be521d21-3375-4c91-b775-2ee1849561c9",
   "metadata": {},
   "outputs": [],
   "source": [
    "source_es_host = \"http://localhost:9201\"\n",
    "# source_es_host = os.getenv('ES_DEV_V8_HOST')"
   ]
  },
  {
   "cell_type": "code",
   "execution_count": 130,
   "id": "fdde0505-b8c8-403f-9fba-ce4204a804b0",
   "metadata": {},
   "outputs": [],
   "source": [
    "source_es_host = source_es_host.replace(\"http://\",\"\").replace(\"https://\",\"\")\n",
    "source_es_hostname = str(source_es_host.split(':')[0])\n",
    "source_es_port = str(source_es_host.split(':')[1])"
   ]
  },
  {
   "cell_type": "code",
   "execution_count": 131,
   "id": "77766d34-4c3c-4b07-8be8-ef2c6ac777f5",
   "metadata": {},
   "outputs": [
    {
     "name": "stdout",
     "output_type": "stream",
     "text": [
      "localhost 9201\n"
     ]
    }
   ],
   "source": [
    "print(source_es_hostname, source_es_port)"
   ]
  },
  {
   "cell_type": "code",
   "execution_count": 132,
   "id": "608d698a-bfee-4f98-8c43-ad6b842d6e11",
   "metadata": {},
   "outputs": [
    {
     "name": "stdout",
     "output_type": "stream",
     "text": [
      "[SSL: WRONG_VERSION_NUMBER] wrong version number (_ssl.c:1006)\n"
     ]
    }
   ],
   "source": [
    "try:\n",
    "    cert=ssl.get_server_certificate((source_es_hostname, source_es_port))\n",
    "    x509 = OpenSSL.crypto.load_certificate(OpenSSL.crypto.FILETYPE_PEM, cert)\n",
    "    bytes=x509.get_notAfter()\n",
    "    print(bytes)\n",
    "    timestamp = bytes.decode('utf-8')\n",
    "    # print (datetime.strptime(timestamp, '%Y%m%d%H%M%S%z').date().isoformat())\n",
    "    print(datetime.strptime(timestamp, '%Y%m%d%H%M%S%z'))\n",
    "    ssl_expire_date = datetime.strptime(timestamp, '%Y%m%d%H%M%S%z')\n",
    "    ssl_expire_date = \"{}-{}-{}\".format(str(ssl_expire_date.year).zfill(2), str(ssl_expire_date.month).zfill(2), str(ssl_expire_date.day).zfill(2))\n",
    "    print(ssl_expire_date)\n",
    "except Exception as e:\n",
    "    print(e)"
   ]
  }
 ],
 "metadata": {
  "kernelspec": {
   "display_name": "Python 3 (ipykernel)",
   "language": "python",
   "name": "python3"
  },
  "language_info": {
   "codemirror_mode": {
    "name": "ipython",
    "version": 3
   },
   "file_extension": ".py",
   "mimetype": "text/x-python",
   "name": "python",
   "nbconvert_exporter": "python",
   "pygments_lexer": "ipython3",
   "version": "3.11.7"
  }
 },
 "nbformat": 4,
 "nbformat_minor": 5
}
