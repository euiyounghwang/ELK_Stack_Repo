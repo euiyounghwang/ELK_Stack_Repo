{
 "cells": [
  {
   "cell_type": "code",
   "execution_count": 100,
   "id": "bc79cc8f-d157-4909-977b-698f2a98f14b",
   "metadata": {},
   "outputs": [
    {
     "name": "stdout",
     "output_type": "stream",
     "text": [
      "To check the SSL certificate expiration date, we will use the OpenSSL library. This package provides a high-level interface to the functions in the OpenSSL library.\n"
     ]
    }
   ],
   "source": [
    "print(f\"To check the SSL certificate expiration date, we will use the OpenSSL library. This package provides a high-level interface to the functions in the OpenSSL library.\")"
   ]
  },
  {
   "cell_type": "code",
   "execution_count": 101,
   "id": "54e9b053-eec1-4e64-8ec1-20518e2bd39c",
   "metadata": {},
   "outputs": [],
   "source": [
    "#!pip install pyopenssl"
   ]
  },
  {
   "cell_type": "code",
   "execution_count": null,
   "id": "04fef487-8aa0-4c36-8681-e2f7e116888e",
   "metadata": {},
   "outputs": [],
   "source": [
    "from datetime import datetime, date\n",
    "import OpenSSL\n",
    "import ssl\n",
    "import os\n",
    "import json\n",
    "from dotenv import load_dotenv\n",
    "import warnings\n",
    "warnings.filterwarnings(\"ignore\")"
   ]
  },
  {
   "cell_type": "code",
   "execution_count": 103,
   "id": "0d54f36c-bbc7-4d9b-a460-681a4f977db7",
   "metadata": {},
   "outputs": [
    {
     "data": {
      "text/plain": [
       "True"
      ]
     },
     "execution_count": 103,
     "metadata": {},
     "output_type": "execute_result"
    }
   ],
   "source": [
    "''' pip install python-dotenv'''\n",
    "load_dotenv() # will search for .env file in local folder and load variables"
   ]
  },
  {
   "cell_type": "code",
   "execution_count": 104,
   "id": "be521d21-3375-4c91-b775-2ee1849561c9",
   "metadata": {},
   "outputs": [],
   "source": [
    "source_es_host = \"http://localhost:9211\"\n",
    "# source_es_host = os.getenv('ES_DEV_V8_HOST')"
   ]
  },
  {
   "cell_type": "code",
   "execution_count": 105,
   "id": "fdde0505-b8c8-403f-9fba-ce4204a804b0",
   "metadata": {},
   "outputs": [],
   "source": [
    "source_es_host = source_es_host.replace(\"http://\",\"\").replace(\"https://\",\"\")\n",
    "source_es_hostname = str(source_es_host.split(':')[0])\n",
    "source_es_port = str(source_es_host.split(':')[1])"
   ]
  },
  {
   "cell_type": "code",
   "execution_count": 106,
   "id": "77766d34-4c3c-4b07-8be8-ef2c6ac777f5",
   "metadata": {},
   "outputs": [
    {
     "name": "stdout",
     "output_type": "stream",
     "text": [
      "localhost 9211\n"
     ]
    }
   ],
   "source": [
    "print(source_es_hostname, source_es_port)"
   ]
  },
  {
   "cell_type": "code",
   "execution_count": 107,
   "id": "41eff969-c6ad-45bd-9674-6403a60837d7",
   "metadata": {},
   "outputs": [],
   "source": [
    "response_dict = {}"
   ]
  },
  {
   "cell_type": "code",
   "execution_count": 108,
   "id": "ab2cac03-d9c5-4849-b6c0-2e6f15e6310a",
   "metadata": {},
   "outputs": [],
   "source": [
    "def get_ssl_certs_hosts(source_es_hostname, source_es_port):\n",
    "    ''' check if the ES cluster has any ssl certs and get the expired date '''\n",
    "    try:\n",
    "        cert=ssl.get_server_certificate((source_es_hostname, source_es_port))\n",
    "        x509 = OpenSSL.crypto.load_certificate(OpenSSL.crypto.FILETYPE_PEM, cert)\n",
    "        bytes=x509.get_notAfter()\n",
    "        # print(bytes)\n",
    "        timestamp = bytes.decode('utf-8')\n",
    "        # print (datetime.strptime(timestamp, '%Y%m%d%H%M%S%z').date().isoformat())\n",
    "        # print(datetime.strptime(timestamp, '%Y%m%d%H%M%S%z'))\n",
    "        ssl_expire_date = datetime.strptime(timestamp, '%Y%m%d%H%M%S%z')\n",
    "        ssl_expire_date = \"{}-{}-{}\".format(str(ssl_expire_date.year).zfill(2), str(ssl_expire_date.month).zfill(2), str(ssl_expire_date.day).zfill(2))\n",
    "    \n",
    "        response_dict.update({\"ssl_certs_expire_date\" : ssl_expire_date})\n",
    "        response_dict.update({\"ssl_certs_expire_yyyymmdd\" : int(ssl_expire_date.replace(\"-\",\"\"))})\n",
    "    except Exception as e:\n",
    "        response_dict.update({\"ssl_certs_expire_date\" : 'no_ssl_certs'})\n",
    "        response_dict.update({\"ssl_certs_expire_yyyymmdd\" : 0})\n",
    "        print(e)\n",
    "    finally:\n",
    "        return response_dict"
   ]
  },
  {
   "cell_type": "code",
   "execution_count": 109,
   "id": "608d698a-bfee-4f98-8c43-ad6b842d6e11",
   "metadata": {},
   "outputs": [
    {
     "name": "stdout",
     "output_type": "stream",
     "text": [
      "[WinError 10061] No connection could be made because the target machine actively refused it\n"
     ]
    }
   ],
   "source": [
    "response_dict = get_ssl_certs_hosts(source_es_hostname, source_es_port)"
   ]
  },
  {
   "cell_type": "code",
   "execution_count": 110,
   "id": "dd3c84d1-9e3a-4769-a2eb-d72b5f3533e6",
   "metadata": {},
   "outputs": [
    {
     "name": "stdout",
     "output_type": "stream",
     "text": [
      "{\n",
      "  \"ssl_certs_expire_date\": \"no_ssl_certs\",\n",
      "  \"ssl_certs_expire_yyyymmdd\": -1\n",
      "}\n"
     ]
    }
   ],
   "source": [
    "print(json.dumps(response_dict, indent=2)) "
   ]
  },
  {
   "cell_type": "code",
   "execution_count": null,
   "id": "5b946eff",
   "metadata": {},
   "outputs": [],
   "source": [
    "print(f\"** The number of days remaining until the certificate expires from today's date.**\")"
   ]
  },
  {
   "cell_type": "code",
   "execution_count": null,
   "id": "b17b0973",
   "metadata": {},
   "outputs": [],
   "source": [
    "def subtract_dates_yyyymmdd(date_str1, date_str2):\n",
    "    \"\"\"\n",
    "    Calculates the number of days between two dates in YYYYMMDD format.\n",
    "\n",
    "    Args:\n",
    "        date_str1 (str): The first date string in YYYYMMDD format.\n",
    "        date_str2 (str): The second date string in YYYYMMDD format.\n",
    "\n",
    "    Returns:\n",
    "        int: The number of days between the two dates.\n",
    "    \"\"\"\n",
    "    date1 = datetime.strptime(date_str1, \"%Y-%m-%d\")\n",
    "    date2 = datetime.strptime(date_str2, \"%Y-%m-%d\")\n",
    "    \n",
    "    time_difference = date1 - date2\n",
    "    return time_difference.days"
   ]
  },
  {
   "cell_type": "code",
   "execution_count": null,
   "id": "ae4ac888",
   "metadata": {},
   "outputs": [],
   "source": [
    "# Example usage:\n",
    "date1_str = \"2035-08-09\"\n",
    "# date2_str = \"2023-01-15\"\n",
    "date2_str = date.today().strftime(\"%Y-%m-%d\")\n",
    "days_difference = subtract_dates_yyyymmdd(date1_str, date2_str)"
   ]
  },
  {
   "cell_type": "code",
   "execution_count": null,
   "id": "b654d2f7",
   "metadata": {},
   "outputs": [],
   "source": [
    "# threshold_days_of_expiration_date = 3650\n",
    "threshold_days_of_expiration_date = 60"
   ]
  },
  {
   "cell_type": "code",
   "execution_count": null,
   "id": "18ec52fe",
   "metadata": {},
   "outputs": [],
   "source": [
    "if int(days_difference) < threshold_days_of_expiration_date:\n",
    "    print(f\"[Need to re-generation a ssl certificate] The difference between {date1_str} and {date2_str} is {days_difference} days.\")\n",
    "else:\n",
    "    print(f\"[Ok] The difference between {date1_str} and {date2_str} is {days_difference} days.\")"
   ]
  }
 ],
 "metadata": {
  "kernelspec": {
   "display_name": "Python 3 (ipykernel)",
   "language": "python",
   "name": "python3"
  },
  "language_info": {
   "codemirror_mode": {
    "name": "ipython",
    "version": 3
   },
   "file_extension": ".py",
   "mimetype": "text/x-python",
   "name": "python",
   "nbconvert_exporter": "python",
   "pygments_lexer": "ipython3",
   "version": "3.11.7"
  }
 },
 "nbformat": 4,
 "nbformat_minor": 5
}
