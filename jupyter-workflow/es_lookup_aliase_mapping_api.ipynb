{
 "cells": [
  {
   "cell_type": "code",
   "execution_count": 16,
   "id": "2c30c52b-8b2c-4b58-be10-afe729ff8fd4",
   "metadata": {},
   "outputs": [
    {
     "name": "stdout",
     "output_type": "stream",
     "text": [
      "Lookup ES Aliase Mapping via REST API\n"
     ]
    }
   ],
   "source": [
    "print(f\"Lookup ES Aliase Mapping via REST API\")"
   ]
  },
  {
   "cell_type": "code",
   "execution_count": 17,
   "id": "41a4a02e-c709-481b-81e9-2f4558aecb87",
   "metadata": {},
   "outputs": [
    {
     "name": "stdout",
     "output_type": "stream",
     "text": [
      "Requirement already satisfied: elasticsearch==7.13.0 in c:\\users\\euiyoung.hwang\\git_workspace\\elk_stack_repo\\.venv\\lib\\site-packages (7.13.0)\n",
      "Requirement already satisfied: urllib3<2,>=1.21.1 in c:\\users\\euiyoung.hwang\\git_workspace\\elk_stack_repo\\.venv\\lib\\site-packages (from elasticsearch==7.13.0) (1.26.18)\n",
      "Requirement already satisfied: certifi in c:\\users\\euiyoung.hwang\\git_workspace\\elk_stack_repo\\.venv\\lib\\site-packages (from elasticsearch==7.13.0) (2024.6.2)\n"
     ]
    }
   ],
   "source": [
    "!pip install elasticsearch==7.13.0"
   ]
  },
  {
   "cell_type": "code",
   "execution_count": 18,
   "id": "9c616de9-bdf7-430a-83f3-aed2cd6c5e17",
   "metadata": {},
   "outputs": [],
   "source": [
    "from elasticsearch import Elasticsearch\n",
    "import os\n",
    "import json\n",
    "import pandas as pd\n",
    "import jsondiff\n",
    "import logging\n",
    "from dotenv import load_dotenv\n",
    "import socket\n",
    "import requests\n",
    "import warnings\n",
    "warnings.filterwarnings(\"ignore\")"
   ]
  },
  {
   "cell_type": "code",
   "execution_count": 19,
   "id": "9e6fa746-73e1-48f3-bf36-657df2768e7c",
   "metadata": {},
   "outputs": [
    {
     "data": {
      "text/plain": [
       "True"
      ]
     },
     "execution_count": 19,
     "metadata": {},
     "output_type": "execute_result"
    }
   ],
   "source": [
    "''' pip install python-dotenv'''\n",
    "load_dotenv() # will search for .env file in local folder and load variables "
   ]
  },
  {
   "cell_type": "code",
   "execution_count": 20,
   "id": "44059a08-ed66-4280-8fb3-e3b14a114d72",
   "metadata": {},
   "outputs": [
    {
     "data": {
      "text/plain": [
       "' This is an API to lookup '"
      ]
     },
     "execution_count": 20,
     "metadata": {},
     "output_type": "execute_result"
    }
   ],
   "source": [
    "''' It can be used to lookup old ES indices which are not mapped to any aliases for all smart suite env's '''\n",
    "''' This is an API to lookup '''"
   ]
  },
  {
   "cell_type": "code",
   "execution_count": 21,
   "id": "56f58ec1-323d-4866-a552-5b9dfe978137",
   "metadata": {},
   "outputs": [
    {
     "data": {
      "text/plain": [
       "' .env '"
      ]
     },
     "execution_count": 21,
     "metadata": {},
     "output_type": "execute_result"
    }
   ],
   "source": [
    "''' .env '''\n",
    "# api_end_point='localhost'\n",
    "# qa_env='QA-01|localhost:9200,QA-02|localhost:9200'\n",
    "# prod_env='PROD-01|localhost:9200,PROD-02|localhost:9200'"
   ]
  },
  {
   "cell_type": "code",
   "execution_count": 22,
   "id": "4c633dbc-4c3e-4f98-aae1-4f82928d2d9d",
   "metadata": {},
   "outputs": [],
   "source": [
    "api_endpoint = os.getenv('api_end_point')"
   ]
  },
  {
   "cell_type": "code",
   "execution_count": 23,
   "id": "ffd278e9-67ef-4328-857c-fd1cbba38433",
   "metadata": {},
   "outputs": [],
   "source": [
    "source_dict = {\n",
    "    'local' : os.getenv('local_env'),\n",
    "    'qa' : os.getenv('qa_env'),\n",
    "    'prod' : os.getenv('prod_env'),\n",
    "}"
   ]
  },
  {
   "cell_type": "code",
   "execution_count": 24,
   "id": "e847ee71-b9b7-4feb-bcd9-dff206d225e6",
   "metadata": {},
   "outputs": [],
   "source": [
    "env = 'local'\n",
    "# env = 'qa'\n",
    "# env = 'prod'"
   ]
  },
  {
   "cell_type": "code",
   "execution_count": 25,
   "id": "593b6f60-c34e-406b-afb2-3f21010d39c0",
   "metadata": {},
   "outputs": [],
   "source": [
    "host_lists_value = source_dict.get(env).split(\",\")\n",
    "env_host_url = []\n",
    "env_host_name = {}\n",
    "for element in host_lists_value:\n",
    "    env_name = element.split('|')[0]\n",
    "    env_host_url_str = element.split('|')[1]\n",
    "    env_host_url.append(env_host_url_str)\n",
    "    env_host_name.update({env_host_url_str : env_name})"
   ]
  },
  {
   "cell_type": "code",
   "execution_count": 26,
   "id": "ced80cf2-a92c-492d-b79e-0386f33f2653",
   "metadata": {},
   "outputs": [
    {
     "name": "stdout",
     "output_type": "stream",
     "text": [
      "['localhost:9201']\n",
      "{'localhost:9201': 'local-01'}\n"
     ]
    }
   ],
   "source": [
    "print(env_host_url)\n",
    "print(env_host_name)"
   ]
  },
  {
   "cell_type": "code",
   "execution_count": 27,
   "id": "b3f07115-7514-454e-b771-8f31928b38ca",
   "metadata": {},
   "outputs": [],
   "source": [
    "def get_request_api(host_lists):\n",
    "    envs_name, envs, indices, docs, size = [], [], [], [], []\n",
    "    try:\n",
    "        for host in host_lists:\n",
    "            print(f\"env name : {env_host_name.get(host)}, host name : {host}\")\n",
    "            resp = requests.get(\n",
    "                url='http://{}:8001/index/lookup_index_not_mapped_to_aliase?source_cluster=http://{}'.format(api_endpoint, host),\n",
    "                timeout=5\n",
    "            )\n",
    "    \n",
    "            if resp.status_code != 200:\n",
    "                print(resp)\n",
    "                return\n",
    "\n",
    "            ''' request sucessfully '''\n",
    "            # print(resp.json())\n",
    "\n",
    "            for idx in list(resp.json()['unmapped_aliase'].keys()):\n",
    "                envs_name.append(env_host_name.get(host))\n",
    "                envs.append(host)\n",
    "                indices.append(idx)\n",
    "                docs.append(resp.json().get('unmapped_aliase').get(idx).get(\"doc_count\"))\n",
    "                size.append(resp.json().get('unmapped_aliase').get(idx).get(\"store.size\"))\n",
    "\n",
    "        df_unmapped_dict = {\n",
    "            \"environment\" : envs_name,\n",
    "            \"host\" : envs,\n",
    "            \"unmapped_index_name\" : indices,\n",
    "            \"the number of docs\" : docs,\n",
    "            \"store.size\" : size\n",
    "        }\n",
    "\n",
    "        return df_unmapped_dict\n",
    "            \n",
    "    except Exception as e:\n",
    "        print(e)"
   ]
  },
  {
   "cell_type": "code",
   "execution_count": 28,
   "id": "273d81e2-da4b-4733-bc40-fe0d012c9c7d",
   "metadata": {},
   "outputs": [
    {
     "name": "stdout",
     "output_type": "stream",
     "text": [
      "env name : local-01, host name : localhost:9201\n",
      "HTTPConnectionPool(host='localhost', port=8001): Max retries exceeded with url: /index/lookup_index_not_mapped_to_aliase?source_cluster=http://localhost:9201 (Caused by NewConnectionError('<urllib3.connection.HTTPConnection object at 0x00000246482A3AD0>: Failed to establish a new connection: [WinError 10061] No connection could be made because the target machine actively refused it'))\n"
     ]
    }
   ],
   "source": [
    "df_unmapped_dict = get_request_api(env_host_url)"
   ]
  },
  {
   "cell_type": "code",
   "execution_count": 29,
   "id": "40a163fd-ede4-4ed4-ab51-e38544d15d0e",
   "metadata": {},
   "outputs": [
    {
     "data": {
      "text/html": [
       "<div>\n",
       "<style scoped>\n",
       "    .dataframe tbody tr th:only-of-type {\n",
       "        vertical-align: middle;\n",
       "    }\n",
       "\n",
       "    .dataframe tbody tr th {\n",
       "        vertical-align: top;\n",
       "    }\n",
       "\n",
       "    .dataframe thead th {\n",
       "        text-align: right;\n",
       "    }\n",
       "</style>\n",
       "<table border=\"1\" class=\"dataframe\">\n",
       "  <thead>\n",
       "    <tr style=\"text-align: right;\">\n",
       "      <th></th>\n",
       "    </tr>\n",
       "  </thead>\n",
       "  <tbody>\n",
       "  </tbody>\n",
       "</table>\n",
       "</div>"
      ],
      "text/plain": [
       "Empty DataFrame\n",
       "Columns: []\n",
       "Index: []"
      ]
     },
     "metadata": {},
     "output_type": "display_data"
    }
   ],
   "source": [
    "df = pd.DataFrame.from_dict(df_unmapped_dict)\n",
    "# df.head(10)\n",
    "display(df)"
   ]
  },
  {
   "cell_type": "code",
   "execution_count": 30,
   "id": "f956471a-9eae-43d8-8fb3-fbf8f5cdeb90",
   "metadata": {},
   "outputs": [],
   "source": [
    "# Write DataFrame to CSV File with Default params.\n",
    "df.to_csv(f\"./[{env}]_df_unmapped_indices_all_envs.csv\")"
   ]
  }
 ],
 "metadata": {
  "kernelspec": {
   "display_name": "Python 3 (ipykernel)",
   "language": "python",
   "name": "python3"
  },
  "language_info": {
   "codemirror_mode": {
    "name": "ipython",
    "version": 3
   },
   "file_extension": ".py",
   "mimetype": "text/x-python",
   "name": "python",
   "nbconvert_exporter": "python",
   "pygments_lexer": "ipython3",
   "version": "3.11.7"
  }
 },
 "nbformat": 4,
 "nbformat_minor": 5
}
