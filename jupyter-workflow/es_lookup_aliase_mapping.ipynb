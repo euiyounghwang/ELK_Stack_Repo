{
 "cells": [
  {
   "cell_type": "code",
   "execution_count": 27,
   "id": "f965327c-45f7-4bd2-af24-e3329cd4354b",
   "metadata": {},
   "outputs": [
    {
     "name": "stdout",
     "output_type": "stream",
     "text": [
      "Lookup ES Aliase Mapping\n"
     ]
    }
   ],
   "source": [
    "print(f\"Lookup ES Aliase Mapping\")"
   ]
  },
  {
   "cell_type": "code",
   "execution_count": 28,
   "id": "159fd558-30b7-4e19-b61d-644a8bc44e09",
   "metadata": {},
   "outputs": [
    {
     "name": "stdout",
     "output_type": "stream",
     "text": [
      "Requirement already satisfied: elasticsearch==7.13.0 in c:\\users\\euiyoung.hwang\\git_workspace\\elk_stack_upgrade\\.venv\\lib\\site-packages (7.13.0)\n",
      "Requirement already satisfied: urllib3<2,>=1.21.1 in c:\\users\\euiyoung.hwang\\git_workspace\\elk_stack_upgrade\\.venv\\lib\\site-packages (from elasticsearch==7.13.0) (1.26.18)\n",
      "Requirement already satisfied: certifi in c:\\users\\euiyoung.hwang\\git_workspace\\elk_stack_upgrade\\.venv\\lib\\site-packages (from elasticsearch==7.13.0) (2024.6.2)\n"
     ]
    }
   ],
   "source": [
    "!pip install elasticsearch==7.13.0"
   ]
  },
  {
   "cell_type": "code",
   "execution_count": 29,
   "id": "bbf37a0c-9372-426c-b2f3-e53bf4c5ec51",
   "metadata": {},
   "outputs": [],
   "source": [
    "from elasticsearch import Elasticsearch\n",
    "import os\n",
    "import json\n",
    "import pandas as pd\n",
    "import jsondiff\n",
    "import logging\n",
    "from dotenv import load_dotenv\n",
    "import socket\n",
    "import requests\n",
    "import warnings\n",
    "warnings.filterwarnings(\"ignore\")"
   ]
  },
  {
   "cell_type": "code",
   "execution_count": 30,
   "id": "30b5093e-daf2-4966-b2c1-d929b0f91f5e",
   "metadata": {},
   "outputs": [
    {
     "data": {
      "text/plain": [
       "True"
      ]
     },
     "execution_count": 30,
     "metadata": {},
     "output_type": "execute_result"
    }
   ],
   "source": [
    "''' pip install python-dotenv'''\n",
    "load_dotenv() # will search for .env file in local folder and load variables "
   ]
  },
  {
   "cell_type": "code",
   "execution_count": 31,
   "id": "73c74263-cc88-46d0-969a-402c4fb95373",
   "metadata": {},
   "outputs": [],
   "source": [
    "def get_headers():\n",
    "    ''' Elasticsearch Header '''\n",
    "    return {\n",
    "            'Content-type': 'application/json', \n",
    "            'Authorization' : '{}'.format(os.getenv('BASIC_AUTH')),\n",
    "            # 'Connection': 'close'\n",
    "    }"
   ]
  },
  {
   "cell_type": "code",
   "execution_count": 32,
   "id": "93de4280-14d2-4f98-8e81-39140f71ca16",
   "metadata": {},
   "outputs": [],
   "source": [
    "source_es_host = \"http://localhost:9201\""
   ]
  },
  {
   "cell_type": "code",
   "execution_count": 33,
   "id": "6c4411ad-8836-447f-ad5f-455bb811e415",
   "metadata": {},
   "outputs": [
    {
     "name": "stdout",
     "output_type": "stream",
     "text": [
      "1740178625 22:57:05 docker-cluster yellow 1 1 117 117 0 0 117 0 - 50.0%\n",
      "\n",
      "{\n",
      "  \"cluster_name\": \"docker-cluster\",\n",
      "  \"status\": \"yellow\",\n",
      "  \"timed_out\": false,\n",
      "  \"number_of_nodes\": 1,\n",
      "  \"number_of_data_nodes\": 1,\n",
      "  \"active_primary_shards\": 117,\n",
      "  \"active_shards\": 117,\n",
      "  \"relocating_shards\": 0,\n",
      "  \"initializing_shards\": 0,\n",
      "  \"unassigned_shards\": 117,\n",
      "  \"delayed_unassigned_shards\": 0,\n",
      "  \"number_of_pending_tasks\": 0,\n",
      "  \"number_of_in_flight_fetch\": 0,\n",
      "  \"task_max_waiting_in_queue_millis\": 0,\n",
      "  \"active_shards_percent_as_number\": 50.0\n",
      "}\n"
     ]
    }
   ],
   "source": [
    "es_client = Elasticsearch(hosts=\"{}\".format(source_es_host), headers=get_headers(), timeout=5,  verify_certs=False)\n",
    "print(es_client.cat.health())\n",
    "# print(json.dumps(es_client.cat.indices(params={\"format\": \"json\"}), indent=2))\n",
    "print(json.dumps(es_client.cluster.health(), indent=2))"
   ]
  },
  {
   "cell_type": "code",
   "execution_count": 34,
   "id": "f043dbde-8dfb-45e2-b460-51394eb97114",
   "metadata": {},
   "outputs": [],
   "source": [
    "def indices_size_list_to_dict(idx):\n",
    "    ''' transform list to simple dict '''\n",
    "    ''' \n",
    "     {\n",
    "        \"health\": \"green\",\n",
    "        \"status\": \"open\",\n",
    "        \"index\": \"demo1\",\n",
    "        \"uuid\": \"doRs5jU-SJm4ZRIqTV2duQ\",\n",
    "        \"pri\": \"5\",\n",
    "        \"rep\": \"1\",\n",
    "        \"docs.count\": \"1\",\n",
    "        \"docs.deleted\": \"0\",\n",
    "        \"store.size\": \"8.9kb\",\n",
    "        \"pri.store.size\": \"4.4kb\"\n",
    "      },\n",
    "  '''\n",
    "    indices_size_dict = {element.get(\"index\") : element.get(\"store.size\") for element in idx}\n",
    "    return indices_size_dict"
   ]
  },
  {
   "cell_type": "code",
   "execution_count": 35,
   "id": "0be92adb-60f6-40e7-8fdf-032d8147f0e0",
   "metadata": {},
   "outputs": [],
   "source": [
    "indices_size_list = es_client.cat.indices(params={\"format\": \"json\"})\n",
    "indices_size_dict = indices_size_list_to_dict(indices_size_list)"
   ]
  },
  {
   "cell_type": "code",
   "execution_count": 36,
   "id": "31d37e73-8120-4262-82b4-1c6e5e27ee72",
   "metadata": {},
   "outputs": [],
   "source": [
    "# print(json.dumps(indices_size_dict, indent=2))"
   ]
  },
  {
   "cell_type": "code",
   "execution_count": 37,
   "id": "911e0073-ba50-444f-9832-48273b69dbb8",
   "metadata": {},
   "outputs": [],
   "source": [
    "import warnings\n",
    "import pytest\n",
    "warnings.filterwarnings('ignore')"
   ]
  },
  {
   "cell_type": "code",
   "execution_count": 38,
   "id": "8c2b2932-3e1d-4631-b418-70fd36700059",
   "metadata": {},
   "outputs": [],
   "source": [
    "from datetime import datetime"
   ]
  },
  {
   "cell_type": "code",
   "execution_count": 39,
   "id": "6d44e9e0-11c0-4206-8fa4-213d4a5cf49c",
   "metadata": {},
   "outputs": [
    {
     "name": "stdout",
     "output_type": "stream",
     "text": [
      "\"updated\"\n",
      "{'author': 'kimchy', 'text': 'Elasticsearch: cool. bonsai cool.', 'timestamp': '2025-02-21T16:57:05.355530'}\n"
     ]
    },
    {
     "data": {
      "text/plain": [
       "{'_shards': {'total': 10, 'successful': 5, 'failed': 0}}"
      ]
     },
     "execution_count": 39,
     "metadata": {},
     "output_type": "execute_result"
    }
   ],
   "source": [
    "''' https://elasticsearch-py.readthedocs.io/en/5.5.1/ '''\n",
    "doc = {\n",
    "    \"author\": \"kimchy\",\n",
    "    \"text\": \"Elasticsearch: cool. bonsai cool.\",\n",
    "    \"timestamp\": datetime.now(),\n",
    "}\n",
    "# resp = es_client.index(index=\"test-index\", id=1, body=doc)\n",
    "resp = es_client.index(index=\"test-index\", id=1, doc_type=\"test\", body=doc)\n",
    "print(json.dumps(resp[\"result\"], indent=2))\n",
    "\n",
    "''' http://localhost:9202/test-index/_doc/1 '''\n",
    "resp = es_client.get(index=\"test-index\", id=1, doc_type=\"test\")\n",
    "print(resp[\"_source\"])\n",
    "\n",
    "es_client.indices.refresh(index=\"test-index\")"
   ]
  },
  {
   "cell_type": "code",
   "execution_count": 40,
   "id": "3ba6e3b7-6fa4-4da5-9d93-74067d8088c0",
   "metadata": {},
   "outputs": [],
   "source": [
    "#!pip install ipytest"
   ]
  },
  {
   "cell_type": "code",
   "execution_count": 41,
   "id": "cecd9cf5-9765-4003-b42e-8a354737fa71",
   "metadata": {},
   "outputs": [],
   "source": [
    "def get_es_api_alias(es_client):\n",
    "    ''' get all alias and set to dict'''\n",
    "    ''' https://localhost:9201/_cat/aliases?format=json '''\n",
    "    get_alias_old_cluster = es_client.indices.get_alias()\n",
    "    # print(f\"Get alias from old cluster : {json.dumps(get_alias_old_cluster, indent=2)}\")\n",
    "\n",
    "    reset_alias_dict = {}\n",
    "    for k in get_alias_old_cluster.keys():\n",
    "        if get_alias_old_cluster.get(k).get('aliases'):\n",
    "            each_alias = list(get_alias_old_cluster.get(k).get('aliases').keys())\n",
    "            # print(each_alias)\n",
    "            reset_alias_dict.update({k : each_alias})\n",
    "    # print(json.dumps(reset_alias_dict, indent=2))\n",
    "    # print(f\"get_es_api_alias : {reset_alias_dict}\")\n",
    "\n",
    "    return reset_alias_dict"
   ]
  },
  {
   "cell_type": "code",
   "execution_count": 42,
   "id": "d2247688-0979-4882-afbc-336ce09fd530",
   "metadata": {},
   "outputs": [],
   "source": [
    "def lookup_old_indices_not_mapped_aliase(es_client):\n",
    "    ''' Lookup old indices which are not mapped to any aliases excluding indices starting with logstash*, es_*, archieve_* or .'''\n",
    "    source_idx_lists = list(es_client.indices.get(\"*\"))\n",
    "    # print(f\"ssource_idx_lists : {source_idx_lists}\")\n",
    "\n",
    "    es_aliases_dict = get_es_api_alias(es_client)\n",
    "    # print(f\"es_aliases_dict : {json.dumps(es_aliases_dict, indent=2)}\")\n",
    "    print(f\"len(es_aliases_dict for the mapped ES indices) : {len(es_aliases_dict)}\")\n",
    "\n",
    "    # mapped_aliase_list = [\",\".join(v) for k, v in es_aliases_dict.items() if isinstance(v, (list, str))]\n",
    "    mapped_aliase_list = [k for k, v in es_aliases_dict.items()]\n",
    "    # print(json.dumps(mapped_aliase_list, indent=2))\n",
    "\n",
    "    ''' Lookup old indices which are not mapped to any aliases excluding indices starting with logstash*, es_*, archieve_* or .'''\n",
    "    unmapped_index_aliase = [\n",
    "                            index_name for index_name in source_idx_lists \n",
    "                             if index_name not in mapped_aliase_list \n",
    "                             and not index_name.startswith(\".\") \n",
    "                             and not index_name.startswith(\"logstash\")\n",
    "                             and not index_name.startswith(\"es_\")\n",
    "                             and not index_name.startswith(\"archive_\")\n",
    "                            ]\n",
    "    # print(json.dumps(unmapped_index_aliase, indent=2))\n",
    "\n",
    "    query = {\n",
    "        # \"_source\": False,\n",
    "\t    'query': {\n",
    "    \t    'match_all': {}\n",
    "        }\n",
    "    }\n",
    "    ''' Get total count for the unmapped index '''\n",
    "    api_response = {}\n",
    "    unmapped_index = {}\n",
    "    api_response.update({\"source_es_cluster\" : str(es_client)})\n",
    "    for index_name in unmapped_index_aliase:\n",
    "        # print(index_name)\n",
    "        es_count_source = es_client.count(index=index_name, body=query)[\"count\"]\n",
    "        unmapped_index.update({index_name : {'doc_count' : es_count_source, \"store.size\" : indices_size_dict.get(index_name)}})\n",
    "    api_response.update({'unmapped_aliase' : unmapped_index})\n",
    "                \n",
    "    return api_response"
   ]
  },
  {
   "cell_type": "code",
   "execution_count": 43,
   "id": "9facf0b9-64d2-4e9e-9ff5-5bc574d39dd3",
   "metadata": {},
   "outputs": [
    {
     "name": "stdout",
     "output_type": "stream",
     "text": [
      "len(es_aliases_dict for the mapped ES indices) : 1\n"
     ]
    }
   ],
   "source": [
    "api_response = lookup_old_indices_not_mapped_aliase(es_client)"
   ]
  },
  {
   "cell_type": "code",
   "execution_count": 44,
   "id": "8522b9f0-8b14-4126-a6db-e0f6802aeeab",
   "metadata": {},
   "outputs": [
    {
     "name": "stdout",
     "output_type": "stream",
     "text": [
      "{\n",
      "  \"source_es_cluster\": \"<Elasticsearch([{'host': 'localhost', 'port': 9201}])>\",\n",
      "  \"unmapped_aliase\": {\n",
      "    \"my-index-01\": {\n",
      "      \"doc_count\": 1,\n",
      "      \"store.size\": \"4.2kb\"\n",
      "    },\n",
      "    \"test-index\": {\n",
      "      \"doc_count\": 1,\n",
      "      \"store.size\": \"5.3kb\"\n",
      "    },\n",
      "    \"test-index1\": {\n",
      "      \"doc_count\": 0,\n",
      "      \"store.size\": \"955b\"\n",
      "    }\n",
      "  }\n",
      "}\n"
     ]
    }
   ],
   "source": [
    "print(json.dumps(api_response, indent=2))"
   ]
  },
  {
   "cell_type": "code",
   "execution_count": 45,
   "id": "93b70bce-883a-4e91-bd40-5223a1e1387d",
   "metadata": {},
   "outputs": [],
   "source": [
    "docs, size = [], []\n",
    "for idx in list(api_response['unmapped_aliase'].keys()):\n",
    "    docs.append(api_response.get('unmapped_aliase').get(idx).get(\"doc_count\"))\n",
    "    size.append(api_response.get('unmapped_aliase').get(idx).get(\"store.size\"))\n",
    "    "
   ]
  },
  {
   "cell_type": "code",
   "execution_count": 46,
   "id": "684b6a37-579a-42ae-888e-708816bf7ede",
   "metadata": {},
   "outputs": [],
   "source": [
    "df_unmapped_dict = {\n",
    "        \"environment\" : es_client,\n",
    "        \"unmapped_index_name\" : list(api_response['unmapped_aliase'].keys()),\n",
    "        \"the number of docs\" : docs,\n",
    "        \"store.size\" : size\n",
    "    }"
   ]
  },
  {
   "cell_type": "code",
   "execution_count": 47,
   "id": "951cf1e8-96bc-45b8-a4f8-815bab0c3d44",
   "metadata": {},
   "outputs": [
    {
     "data": {
      "text/html": [
       "<div>\n",
       "<style scoped>\n",
       "    .dataframe tbody tr th:only-of-type {\n",
       "        vertical-align: middle;\n",
       "    }\n",
       "\n",
       "    .dataframe tbody tr th {\n",
       "        vertical-align: top;\n",
       "    }\n",
       "\n",
       "    .dataframe thead th {\n",
       "        text-align: right;\n",
       "    }\n",
       "</style>\n",
       "<table border=\"1\" class=\"dataframe\">\n",
       "  <thead>\n",
       "    <tr style=\"text-align: right;\">\n",
       "      <th></th>\n",
       "      <th>environment</th>\n",
       "      <th>unmapped_index_name</th>\n",
       "      <th>the number of docs</th>\n",
       "      <th>store.size</th>\n",
       "    </tr>\n",
       "  </thead>\n",
       "  <tbody>\n",
       "    <tr>\n",
       "      <th>0</th>\n",
       "      <td>&lt;Elasticsearch([{'host': 'localhost', 'port': ...</td>\n",
       "      <td>my-index-01</td>\n",
       "      <td>1</td>\n",
       "      <td>4.2kb</td>\n",
       "    </tr>\n",
       "    <tr>\n",
       "      <th>1</th>\n",
       "      <td>&lt;Elasticsearch([{'host': 'localhost', 'port': ...</td>\n",
       "      <td>test-index</td>\n",
       "      <td>1</td>\n",
       "      <td>5.3kb</td>\n",
       "    </tr>\n",
       "    <tr>\n",
       "      <th>2</th>\n",
       "      <td>&lt;Elasticsearch([{'host': 'localhost', 'port': ...</td>\n",
       "      <td>test-index1</td>\n",
       "      <td>0</td>\n",
       "      <td>955b</td>\n",
       "    </tr>\n",
       "  </tbody>\n",
       "</table>\n",
       "</div>"
      ],
      "text/plain": [
       "                                         environment unmapped_index_name  \\\n",
       "0  <Elasticsearch([{'host': 'localhost', 'port': ...         my-index-01   \n",
       "1  <Elasticsearch([{'host': 'localhost', 'port': ...          test-index   \n",
       "2  <Elasticsearch([{'host': 'localhost', 'port': ...         test-index1   \n",
       "\n",
       "   the number of docs store.size  \n",
       "0                   1      4.2kb  \n",
       "1                   1      5.3kb  \n",
       "2                   0       955b  "
      ]
     },
     "metadata": {},
     "output_type": "display_data"
    }
   ],
   "source": [
    "df = pd.DataFrame.from_dict(df_unmapped_dict)\n",
    "# df.head(10)\n",
    "display(df)"
   ]
  },
  {
   "cell_type": "code",
   "execution_count": 48,
   "id": "a42b6523-aa8d-4127-b84e-fd99ef04a887",
   "metadata": {},
   "outputs": [],
   "source": [
    "# *** Validate the total count of each index between source/dest ES cluster **** \n",
    "# import pytest\n",
    "import ipytest"
   ]
  },
  {
   "cell_type": "code",
   "execution_count": 49,
   "id": "ade17e3f-30bc-4575-90c9-8b18a0cce963",
   "metadata": {},
   "outputs": [],
   "source": [
    "''' ******* Test code ********* '''\n",
    "@pytest.mark.skip(reason=\"no way of currently testing this\")\n",
    "def test_pytest_skip_func():\n",
    "    assert 42 == 42"
   ]
  },
  {
   "cell_type": "code",
   "execution_count": 50,
   "id": "c16533a9-142e-483a-83eb-96e7c0271f74",
   "metadata": {},
   "outputs": [],
   "source": [
    "def test_pytest_func():\n",
    "    assert 42 == 42"
   ]
  },
  {
   "cell_type": "code",
   "execution_count": 51,
   "id": "044934b0-ea90-49c4-b711-e5a982bfe63f",
   "metadata": {},
   "outputs": [],
   "source": [
    "def test_index_analyze():\n",
    "    response = es_client.indices.analyze(index=\"test-index\", body={\n",
    "            \"analyzer\": \"standard\",\n",
    "            \"text\": \"The quick\",\n",
    "        })\n",
    "    assert response == {\n",
    "      \"tokens\": [\n",
    "        {\n",
    "          \"token\": \"the\",\n",
    "          \"start_offset\": 0,\n",
    "          \"end_offset\": 3,\n",
    "          \"type\": \"<ALPHANUM>\",\n",
    "          \"position\": 0\n",
    "        },\n",
    "        {\n",
    "          \"token\": \"quick\",\n",
    "          \"start_offset\": 4,\n",
    "          \"end_offset\": 9,\n",
    "          \"type\": \"<ALPHANUM>\",\n",
    "          \"position\": 1\n",
    "        }\n",
    "      ]\n",
    "    }"
   ]
  },
  {
   "cell_type": "code",
   "execution_count": 52,
   "id": "b8b3e97e-aca8-46f4-b79f-879ba276b197",
   "metadata": {},
   "outputs": [
    {
     "name": "stdout",
     "output_type": "stream",
     "text": [
      "\u001b[1m======================================= test session starts =======================================\u001b[0m\n",
      "platform win32 -- Python 3.11.7, pytest-8.2.2, pluggy-1.5.0 -- C:\\Users\\euiyoung.hwang\\Git_Workspace\\ELK_Stack_Upgrade\\.venv\\Scripts\\python.exe\n",
      "cachedir: .pytest_cache\n",
      "rootdir: C:\\Users\\euiyoung.hwang\\Git_Workspace\\ELK_Stack_Upgrade\n",
      "configfile: pyproject.toml\n",
      "plugins: anyio-4.8.0, cov-6.0.0\n",
      "collected 3 items. \u001b[0m\n",
      "\n",
      "\u001b[33mSKIPPED\u001b[0m\u001b[32m [ 33%]\u001b[0m2b.py::test_pytest_skip_func <- ..\\..\\AppData\\Local\\Temp\\ipykernel_11208\\1954050930.py \n",
      "\u001b[32mPASSED\u001b[0m\u001b[32m [ 66%]\u001b[0m62b.py::test_pytest_func <- ..\\..\\AppData\\Local\\Temp\\ipykernel_11208\\2292377223.py \n",
      "\u001b[32mPASSED\u001b[0m\u001b[32m [100%]\u001b[0m62b.py::test_index_analyze <- ..\\..\\AppData\\Local\\Temp\\ipykernel_11208\\3522919548.py \n",
      "\n",
      "\u001b[33m======================================== warnings summary =========================================\u001b[0m\n",
      "jupyter-workflow/t_7b67379c9f0d4d179577b45b45c3262b.py::test_index_analyze\n",
      "  C:\\Users\\euiyoung.hwang\\Git_Workspace\\ELK_Stack_Upgrade\\.venv\\Lib\\site-packages\\elasticsearch\\connection\\http_urllib3.py:281: DeprecationWarning: HTTPResponse.getheaders() is deprecated and will be removed in urllib3 v2.1.0. Instead access HTTPResponse.headers directly.\n",
      "    return response.status, response.getheaders(), raw_data\n",
      "\n",
      "-- Docs: https://docs.pytest.org/en/stable/how-to/capture-warnings.html\n",
      "\u001b[33m============================= \u001b[32m2 passed\u001b[0m, \u001b[33m\u001b[1m1 skipped\u001b[0m, \u001b[33m\u001b[1m1 warning\u001b[0m\u001b[33m in 0.03s\u001b[0m\u001b[33m =============================\u001b[0m\n"
     ]
    },
    {
     "data": {
      "text/plain": [
       "<ExitCode.OK: 0>"
      ]
     },
     "execution_count": 52,
     "metadata": {},
     "output_type": "execute_result"
    }
   ],
   "source": [
    "''' Execute the tests using ipytest.run(). You can pass command-line arguments to control test behavior: '''\n",
    "''' The pytest framework makes it easy to write small, readable tests, and can scale to support complex functional testing for applications and libraries. '''\n",
    "ipytest.run('-vv')"
   ]
  }
 ],
 "metadata": {
  "kernelspec": {
   "display_name": "Python 3 (ipykernel)",
   "language": "python",
   "name": "python3"
  },
  "language_info": {
   "codemirror_mode": {
    "name": "ipython",
    "version": 3
   },
   "file_extension": ".py",
   "mimetype": "text/x-python",
   "name": "python",
   "nbconvert_exporter": "python",
   "pygments_lexer": "ipython3",
   "version": "3.11.7"
  }
 },
 "nbformat": 4,
 "nbformat_minor": 5
}
