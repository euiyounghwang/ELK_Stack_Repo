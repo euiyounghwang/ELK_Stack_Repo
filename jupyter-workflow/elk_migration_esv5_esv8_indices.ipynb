{
 "cells": [
  {
   "cell_type": "code",
   "execution_count": 681,
   "id": "e0f0134a-713d-4362-988c-2120ed273113",
   "metadata": {},
   "outputs": [
    {
     "name": "stdout",
     "output_type": "stream",
     "text": [
      "ELK Upgrade Index Migration Logic -> Create ES indices with the custom mappings based on ES v.8\n"
     ]
    }
   ],
   "source": [
    "print(f\"ELK Upgrade Index Migration Logic -> Create ES indices with the custom mappings based on ES v.8\")"
   ]
  },
  {
   "cell_type": "code",
   "execution_count": 682,
   "id": "e0934669-32ce-469b-a638-7f7d17d79c1e",
   "metadata": {},
   "outputs": [],
   "source": [
    "from elasticsearch import Elasticsearch\n",
    "import os\n",
    "import json\n",
    "import pandas as pd\n",
    "from dotenv import load_dotenv\n",
    "import warnings\n",
    "warnings.filterwarnings(\"ignore\")"
   ]
  },
  {
   "cell_type": "code",
   "execution_count": 683,
   "id": "6d5de261-1c7e-4291-8f96-f3c42c89cfd1",
   "metadata": {},
   "outputs": [
    {
     "data": {
      "text/plain": [
       "True"
      ]
     },
     "execution_count": 683,
     "metadata": {},
     "output_type": "execute_result"
    }
   ],
   "source": [
    "''' pip install python-dotenv'''\n",
    "load_dotenv() # will search for .env file in local folder and load variables "
   ]
  },
  {
   "cell_type": "code",
   "execution_count": 684,
   "id": "ecbb0bb8-2a65-42db-ab73-d793619006e1",
   "metadata": {},
   "outputs": [],
   "source": [
    "def get_headers():\n",
    "    ''' Elasticsearch Header '''\n",
    "    return {\n",
    "            'Content-type': 'application/json', \n",
    "            'Authorization' : '{}'.format(os.getenv('BASIC_AUTH')),\n",
    "            # 'Connection': 'close'\n",
    "    }"
   ]
  },
  {
   "cell_type": "code",
   "execution_count": 685,
   "id": "86ad1782-0c73-4b01-ba56-0d872f459132",
   "metadata": {},
   "outputs": [],
   "source": [
    "source_es_host = \"http://localhost:9201\"\n",
    "target_es_host = \"http://localhost:9202\""
   ]
  },
  {
   "cell_type": "code",
   "execution_count": 686,
   "id": "689d4a38-7329-4d83-85e7-d2c9e82749ee",
   "metadata": {},
   "outputs": [],
   "source": [
    "def get_es_instance(host):\n",
    "    es_client = Elasticsearch(hosts=\"{}\".format(host), headers=get_headers(), timeout=5,  verify_certs=False)\n",
    "    return es_client\n",
    "\n",
    "''' Source cluster '''\n",
    "es_obj_s_client = get_es_instance(source_es_host)\n",
    "''' Target cluster '''\n",
    "es_obj_t_client = get_es_instance(target_es_host)"
   ]
  },
  {
   "cell_type": "code",
   "execution_count": 687,
   "id": "0e062e9b-2f02-406a-bb7e-857175813dd3",
   "metadata": {},
   "outputs": [
    {
     "name": "stdout",
     "output_type": "stream",
     "text": [
      "{\n",
      "  \"cluster_name\": \"docker-cluster\",\n",
      "  \"status\": \"yellow\",\n",
      "  \"timed_out\": false,\n",
      "  \"number_of_nodes\": 1,\n",
      "  \"number_of_data_nodes\": 1,\n",
      "  \"active_primary_shards\": 126,\n",
      "  \"active_shards\": 126,\n",
      "  \"relocating_shards\": 0,\n",
      "  \"initializing_shards\": 0,\n",
      "  \"unassigned_shards\": 126,\n",
      "  \"delayed_unassigned_shards\": 0,\n",
      "  \"number_of_pending_tasks\": 0,\n",
      "  \"number_of_in_flight_fetch\": 0,\n",
      "  \"task_max_waiting_in_queue_millis\": 0,\n",
      "  \"active_shards_percent_as_number\": 50.0\n",
      "}\n"
     ]
    }
   ],
   "source": [
    "resp = es_obj_s_client.cluster.health()\n",
    "print(json.dumps(resp, indent=2))"
   ]
  },
  {
   "cell_type": "code",
   "execution_count": 688,
   "id": "ccc8e16c-2758-485a-b15e-a398cedde561",
   "metadata": {},
   "outputs": [
    {
     "data": {
      "text/html": [
       "<div>\n",
       "<style scoped>\n",
       "    .dataframe tbody tr th:only-of-type {\n",
       "        vertical-align: middle;\n",
       "    }\n",
       "\n",
       "    .dataframe tbody tr th {\n",
       "        vertical-align: top;\n",
       "    }\n",
       "\n",
       "    .dataframe thead th {\n",
       "        text-align: right;\n",
       "    }\n",
       "</style>\n",
       "<table border=\"1\" class=\"dataframe\">\n",
       "  <thead>\n",
       "    <tr style=\"text-align: right;\">\n",
       "      <th></th>\n",
       "      <th>cluster_name</th>\n",
       "      <th>status</th>\n",
       "      <th>timed_out</th>\n",
       "      <th>number_of_nodes</th>\n",
       "      <th>number_of_data_nodes</th>\n",
       "      <th>active_primary_shards</th>\n",
       "      <th>active_shards</th>\n",
       "      <th>relocating_shards</th>\n",
       "      <th>initializing_shards</th>\n",
       "      <th>unassigned_shards</th>\n",
       "      <th>delayed_unassigned_shards</th>\n",
       "      <th>number_of_pending_tasks</th>\n",
       "      <th>number_of_in_flight_fetch</th>\n",
       "      <th>task_max_waiting_in_queue_millis</th>\n",
       "      <th>active_shards_percent_as_number</th>\n",
       "    </tr>\n",
       "  </thead>\n",
       "  <tbody>\n",
       "    <tr>\n",
       "      <th>0</th>\n",
       "      <td>docker-cluster</td>\n",
       "      <td>yellow</td>\n",
       "      <td>False</td>\n",
       "      <td>1</td>\n",
       "      <td>1</td>\n",
       "      <td>126</td>\n",
       "      <td>126</td>\n",
       "      <td>0</td>\n",
       "      <td>0</td>\n",
       "      <td>126</td>\n",
       "      <td>0</td>\n",
       "      <td>0</td>\n",
       "      <td>0</td>\n",
       "      <td>0</td>\n",
       "      <td>50.0</td>\n",
       "    </tr>\n",
       "  </tbody>\n",
       "</table>\n",
       "</div>"
      ],
      "text/plain": [
       "     cluster_name  status  timed_out  number_of_nodes  number_of_data_nodes  \\\n",
       "0  docker-cluster  yellow      False                1                     1   \n",
       "\n",
       "   active_primary_shards  active_shards  relocating_shards  \\\n",
       "0                    126            126                  0   \n",
       "\n",
       "   initializing_shards  unassigned_shards  delayed_unassigned_shards  \\\n",
       "0                    0                126                          0   \n",
       "\n",
       "   number_of_pending_tasks  number_of_in_flight_fetch  \\\n",
       "0                        0                          0   \n",
       "\n",
       "   task_max_waiting_in_queue_millis  active_shards_percent_as_number  \n",
       "0                                 0                             50.0  "
      ]
     },
     "execution_count": 688,
     "metadata": {},
     "output_type": "execute_result"
    }
   ],
   "source": [
    "df = pd.DataFrame.from_dict([resp])\n",
    "df.head(10)"
   ]
  },
  {
   "cell_type": "code",
   "execution_count": 689,
   "id": "d06a7e71-6a3e-4d08-a9d6-27305a9516cf",
   "metadata": {},
   "outputs": [
    {
     "name": "stdout",
     "output_type": "stream",
     "text": [
      "{\n",
      "  \"cluster_name\": \"docker-elasticsearch\",\n",
      "  \"status\": \"yellow\",\n",
      "  \"timed_out\": false,\n",
      "  \"number_of_nodes\": 1,\n",
      "  \"number_of_data_nodes\": 1,\n",
      "  \"active_primary_shards\": 81,\n",
      "  \"active_shards\": 81,\n",
      "  \"relocating_shards\": 0,\n",
      "  \"initializing_shards\": 0,\n",
      "  \"unassigned_shards\": 57,\n",
      "  \"delayed_unassigned_shards\": 0,\n",
      "  \"number_of_pending_tasks\": 0,\n",
      "  \"number_of_in_flight_fetch\": 0,\n",
      "  \"task_max_waiting_in_queue_millis\": 0,\n",
      "  \"active_shards_percent_as_number\": 58.69565217391305\n",
      "}\n"
     ]
    }
   ],
   "source": [
    "resp = es_obj_t_client.cluster.health()\n",
    "print(json.dumps(resp, indent=2))"
   ]
  },
  {
   "cell_type": "code",
   "execution_count": 690,
   "id": "89af1efa-a7af-4fd0-82f0-80abf5f6f1bd",
   "metadata": {},
   "outputs": [
    {
     "data": {
      "text/html": [
       "<div>\n",
       "<style scoped>\n",
       "    .dataframe tbody tr th:only-of-type {\n",
       "        vertical-align: middle;\n",
       "    }\n",
       "\n",
       "    .dataframe tbody tr th {\n",
       "        vertical-align: top;\n",
       "    }\n",
       "\n",
       "    .dataframe thead th {\n",
       "        text-align: right;\n",
       "    }\n",
       "</style>\n",
       "<table border=\"1\" class=\"dataframe\">\n",
       "  <thead>\n",
       "    <tr style=\"text-align: right;\">\n",
       "      <th></th>\n",
       "      <th>cluster_name</th>\n",
       "      <th>status</th>\n",
       "      <th>timed_out</th>\n",
       "      <th>number_of_nodes</th>\n",
       "      <th>number_of_data_nodes</th>\n",
       "      <th>active_primary_shards</th>\n",
       "      <th>active_shards</th>\n",
       "      <th>relocating_shards</th>\n",
       "      <th>initializing_shards</th>\n",
       "      <th>unassigned_shards</th>\n",
       "      <th>delayed_unassigned_shards</th>\n",
       "      <th>number_of_pending_tasks</th>\n",
       "      <th>number_of_in_flight_fetch</th>\n",
       "      <th>task_max_waiting_in_queue_millis</th>\n",
       "      <th>active_shards_percent_as_number</th>\n",
       "    </tr>\n",
       "  </thead>\n",
       "  <tbody>\n",
       "    <tr>\n",
       "      <th>0</th>\n",
       "      <td>docker-elasticsearch</td>\n",
       "      <td>yellow</td>\n",
       "      <td>False</td>\n",
       "      <td>1</td>\n",
       "      <td>1</td>\n",
       "      <td>81</td>\n",
       "      <td>81</td>\n",
       "      <td>0</td>\n",
       "      <td>0</td>\n",
       "      <td>57</td>\n",
       "      <td>0</td>\n",
       "      <td>0</td>\n",
       "      <td>0</td>\n",
       "      <td>0</td>\n",
       "      <td>58.695652</td>\n",
       "    </tr>\n",
       "  </tbody>\n",
       "</table>\n",
       "</div>"
      ],
      "text/plain": [
       "           cluster_name  status  timed_out  number_of_nodes  \\\n",
       "0  docker-elasticsearch  yellow      False                1   \n",
       "\n",
       "   number_of_data_nodes  active_primary_shards  active_shards  \\\n",
       "0                     1                     81             81   \n",
       "\n",
       "   relocating_shards  initializing_shards  unassigned_shards  \\\n",
       "0                  0                    0                 57   \n",
       "\n",
       "   delayed_unassigned_shards  number_of_pending_tasks  \\\n",
       "0                          0                        0   \n",
       "\n",
       "   number_of_in_flight_fetch  task_max_waiting_in_queue_millis  \\\n",
       "0                          0                                 0   \n",
       "\n",
       "   active_shards_percent_as_number  \n",
       "0                        58.695652  "
      ]
     },
     "execution_count": 690,
     "metadata": {},
     "output_type": "execute_result"
    }
   ],
   "source": [
    "df = pd.DataFrame.from_dict([resp])\n",
    "df.head(10)"
   ]
  },
  {
   "cell_type": "markdown",
   "id": "c79af4e5-c543-486b-8c4c-51866ff664b5",
   "metadata": {},
   "source": [
    "### Create ES Indices to ES v.8 from ES v.5 with transformation the custom mappings\n",
    "* Create ES Indices between two clusters\n",
    "* Custom mappings with ES v.7"
   ]
  },
  {
   "cell_type": "code",
   "execution_count": 691,
   "id": "5729f34b-8098-4d8e-98bc-2278fb0a17f6",
   "metadata": {},
   "outputs": [],
   "source": [
    "def get_es_api_alias(es_client):\n",
    "    ''' get all alias and set to dict'''\n",
    "    ''' https://localhost:9201/_cat/aliases?format=json '''\n",
    "    get_alias_old_cluster = es_client.indices.get_alias()\n",
    "    # print(f\"Get alias from old cluster : {json.dumps(get_alias_old_cluster, indent=2)}\")\n",
    "\n",
    "    reset_alias_dict = {}\n",
    "    for k in get_alias_old_cluster.keys():\n",
    "        if get_alias_old_cluster.get(k).get('aliases'):\n",
    "            each_alias = list(get_alias_old_cluster.get(k).get('aliases').keys())\n",
    "            # print(each_alias)\n",
    "            reset_alias_dict.update({k : each_alias})\n",
    "    # print(json.dumps(reset_alias_dict, indent=2))\n",
    "    # print(f\"get_es_api_alias : {reset_alias_dict}\")\n",
    "\n",
    "    return reset_alias_dict"
   ]
  },
  {
   "cell_type": "code",
   "execution_count": 692,
   "id": "fe4e0370-d796-4e97-82e9-7842331e8833",
   "metadata": {},
   "outputs": [],
   "source": [
    "def try_delete_create_index(es_t_client, index, mapping):\n",
    "        try:\n",
    "            # logging.info(mapping)\n",
    "            if es_t_client.indices.exists(index):\n",
    "                raise Exception(\"Index has already exist\")\n",
    "                # logging.info('Alreday exists : {}'.format(index))\n",
    "                # es_t_client.indices.delete(index)\n",
    "                \n",
    "            # now create a new index\n",
    "            es_t_client.indices.create(index=index, body=mapping)\n",
    "            # es_client.indices.put_alias(index, \"omnisearch_search\")\n",
    "            es_t_client.indices.refresh(index=index)\n",
    "            logging.info(\"Successfully created: {}\".format(index))\n",
    "            \n",
    "        except Exception as e:\n",
    "            logging.error(e)\n",
    "            pass"
   ]
  },
  {
   "cell_type": "code",
   "execution_count": 693,
   "id": "2d04ad9a-be59-4632-a873-9f0531028e88",
   "metadata": {},
   "outputs": [],
   "source": [
    "''' extact a list of indices from the source cluster'''\n",
    "source_idx_lists = es_obj_s_client.indices.get(\"*\")"
   ]
  },
  {
   "cell_type": "code",
   "execution_count": 694,
   "id": "41981d11-5059-4640-b812-44080535094e",
   "metadata": {},
   "outputs": [],
   "source": [
    "# print(source_idx_lists)"
   ]
  },
  {
   "cell_type": "code",
   "execution_count": 695,
   "id": "ec5046c1-fd86-4973-a41f-b72387002b32",
   "metadata": {},
   "outputs": [],
   "source": [
    "''' get Alias'''\n",
    "get_alias_dict = get_es_api_alias(es_obj_s_client)"
   ]
  },
  {
   "cell_type": "code",
   "execution_count": 696,
   "id": "e8573de2-99ed-4847-a8e4-bc58156e618a",
   "metadata": {},
   "outputs": [
    {
     "name": "stdout",
     "output_type": "stream",
     "text": [
      "{'es_pipeline_upload_test03152018_01': ['es_pipeline_upload_test']}\n"
     ]
    }
   ],
   "source": [
    "print(get_alias_dict)"
   ]
  },
  {
   "cell_type": "code",
   "execution_count": 697,
   "id": "3a41a4d0-25da-40d3-9283-b7471ccb47be",
   "metadata": {},
   "outputs": [],
   "source": [
    "def try_create_index(es_client, index, mapping):\n",
    "    try:\n",
    "        # logging.info(mapping)\n",
    "        if es_client.indices.exists(index):\n",
    "            raise Exception(\"raise Exception : Index has already exist\")\n",
    "            \n",
    "        # now create a new index\n",
    "        es_client.indices.create(index=index, body=mapping)\n",
    "        # es_client.indices.put_alias(index, \"omnisearch_search\")\n",
    "        es_client.indices.refresh(index=index)\n",
    "        print(\"Successfully created: {} to {}\".format(index, es_client))\n",
    "            \n",
    "    except Exception as e:\n",
    "        print(f\"try_create_index : \", e)\n",
    "        pass"
   ]
  },
  {
   "cell_type": "code",
   "execution_count": 698,
   "id": "8e8fed89-de9a-41d6-9dce-15c8f107f0f3",
   "metadata": {},
   "outputs": [],
   "source": [
    "def recursive_lookup(k, d):\n",
    "    if k in d:\n",
    "        return d[k]\n",
    "    for v in d.values():\n",
    "        if isinstance(v, dict):\n",
    "           return recursive_lookup(k, v)\n",
    "    return None"
   ]
  },
  {
   "cell_type": "code",
   "execution_count": 699,
   "id": "e85c6efc-9629-4b7f-9e72-857048841e76",
   "metadata": {},
   "outputs": [],
   "source": [
    "def get_mapping_from_es_v5_to_es_8(es_client, es_t_client, each_index):\n",
    "    try:\n",
    "        def replace_mapping_type_for_field(each_mapping):\n",
    "            ''' replace mapping if it needs'''\n",
    "             # if 'CONSOLIDATIONID' in json.dumps(each_mapping):\n",
    "             #     logging.info(f\"each_index - {each_index}, each_mapping : {each_mapping}\")\n",
    "                    \n",
    "            return json.loads(json.dumps(each_mapping).replace('\"CONSOLIDATIONID\": {\"type\": \"integer\"}','\"CONSOLIDATIONID\": {\"type\": \"double\"}')\n",
    "                                #   .replace('\"PRINTBATCHID\": {\"type\": \"integer\"}','\"PRINTBATCHID\": {\"type\": \"double\"}')\n",
    "                                  )\n",
    "    \n",
    "        def get_recursive_nested_all(d):\n",
    "            if isinstance(d, list):\n",
    "                for i in d:\n",
    "                    get_recursive_nested_all(i)\n",
    "            elif isinstance(d, dict):\n",
    "                for k, v in d.items():\n",
    "                    if not isinstance(v, (list, dict)):\n",
    "                        # print(\"%%%%\", k, v)\n",
    "                        if k == \"format\" and v == \"MM/dd/yyyy hh:mm:ss.SSSSSS a Z\":\n",
    "                            d[k] = \"MM/dd/yyyy hh:mm:ss.SSSSSS a z||MM/dd/yyyy hh:mm:ss.SSSSSS a Z\"\n",
    "                    else:\n",
    "                        get_recursive_nested_all(v)\n",
    "    \n",
    "            ''' unnecessary field should removed by this function like \"query\"'''\n",
    "            if 'query' in d:\n",
    "                del d['query']\n",
    "            return d\n",
    "    \n",
    "        # logging.info(f\"index : {each_index}, mapping = {json.dumps(es_client.indices.get_mapping(index=each_index), indent=2)}\")\n",
    "        each_mapping = es_client.indices.get_mapping(index=each_index)\n",
    "        ''' replace mapping type for specific field'''\n",
    "        each_mapping = replace_mapping_type_for_field(each_mapping)\n",
    "            \n",
    "        get_only_properties = recursive_lookup(\"properties\", each_mapping)\n",
    "        # logging.info(f\"mappings_get : {json.dumps(get_only_properties, indent=2)}\")\n",
    "    \n",
    "        idx_json.update({\n",
    "                            \"mappings\" : {\n",
    "                                \"properties\" : get_recursive_nested_all(get_only_properties)\n",
    "                            }\n",
    "                     }\n",
    "                )\n",
    "            \n",
    "        # print('\\n----')\n",
    "        # print(f\"idx_json : {json.dumps(idx_json, indent=2)}\")\n",
    "        # print('\\n----')\n",
    "                                \n",
    "        ''' Get the mappings with a specific index from source cluster and create index into new cluster as ts'''\n",
    "        try_create_index(es_t_client, \"{}{}\".format(Index_Prefix, each_index), idx_json)\n",
    "    except Exception as e:\n",
    "        print(f\"get_mapping_from_es_v5_to_es_8 : \", e)"
   ]
  },
  {
   "cell_type": "code",
   "execution_count": 700,
   "id": "37ee92c0-7422-47ff-a721-ad4a8b710457",
   "metadata": {},
   "outputs": [],
   "source": [
    "idx_json = {}\n",
    "migrated_total_indices_cnt = 0\n",
    "is_update_aliase = True\n",
    "Index_Prefix = \"\""
   ]
  },
  {
   "cell_type": "code",
   "execution_count": 701,
   "id": "fd755280-0c48-429f-b9cb-9049933a36e4",
   "metadata": {},
   "outputs": [],
   "source": [
    "def work(source_idx_lists, es_s_client, es_t_client):\n",
    "    global migrated_total_indices_cnt\n",
    "    ''' create index with mappping from ES v.5 after transforming'''\n",
    "    for each_index in source_idx_lists:\n",
    "        ''' exclude system indices in the source cluster such as .monitoring-es-7-2024.07.12'''\n",
    "        if '.' not in each_index:\n",
    "            if str(each_index).startswith(\"om_\") or str(each_index).startswith(\"wx_\") or str(each_index).startswith(\"es_\") or str(each_index).startswith(\"archive_\"):\n",
    "                    # print(f\"idx each_index : {each_index}\")\n",
    "                    get_mapping_from_es_v5_to_es_8(es_s_client, es_t_client, each_index)\n",
    "                    migrated_total_indices_cnt +=1\n",
    "\n",
    "    ''' update aliase to ES v.8'''\n",
    "    if is_update_aliase:\n",
    "        for each_index in source_idx_lists:\n",
    "                # print(f\"aliase each_index : {each_index}\")\n",
    "                if es_t_client.indices.exists(\"{}{}\".format(Index_Prefix, each_index)):\n",
    "                    if each_index in get_alias_dict.keys():\n",
    "                        # print(f\"Aliase Printout : {each_index}, {get_alias_dict.get(each_index)}\")\n",
    "                        response = es_t_client.indices.put_alias(\"{}{}\".format(Index_Prefix, each_index), ''.join(get_alias_dict.get(each_index)))\n",
    "                        print(f\"response : {response}\")\n",
    "                        print(f\"Success with indics : {each_index}, alias : {''.join(get_alias_dict.get(each_index))}\")"
   ]
  },
  {
   "cell_type": "code",
   "execution_count": 702,
   "id": "af000b88-0a63-457e-bc44-93bfb45c1c55",
   "metadata": {},
   "outputs": [
    {
     "name": "stdout",
     "output_type": "stream",
     "text": [
      "try_create_index :  raise Exception : Index has already exist\n",
      "try_create_index :  raise Exception : Index has already exist\n",
      "try_create_index :  raise Exception : Index has already exist\n",
      "try_create_index :  raise Exception : Index has already exist\n",
      "response : {'acknowledged': True}\n",
      "Success with indics : es_pipeline_upload_test03152018_01, alias : es_pipeline_upload_test\n"
     ]
    }
   ],
   "source": [
    "work(source_idx_lists, es_obj_s_client, es_obj_t_client)"
   ]
  },
  {
   "cell_type": "code",
   "execution_count": 703,
   "id": "895db671-e26c-4cf6-beb7-ac2781703745",
   "metadata": {},
   "outputs": [
    {
     "name": "stdout",
     "output_type": "stream",
     "text": [
      "Migrated Indices : 4\n"
     ]
    }
   ],
   "source": [
    "print(f\"Migrated Indices : {migrated_total_indices_cnt}\")           "
   ]
  }
 ],
 "metadata": {
  "kernelspec": {
   "display_name": "Python 3 (ipykernel)",
   "language": "python",
   "name": "python3"
  },
  "language_info": {
   "codemirror_mode": {
    "name": "ipython",
    "version": 3
   },
   "file_extension": ".py",
   "mimetype": "text/x-python",
   "name": "python",
   "nbconvert_exporter": "python",
   "pygments_lexer": "ipython3",
   "version": "3.11.7"
  }
 },
 "nbformat": 4,
 "nbformat_minor": 5
}
