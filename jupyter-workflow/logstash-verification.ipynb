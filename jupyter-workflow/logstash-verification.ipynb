{
 "cells": [
  {
   "cell_type": "code",
   "execution_count": 380,
   "id": "39552d4b-9395-4582-bc56-da43f8201e35",
   "metadata": {},
   "outputs": [
    {
     "name": "stdout",
     "output_type": "stream",
     "text": [
      "Logstash-Filebeat from the B&D Team to the ES Team\n"
     ]
    }
   ],
   "source": [
    "print(f\"Logstash-Filebeat from the B&D Team to the ES Team\")"
   ]
  },
  {
   "cell_type": "code",
   "execution_count": 381,
   "id": "496cbab6-561c-4087-8d4f-bd41c2748db7",
   "metadata": {},
   "outputs": [],
   "source": [
    "#!pip install elasticsearch==7.13.0"
   ]
  },
  {
   "cell_type": "code",
   "execution_count": 382,
   "id": "263b7668-d555-4080-9a03-c2e9ba16bdaa",
   "metadata": {},
   "outputs": [],
   "source": [
    "from elasticsearch import Elasticsearch\n",
    "import os\n",
    "import json\n",
    "import pandas as pd\n",
    "import jsondiff\n",
    "import logging\n",
    "from dotenv import load_dotenv\n",
    "import socket\n",
    "import requests\n",
    "import warnings\n",
    "warnings.filterwarnings(\"ignore\")"
   ]
  },
  {
   "cell_type": "code",
   "execution_count": 383,
   "id": "bf14d6ce-2cec-4e3a-8f64-5c64f02db4c0",
   "metadata": {},
   "outputs": [
    {
     "data": {
      "text/plain": [
       "True"
      ]
     },
     "execution_count": 383,
     "metadata": {},
     "output_type": "execute_result"
    }
   ],
   "source": [
    "''' pip install python-dotenv'''\n",
    "load_dotenv() # will search for .env file in local folder and load variables "
   ]
  },
  {
   "cell_type": "code",
   "execution_count": 384,
   "id": "04da31e9-9f1e-47d8-8268-a01555c46307",
   "metadata": {},
   "outputs": [],
   "source": [
    "def get_headers():\n",
    "    ''' Elasticsearch Header '''\n",
    "    return {\n",
    "            'Content-type': 'application/json', \n",
    "            'Authorization' : '{}'.format(os.getenv('BASIC_AUTH')),\n",
    "            # 'Connection': 'close'\n",
    "    }"
   ]
  },
  {
   "cell_type": "code",
   "execution_count": 385,
   "id": "d16b891a-fde9-4fc9-a6dc-84e0990728a6",
   "metadata": {},
   "outputs": [],
   "source": [
    "source_dict = {\n",
    "    # 'qa' : os.getenv('qa_env'),\n",
    "    'qa' : 'localhost|localhost:9200',\n",
    "    'prod' : os.getenv('prod_env'),\n",
    "}"
   ]
  },
  {
   "cell_type": "code",
   "execution_count": 386,
   "id": "94098469-9eba-4b17-a932-75ee06e47a9e",
   "metadata": {},
   "outputs": [],
   "source": [
    "env = 'qa'\n",
    "# env = 'prod'"
   ]
  },
  {
   "cell_type": "code",
   "execution_count": 387,
   "id": "1251409a-68bd-47b0-a601-a0b2bfa93b66",
   "metadata": {},
   "outputs": [],
   "source": [
    "def get_env_es_list():\n",
    "    host_lists_value = source_dict.get(env).split(\",\")\n",
    "    env_host_url = []\n",
    "    env_host_name = {}\n",
    "    for element in host_lists_value:\n",
    "        env_name = element.split('|')[0]\n",
    "        env_host_url_str = element.split('|')[1]\n",
    "        env_host_url.append(env_host_url_str)\n",
    "        env_host_name.update({env_host_url_str : env_name})\n",
    "    return env_host_url, env_host_name"
   ]
  },
  {
   "cell_type": "code",
   "execution_count": 388,
   "id": "b1ca499a-2c18-443b-b848-5536e9abf228",
   "metadata": {},
   "outputs": [],
   "source": [
    "env_host_url, env_host_name = get_env_es_list()"
   ]
  },
  {
   "cell_type": "code",
   "execution_count": 389,
   "id": "41cecdaa-c9a3-4d51-9b55-8955eba483b0",
   "metadata": {},
   "outputs": [
    {
     "name": "stdout",
     "output_type": "stream",
     "text": [
      "{'localhost:9200': 'localhost'}\n"
     ]
    }
   ],
   "source": [
    "# print(env_host_url)\n",
    "print(env_host_name)"
   ]
  },
  {
   "cell_type": "code",
   "execution_count": 390,
   "id": "e64e46c1-777a-47c3-9236-fe003a382e72",
   "metadata": {},
   "outputs": [],
   "source": [
    "df_dict = {\n",
    "    'env' : env_host_name.values(),\n",
    "    'hostname' : env_host_name.keys()\n",
    "}"
   ]
  },
  {
   "cell_type": "code",
   "execution_count": 391,
   "id": "e30e9393-fd5b-430b-8f87-2cd4450b33a2",
   "metadata": {},
   "outputs": [],
   "source": [
    "df = pd.DataFrame.from_dict(df_dict)\n",
    "# df.head(10)\n",
    "# display(df)"
   ]
  },
  {
   "cell_type": "code",
   "execution_count": null,
   "id": "40873e1c-d56c-4104-8fd6-c47f598611b0",
   "metadata": {},
   "outputs": [],
   "source": [
    "def get_es_instance(host):\n",
    "    es_client = Elasticsearch(hosts=\"{}\".format(host), headers=get_headers(), timeout=5,  verify_certs=False)\n",
    "    return es_client\n",
    "\n",
    "\n",
    "try:\n",
    "    df_indices_env_dict = {}\n",
    "    lookup_env, lookup_result = [], []\n",
    "    \n",
    "    ''' Source cluster '''\n",
    "    for es_host, env_name in env_host_name.items():\n",
    "        es_obj_s_client = get_es_instance(es_host)\n",
    "        # source_idx_lists = es_obj_s_client.indices.get(\"*\")\n",
    "        source_idx_lists = es_obj_s_client.cat.indices(index='logstash*', h='index', s='index:desc').split()\n",
    "        # print(source_idx_lists)\n",
    "        if len(source_idx_lists) > 0:\n",
    "            lookup_env.append(env_name)\n",
    "            lookup_result.append('Exist')\n",
    "        # break\n",
    "except Exception as e:\n",
    "    print(e)"
   ]
  },
  {
   "cell_type": "code",
   "execution_count": null,
   "id": "20c8411d-9e79-4495-943d-f39867c8f091",
   "metadata": {},
   "outputs": [],
   "source": [
    "df_indices_env_dict.update({\n",
    "            'env' : lookup_env,\n",
    "            'result' : lookup_result\n",
    "})"
   ]
  },
  {
   "cell_type": "code",
   "execution_count": null,
   "id": "a00a991f-2276-4300-b84f-abbbce2d759e",
   "metadata": {},
   "outputs": [],
   "source": [
    "df = pd.DataFrame.from_dict(df_indices_env_dict)\n",
    "# df.head(10)\n",
    "display(df)"
   ]
  }
 ],
 "metadata": {
  "kernelspec": {
   "display_name": "Python 3 (ipykernel)",
   "language": "python",
   "name": "python3"
  },
  "language_info": {
   "codemirror_mode": {
    "name": "ipython",
    "version": 3
   },
   "file_extension": ".py",
   "mimetype": "text/x-python",
   "name": "python",
   "nbconvert_exporter": "python",
   "pygments_lexer": "ipython3",
   "version": "3.9.0"
  }
 },
 "nbformat": 4,
 "nbformat_minor": 5
}
